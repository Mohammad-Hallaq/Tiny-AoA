{
 "cells": [
  {
   "cell_type": "code",
   "execution_count": 1,
   "metadata": {},
   "outputs": [],
   "source": [
    "import os\n",
    "import torch\n",
    "import torch.nn.functional as F\n",
    "from torch.utils.data import DataLoader, TensorDataset\n",
    "import numpy as np\n",
    "import matplotlib.pyplot as plt\n",
    "from torchsummary import summary\n",
    "import torch_pruning as tp\n",
    "from mobilenetv3 import mobilenetv3\n",
    "from collections import defaultdict\n",
    "import time\n",
    "import pandas as pd\n",
    "from sklearn.model_selection import train_test_split\n",
    "import pytorch_lightning as L\n",
    "import h5py\n",
    "from torch.utils.data import Dataset\n",
    "import copy\n",
    "import torch.nn as nn \n",
    "from tqdm import tqdm\n",
    "from torchinfo import summary\n",
    "import csv\n",
    "from torch.profiler import profile"
   ]
  },
  {
   "cell_type": "code",
   "execution_count": 3,
   "metadata": {},
   "outputs": [],
   "source": [
    "# Free up cached memory\n",
    "torch.cuda.empty_cache()\n",
    "\n",
    "# Clear all the gradients\n",
    "torch.cuda.reset_max_memory_allocated()"
   ]
  },
  {
   "cell_type": "code",
   "execution_count": 2,
   "metadata": {},
   "outputs": [],
   "source": [
    "class RFClassifier(L.LightningModule):\n",
    "    def __init__(self, model):\n",
    "        super().__init__()\n",
    "        self.model = model\n",
    "        self.lr = 3e-4\n",
    "        self.lr_ignored = 3e-4  # Learning rate for ignored layers\n",
    "\n",
    "    def forward(self, x):\n",
    "        return self.model(x)\n",
    "\n",
    "    def configure_optimizers(self):\n",
    "        # Initialize lists for different parameter groups\n",
    "        ignored_layers_params = []\n",
    "        other_layers_params = []\n",
    "\n",
    "        # Collect parameters of specific layers based on layer names and conditions\n",
    "        ignored_params_set = set()\n",
    "        for name, m in self.model.named_modules():\n",
    "            if any(name.startswith(f'blocks.{i}') for i in range(3)) or (isinstance(m, torch.nn.Linear) and m.out_features == 2):\n",
    "                ignored_layers_params += list(m.parameters())\n",
    "                ignored_params_set.update(m.parameters())  # Add to set to avoid duplicates\n",
    "\n",
    "        # Other parameters: Exclude the ignored layers' parameters\n",
    "        other_layers_params = [p for p in self.model.parameters() if p not in ignored_params_set]\n",
    "\n",
    "        # Create the optimizer with different learning rates for different parameter groups\n",
    "        optimizer = torch.optim.AdamW([\n",
    "            {'params': ignored_layers_params, 'lr': self.lr_ignored},  # Lower learning rate for ignored layers\n",
    "            {'params': other_layers_params, 'lr': self.lr}  # Default learning rate for other layers\n",
    "        ], weight_decay=0)\n",
    "\n",
    "        # Learning rate scheduler\n",
    "        lr_scheduler = torch.optim.lr_scheduler.CosineAnnealingWarmRestarts(optimizer, T_0=1)\n",
    "\n",
    "        return {'optimizer': optimizer, 'lr_scheduler': {'scheduler': lr_scheduler, 'interval': 'step'}}\n",
    "\n",
    "    def training_step(self, batch, batch_idx):\n",
    "        x, y = batch\n",
    "        y_hat = self(x)\n",
    "        loss = F.mse_loss(y_hat, y)\n",
    "        self.log('train_loss', loss, on_epoch=True, prog_bar=True)\n",
    "        return loss\n",
    "\n",
    "    def validation_step(self, batch, batch_idx):\n",
    "        x, y = batch\n",
    "        y_hat = self(x)\n",
    "        loss = F.mse_loss(y_hat, y)\n",
    "        self.log('val_loss', loss, prog_bar=True)\n",
    "\n",
    "    def test_step(self, batch, batch_idx):\n",
    "        x, y = batch\n",
    "        y_hat = self(x)\n",
    "        loss = F.mse_loss(y_hat, y)\n",
    "        self.log('test_loss', loss, prog_bar=True)"
   ]
  },
  {
   "cell_type": "code",
   "execution_count": 3,
   "metadata": {},
   "outputs": [],
   "source": [
    "class CustomCheckpoint(L.Callback):\n",
    "    def __init__(self):\n",
    "        super().__init__()\n",
    "        self.best_val_loss = float('inf')\n",
    "        self.best_model = None\n",
    "\n",
    "    def on_validation_end(self, trainer, pl_module):\n",
    "        # Access validation loss from the trainer's metrics\n",
    "        val_loss = trainer.callback_metrics.get('val_loss')\n",
    "        if val_loss is not None and val_loss < self.best_val_loss:\n",
    "            self.best_val_loss = val_loss\n",
    "            self.best_model = pl_module.model\n",
    "            # Save the best model\n",
    "            torch.save(self.best_model, 'pruning_results/best_model.pth')\n",
    "            print(f\"New best model saved with validation loss {val_loss:.4f}\")\n"
   ]
  },
  {
   "cell_type": "code",
   "execution_count": 4,
   "metadata": {},
   "outputs": [],
   "source": [
    "class R22_H5_Dataset(Dataset):\n",
    "    def __init__(self, data_file, label='label', iqlabel='iq_data'):\n",
    "        self.data_file = data_file\n",
    "        self.label = label\n",
    "        self.iqlabel = iqlabel\n",
    "\n",
    "    def __len__(self):\n",
    "        with h5py.File(self.data_file, 'r') as f:\n",
    "            length = len(f[self.label])\n",
    "        return length\n",
    "\n",
    "    def __getitem__(self, idx):\n",
    "        with h5py.File(self.data_file, 'r') as f:\n",
    "            iq_data = f[self.iqlabel][idx]\n",
    "            label = f[self.label][idx]\n",
    "        return iq_data, label\n",
    "    \n",
    "    def get_metadata(self, idx):\n",
    "        with h5py.File(self.data_file, 'r') as f:\n",
    "            metadata = {\n",
    "                'recording': f['recording'][idx].decode('utf-8)'),\n",
    "                'category': f['category'][idx].decode('utf-8)')\n",
    "            }\n",
    "        return metadata\n"
   ]
  },
  {
   "cell_type": "code",
   "execution_count": 5,
   "metadata": {},
   "outputs": [],
   "source": [
    "def prune_model(trained_model, prune_method, prune_amount, train_loader):\n",
    "\n",
    "    # torch.manual_seed(80) \n",
    "    model =  copy.deepcopy(trained_model)\n",
    "    device = 'cuda:2' if torch.cuda.is_available() else 'cpu'\n",
    "    model.to(device)\n",
    "\n",
    "    example_length = 4096\n",
    "\n",
    "    if prune_method == 'channel_pruning_Taylor_importance':\n",
    "        imp = tp.importance.TaylorImportance() \n",
    "\n",
    "        ignored_layers_group1 = []\n",
    "\n",
    "        for name, m in model.named_modules():\n",
    "            # Check if the module is within Sequential(3), Sequential(4), Sequential(5) or the classifier\n",
    "            if any(name.startswith(f'blocks.{i}') for i in range(3)) or (isinstance(m, torch.nn.Linear) and m.out_features == 2):\n",
    "                ignored_layers_group1.append(m)\n",
    "\n",
    "        ignored_layers_group2 = []\n",
    "    \n",
    "        for name, m in model.named_modules():\n",
    "            # Check if the module is within Sequential(0), Sequential(1), Sequential(2) or the classifier\n",
    "            if any(name.startswith(f'blocks.{i+3}') for i in range(3)) or (isinstance(m, torch.nn.Linear) and m.out_features == 2):\n",
    "                ignored_layers_group2.append(m) \n",
    "\n",
    "        batch = next(iter(train_loader))\n",
    "        x, y = batch\n",
    "        x = x.to(device)\n",
    "       \n",
    "        iterative_steps = 1\n",
    "        pruner_group1 = tp.pruner.MagnitudePruner( \n",
    "            model,\n",
    "            example_inputs=x,\n",
    "            importance=imp,\n",
    "            pruning_ratio=prune_amount, \n",
    "            ignored_layers=ignored_layers_group1,\n",
    "            iterative_steps= iterative_steps,\n",
    "        )\n",
    "\n",
    "        pruner_group2 = tp.pruner.MagnitudePruner( \n",
    "            model,\n",
    "            example_inputs=x,\n",
    "            importance=imp,\n",
    "            pruning_ratio=0.5, \n",
    "            ignored_layers=ignored_layers_group2,\n",
    "            iterative_steps= iterative_steps,\n",
    "        )\n",
    "\n",
    "        # prune the model, iteratively if necessary.\n",
    "        for i in range(iterative_steps):\n",
    "            if isinstance(imp, tp.importance.TaylorImportance):\n",
    "                x, y = batch\n",
    "                x = x.to(device)\n",
    "                y = y.to(device)\n",
    "                y_hat = model(x)\n",
    "                loss = F.mse_loss(y_hat, y)\n",
    "                loss.backward()\n",
    "\n",
    "            pruner_group1.step()\n",
    "            pruner_group2.step()\n",
    "\n",
    "    # Free up GPU memory\n",
    "    del x, y, batch  # Remove any tensors on the GPU\n",
    "\n",
    "    torch.cuda.empty_cache()  # Clear the cache\n",
    "\n",
    "    return model"
   ]
  },
  {
   "cell_type": "code",
   "execution_count": 6,
   "metadata": {},
   "outputs": [],
   "source": [
    "# original_model_checkpoint = 'august22_beam_t.ckpt'\n",
    "original_model_checkpoint = 'checkpoint_sep_data_model_state'"
   ]
  },
  {
   "cell_type": "code",
   "execution_count": 6,
   "metadata": {},
   "outputs": [],
   "source": [
    "train_data = '/shared/sepData_train.h5'\n",
    "val_data = '/shared/sepData_val.h5'\n",
    "test_data = '/shared/sepData_test.h5'\n",
    "# checkpoint_dir = '/home/mohammad.hallaq/workarea/MobileNet_compression/checkpoints-Copy2'\n",
    "# checkpoint_filename = os.path.join(checkpoint_dir, 'august22_beam_t.ckpt')\n",
    "# checkpoint =torch.load(checkpoint_filename)\n",
    "checkpoint_dir = '/home/mohammad.hallaq/workarea/MobileNet_compression/sep_dataset_checkpoint'\n",
    "checkpoint_filename = os.path.join(checkpoint_dir, 'checkpoint_sep_data_model_state.ckpt')\n",
    "checkpoint =torch.load(checkpoint_filename)"
   ]
  },
  {
   "cell_type": "code",
   "execution_count": 7,
   "metadata": {},
   "outputs": [],
   "source": [
    "example_length = 4096\n",
    "batch_size = 256\n",
    "epochs =30\n",
    "\n",
    "hparams = {\n",
    "    'drop_path_rate': 0.2,\n",
    "    'drop_rate': 0.7,\n",
    "    'learning_rate': 1e-3,\n",
    "    'wd': 0.01\n",
    "}"
   ]
  },
  {
   "cell_type": "code",
   "execution_count": 8,
   "metadata": {},
   "outputs": [],
   "source": [
    "def train_model_with_pruning(trained_model, pruning_method, model_name_suffix, train_loader, val_loader, prune_amount):\n",
    "    checkpoint_filename = f\"pruning_results/model_pruned_{model_name_suffix}_amount_{prune_amount}.ckpt\"\n",
    "    final_model_path = f'pruning_results/model_final_pruned_{model_name_suffix}_amount_{prune_amount}.pth'\n",
    "\n",
    "   \n",
    "    if os.path.exists(checkpoint_filename) or os.path.exists(final_model_path):\n",
    "        print(f\"Model {model_name_suffix} at {prune_amount * 100}% pruning already exists. Skipping training.\")\n",
    "        return\n",
    "\n",
    "    pruned_model = prune_model(trained_model, pruning_method, prune_amount, train_loader)\n",
    "\n",
    "    rf_classifier = RFClassifier(pruned_model)\n",
    "\n",
    "    checkpoint_callback = L.callbacks.ModelCheckpoint(\n",
    "        dirpath='.',\n",
    "        filename=checkpoint_filename.replace(\".ckpt\", \"\"),\n",
    "        save_top_k=1,\n",
    "        verbose=True,\n",
    "        monitor='val_loss',\n",
    "        mode='min'\n",
    "    )\n",
    "    \n",
    "    # Create the custom callback\n",
    "    custom_checkpoint = CustomCheckpoint()\n",
    "\n",
    "    trainer = L.Trainer(\n",
    "        max_epochs=30,\n",
    "        callbacks=[checkpoint_callback, custom_checkpoint],\n",
    "        accelerator='gpu',\n",
    "        devices=[2],\n",
    "        benchmark=True,\n",
    "        precision='32-true',\n",
    "    )\n",
    "\n",
    "    print(f\"Training the model with {pruning_method} applied at {prune_amount * 100}%...\")\n",
    "    trainer.fit(rf_classifier, train_loader, val_loader)\n",
    "\n",
    "    torch.save(rf_classifier.model, final_model_path)\n",
    "\n",
    "    print(f\"Model {pruning_method} at {prune_amount * 100}% pruning saved. \")\n"
   ]
  },
  {
   "cell_type": "code",
   "execution_count": 10,
   "metadata": {},
   "outputs": [],
   "source": [
    "# train_data = '/home/mohammad.hallaq/workarea/AoA-Pruning/data_h5py_files/r22_train.h5'\n",
    "# val_data = '/home/mohammad.hallaq/workarea/AoA-Pruning/data_h5py_files/r22_test.h5'"
   ]
  },
  {
   "cell_type": "code",
   "execution_count": 9,
   "metadata": {},
   "outputs": [],
   "source": [
    "# example_length = 4096\n",
    "# batch_size = 128\n",
    "# epochs =30"
   ]
  },
  {
   "cell_type": "code",
   "execution_count": 9,
   "metadata": {},
   "outputs": [
    {
     "ename": "PermissionError",
     "evalue": "[Errno 13] Unable to synchronously open file (unable to open file: name = '/shared/sepData_train.h5', errno = 13, error message = 'Permission denied', flags = 0, o_flags = 0)",
     "output_type": "error",
     "traceback": [
      "\u001b[0;31m---------------------------------------------------------------------------\u001b[0m",
      "\u001b[0;31mPermissionError\u001b[0m                           Traceback (most recent call last)",
      "Cell \u001b[0;32mIn[9], line 4\u001b[0m\n\u001b[1;32m      2\u001b[0m val_set \u001b[38;5;241m=\u001b[39m R22_H5_Dataset(val_data)\n\u001b[1;32m      3\u001b[0m test_set \u001b[38;5;241m=\u001b[39m R22_H5_Dataset(test_data)\n\u001b[0;32m----> 4\u001b[0m \u001b[38;5;28mprint\u001b[39m(\u001b[38;5;124mf\u001b[39m\u001b[38;5;124m'\u001b[39m\u001b[38;5;124mTraining Set: \u001b[39m\u001b[38;5;132;01m{\u001b[39;00m\u001b[38;5;28;43mlen\u001b[39;49m\u001b[43m(\u001b[49m\u001b[43mtrain_set\u001b[49m\u001b[43m)\u001b[49m\u001b[38;5;132;01m}\u001b[39;00m\u001b[38;5;124m examples\u001b[39m\u001b[38;5;124m'\u001b[39m)\n\u001b[1;32m      5\u001b[0m \u001b[38;5;28mprint\u001b[39m(\u001b[38;5;124mf\u001b[39m\u001b[38;5;124m'\u001b[39m\u001b[38;5;124mValidation Set: \u001b[39m\u001b[38;5;132;01m{\u001b[39;00m\u001b[38;5;28mlen\u001b[39m(val_set)\u001b[38;5;132;01m}\u001b[39;00m\u001b[38;5;124m examples\u001b[39m\u001b[38;5;124m'\u001b[39m)\n\u001b[1;32m      6\u001b[0m \u001b[38;5;28mprint\u001b[39m(\u001b[38;5;124mf\u001b[39m\u001b[38;5;124m'\u001b[39m\u001b[38;5;124mTesting Set: \u001b[39m\u001b[38;5;132;01m{\u001b[39;00m\u001b[38;5;28mlen\u001b[39m(test_set)\u001b[38;5;132;01m}\u001b[39;00m\u001b[38;5;124m examples\u001b[39m\u001b[38;5;124m'\u001b[39m)\n",
      "Cell \u001b[0;32mIn[4], line 8\u001b[0m, in \u001b[0;36mR22_H5_Dataset.__len__\u001b[0;34m(self)\u001b[0m\n\u001b[1;32m      7\u001b[0m \u001b[38;5;28;01mdef\u001b[39;00m \u001b[38;5;21m__len__\u001b[39m(\u001b[38;5;28mself\u001b[39m):\n\u001b[0;32m----> 8\u001b[0m     \u001b[38;5;28;01mwith\u001b[39;00m \u001b[43mh5py\u001b[49m\u001b[38;5;241;43m.\u001b[39;49m\u001b[43mFile\u001b[49m\u001b[43m(\u001b[49m\u001b[38;5;28;43mself\u001b[39;49m\u001b[38;5;241;43m.\u001b[39;49m\u001b[43mdata_file\u001b[49m\u001b[43m,\u001b[49m\u001b[43m \u001b[49m\u001b[38;5;124;43m'\u001b[39;49m\u001b[38;5;124;43mr\u001b[39;49m\u001b[38;5;124;43m'\u001b[39;49m\u001b[43m)\u001b[49m \u001b[38;5;28;01mas\u001b[39;00m f:\n\u001b[1;32m      9\u001b[0m         length \u001b[38;5;241m=\u001b[39m \u001b[38;5;28mlen\u001b[39m(f[\u001b[38;5;28mself\u001b[39m\u001b[38;5;241m.\u001b[39mlabel])\n\u001b[1;32m     10\u001b[0m     \u001b[38;5;28;01mreturn\u001b[39;00m length\n",
      "File \u001b[0;32m~/workarea/venv/lib/python3.10/site-packages/h5py/_hl/files.py:562\u001b[0m, in \u001b[0;36mFile.__init__\u001b[0;34m(self, name, mode, driver, libver, userblock_size, swmr, rdcc_nslots, rdcc_nbytes, rdcc_w0, track_order, fs_strategy, fs_persist, fs_threshold, fs_page_size, page_buf_size, min_meta_keep, min_raw_keep, locking, alignment_threshold, alignment_interval, meta_block_size, **kwds)\u001b[0m\n\u001b[1;32m    553\u001b[0m     fapl \u001b[38;5;241m=\u001b[39m make_fapl(driver, libver, rdcc_nslots, rdcc_nbytes, rdcc_w0,\n\u001b[1;32m    554\u001b[0m                      locking, page_buf_size, min_meta_keep, min_raw_keep,\n\u001b[1;32m    555\u001b[0m                      alignment_threshold\u001b[38;5;241m=\u001b[39malignment_threshold,\n\u001b[1;32m    556\u001b[0m                      alignment_interval\u001b[38;5;241m=\u001b[39malignment_interval,\n\u001b[1;32m    557\u001b[0m                      meta_block_size\u001b[38;5;241m=\u001b[39mmeta_block_size,\n\u001b[1;32m    558\u001b[0m                      \u001b[38;5;241m*\u001b[39m\u001b[38;5;241m*\u001b[39mkwds)\n\u001b[1;32m    559\u001b[0m     fcpl \u001b[38;5;241m=\u001b[39m make_fcpl(track_order\u001b[38;5;241m=\u001b[39mtrack_order, fs_strategy\u001b[38;5;241m=\u001b[39mfs_strategy,\n\u001b[1;32m    560\u001b[0m                      fs_persist\u001b[38;5;241m=\u001b[39mfs_persist, fs_threshold\u001b[38;5;241m=\u001b[39mfs_threshold,\n\u001b[1;32m    561\u001b[0m                      fs_page_size\u001b[38;5;241m=\u001b[39mfs_page_size)\n\u001b[0;32m--> 562\u001b[0m     fid \u001b[38;5;241m=\u001b[39m \u001b[43mmake_fid\u001b[49m\u001b[43m(\u001b[49m\u001b[43mname\u001b[49m\u001b[43m,\u001b[49m\u001b[43m \u001b[49m\u001b[43mmode\u001b[49m\u001b[43m,\u001b[49m\u001b[43m \u001b[49m\u001b[43muserblock_size\u001b[49m\u001b[43m,\u001b[49m\u001b[43m \u001b[49m\u001b[43mfapl\u001b[49m\u001b[43m,\u001b[49m\u001b[43m \u001b[49m\u001b[43mfcpl\u001b[49m\u001b[43m,\u001b[49m\u001b[43m \u001b[49m\u001b[43mswmr\u001b[49m\u001b[38;5;241;43m=\u001b[39;49m\u001b[43mswmr\u001b[49m\u001b[43m)\u001b[49m\n\u001b[1;32m    564\u001b[0m \u001b[38;5;28;01mif\u001b[39;00m \u001b[38;5;28misinstance\u001b[39m(libver, \u001b[38;5;28mtuple\u001b[39m):\n\u001b[1;32m    565\u001b[0m     \u001b[38;5;28mself\u001b[39m\u001b[38;5;241m.\u001b[39m_libver \u001b[38;5;241m=\u001b[39m libver\n",
      "File \u001b[0;32m~/workarea/venv/lib/python3.10/site-packages/h5py/_hl/files.py:235\u001b[0m, in \u001b[0;36mmake_fid\u001b[0;34m(name, mode, userblock_size, fapl, fcpl, swmr)\u001b[0m\n\u001b[1;32m    233\u001b[0m     \u001b[38;5;28;01mif\u001b[39;00m swmr \u001b[38;5;129;01mand\u001b[39;00m swmr_support:\n\u001b[1;32m    234\u001b[0m         flags \u001b[38;5;241m|\u001b[39m\u001b[38;5;241m=\u001b[39m h5f\u001b[38;5;241m.\u001b[39mACC_SWMR_READ\n\u001b[0;32m--> 235\u001b[0m     fid \u001b[38;5;241m=\u001b[39m \u001b[43mh5f\u001b[49m\u001b[38;5;241;43m.\u001b[39;49m\u001b[43mopen\u001b[49m\u001b[43m(\u001b[49m\u001b[43mname\u001b[49m\u001b[43m,\u001b[49m\u001b[43m \u001b[49m\u001b[43mflags\u001b[49m\u001b[43m,\u001b[49m\u001b[43m \u001b[49m\u001b[43mfapl\u001b[49m\u001b[38;5;241;43m=\u001b[39;49m\u001b[43mfapl\u001b[49m\u001b[43m)\u001b[49m\n\u001b[1;32m    236\u001b[0m \u001b[38;5;28;01melif\u001b[39;00m mode \u001b[38;5;241m==\u001b[39m \u001b[38;5;124m'\u001b[39m\u001b[38;5;124mr+\u001b[39m\u001b[38;5;124m'\u001b[39m:\n\u001b[1;32m    237\u001b[0m     fid \u001b[38;5;241m=\u001b[39m h5f\u001b[38;5;241m.\u001b[39mopen(name, h5f\u001b[38;5;241m.\u001b[39mACC_RDWR, fapl\u001b[38;5;241m=\u001b[39mfapl)\n",
      "File \u001b[0;32mh5py/_objects.pyx:54\u001b[0m, in \u001b[0;36mh5py._objects.with_phil.wrapper\u001b[0;34m()\u001b[0m\n",
      "File \u001b[0;32mh5py/_objects.pyx:55\u001b[0m, in \u001b[0;36mh5py._objects.with_phil.wrapper\u001b[0;34m()\u001b[0m\n",
      "File \u001b[0;32mh5py/h5f.pyx:102\u001b[0m, in \u001b[0;36mh5py.h5f.open\u001b[0;34m()\u001b[0m\n",
      "\u001b[0;31mPermissionError\u001b[0m: [Errno 13] Unable to synchronously open file (unable to open file: name = '/shared/sepData_train.h5', errno = 13, error message = 'Permission denied', flags = 0, o_flags = 0)"
     ]
    }
   ],
   "source": [
    "train_set = R22_H5_Dataset(train_data)\n",
    "val_set = R22_H5_Dataset(val_data)\n",
    "test_set = R22_H5_Dataset(test_data)\n",
    "print(f'Training Set: {len(train_set)} examples')\n",
    "print(f'Validation Set: {len(val_set)} examples')\n",
    "print(f'Testing Set: {len(test_set)} examples')\n",
    "\n",
    "num_classes = train_set[0][1].shape[0]\n",
    "\n",
    "train_loader = torch.utils.data.DataLoader(\n",
    "    dataset=train_set,\n",
    "    batch_size=batch_size,\n",
    "    shuffle=True,\n",
    "    num_workers=8,\n",
    "    )\n",
    "val_loader = torch.utils.data.DataLoader(\n",
    "    dataset=val_set,\n",
    "    batch_size=128,\n",
    "    shuffle=False,\n",
    "    num_workers=8\n",
    "    )\n",
    "test_loader = torch.utils.data.DataLoader(\n",
    "    dataset=test_set,\n",
    "    batch_size=128,\n",
    "    shuffle=False,\n",
    "    num_workers=8\n",
    "    )"
   ]
  },
  {
   "cell_type": "code",
   "execution_count": 10,
   "metadata": {},
   "outputs": [],
   "source": [
    "original_model = mobilenetv3(\n",
    "    model_size='mobilenetv3_small_050',\n",
    "    num_classes=num_classes,\n",
    "    drop_rate=hparams['drop_rate'],\n",
    "    drop_path_rate=hparams['drop_path_rate'],\n",
    "    in_chans=8\n",
    ")\n",
    "\n",
    "# rf_classifier = RFClassifier.load_from_checkpoint(original_model_checkpoint, model=model)\n",
    "\n",
    "# rf_classifier.to('cuda' if torch.cuda.is_available() else 'cpu')\n"
   ]
  },
  {
   "cell_type": "code",
   "execution_count": 11,
   "metadata": {},
   "outputs": [],
   "source": [
    "def remove_prefix_from_state_dict(state_dict, prefix='model.'):\n",
    "\n",
    "    new_state_dict = {}\n",
    "    for k, v in state_dict.items():\n",
    "        if k.startswith(prefix):\n",
    "            new_state_dict[k[len(prefix):]] = v\n",
    "        else:\n",
    "            new_state_dict[k] = v\n",
    "    return new_state_dict"
   ]
  },
  {
   "cell_type": "code",
   "execution_count": 12,
   "metadata": {},
   "outputs": [
    {
     "data": {
      "text/plain": [
       "<All keys matched successfully>"
      ]
     },
     "execution_count": 12,
     "metadata": {},
     "output_type": "execute_result"
    }
   ],
   "source": [
    "checkpoint['state_dict'] = remove_prefix_from_state_dict(checkpoint['state_dict'], prefix='model.')\n",
    "\n",
    "original_model.load_state_dict(checkpoint['state_dict'])\n",
    "\n",
    "# checkpoint = remove_prefix_from_state_dict(checkpoint, prefix='model.')\n",
    "\n",
    "# original_model.load_state_dict(checkpoint)"
   ]
  },
  {
   "cell_type": "code",
   "execution_count": 13,
   "metadata": {},
   "outputs": [],
   "source": [
    "pruning_methods = ['channel_pruning_Taylor_importance']\n",
    "pruning_amounts = [0.95]  "
   ]
  },
  {
   "cell_type": "code",
   "execution_count": 15,
   "metadata": {},
   "outputs": [
    {
     "name": "stdout",
     "output_type": "stream",
     "text": [
      "MACs: 0.004203558 G, #Params: 20.087 K\n"
     ]
    }
   ],
   "source": [
    "pruned_model = prune_model(original_model, pruning_methods[0], pruning_amounts[0], train_loader)\n",
    "# Free up cached memory\n",
    "torch.cuda.empty_cache()\n",
    "example_inputs = torch.randn(1, 8, 4096)\n",
    "example_inputs = example_inputs.to('cuda:2')  \n",
    "macs, nparams = tp.utils.count_ops_and_params(pruned_model, example_inputs)\n",
    "print(f\"MACs: {macs/1e9} G, #Params: {nparams/1e3} K\")"
   ]
  },
  {
   "cell_type": "code",
   "execution_count": 16,
   "metadata": {},
   "outputs": [
    {
     "name": "stderr",
     "output_type": "stream",
     "text": [
      "GPU available: True (cuda), used: True\n",
      "TPU available: False, using: 0 TPU cores\n",
      "HPU available: False, using: 0 HPUs\n",
      "/home/mohammad.hallaq/workarea/venv/lib/python3.10/site-packages/pytorch_lightning/callbacks/model_checkpoint.py:654: Checkpoint directory /home/mohammad.hallaq/workarea/MobileNet_compression exists and is not empty.\n",
      "LOCAL_RANK: 0 - CUDA_VISIBLE_DEVICES: [0,1,2,3]\n",
      "/home/mohammad.hallaq/workarea/venv/lib/python3.10/site-packages/torch/_compile.py:24: UserWarning: optimizer contains a parameter group with duplicate parameters; in future, this will cause an error; see github.com/pytorch/pytorch/issues/40967 for more information\n",
      "  return torch._dynamo.disable(fn, recursive)(*args, **kwargs)\n",
      "\n",
      "  | Name  | Type        | Params | Mode\n",
      "---------------------------------------------\n",
      "0 | model | MobileNetV3 | 20.1 K | eval\n",
      "---------------------------------------------\n",
      "20.1 K    Trainable params\n",
      "0         Non-trainable params\n",
      "20.1 K    Total params\n",
      "0.080     Total estimated model params size (MB)\n",
      "0         Modules in train mode\n",
      "258       Modules in eval mode\n"
     ]
    },
    {
     "name": "stdout",
     "output_type": "stream",
     "text": [
      "Training the model with channel_pruning_Taylor_importance applied at 95.0%...\n"
     ]
    },
    {
     "data": {
      "application/vnd.jupyter.widget-view+json": {
       "model_id": "68cdce924f044c92ba63a4aff3afe95f",
       "version_major": 2,
       "version_minor": 0
      },
      "text/plain": [
       "Sanity Checking: |          | 0/? [00:00<?, ?it/s]"
      ]
     },
     "metadata": {},
     "output_type": "display_data"
    },
    {
     "name": "stdout",
     "output_type": "stream",
     "text": [
      "New best model saved with validation loss 1143.7858\n"
     ]
    },
    {
     "data": {
      "application/vnd.jupyter.widget-view+json": {
       "model_id": "0dc80f7c7a3e4cb28b36c05b23f27632",
       "version_major": 2,
       "version_minor": 0
      },
      "text/plain": [
       "Training: |          | 0/? [00:00<?, ?it/s]"
      ]
     },
     "metadata": {},
     "output_type": "display_data"
    },
    {
     "data": {
      "application/vnd.jupyter.widget-view+json": {
       "model_id": "8734e804298c4e1186a5452007a62bac",
       "version_major": 2,
       "version_minor": 0
      },
      "text/plain": [
       "Validation: |          | 0/? [00:00<?, ?it/s]"
      ]
     },
     "metadata": {},
     "output_type": "display_data"
    },
    {
     "name": "stderr",
     "output_type": "stream",
     "text": [
      "Epoch 0, global step 3164: 'val_loss' reached 72.59718 (best 72.59718), saving model to '/home/mohammad.hallaq/workarea/MobileNet_compression/pruning_results/model_pruned_channel_pruning_Taylor_importance_amount_0.95.ckpt' as top 1\n"
     ]
    },
    {
     "name": "stdout",
     "output_type": "stream",
     "text": [
      "New best model saved with validation loss 72.5972\n"
     ]
    },
    {
     "data": {
      "application/vnd.jupyter.widget-view+json": {
       "model_id": "b53210c4094b4ba3a720cfa513a4da3a",
       "version_major": 2,
       "version_minor": 0
      },
      "text/plain": [
       "Validation: |          | 0/? [00:00<?, ?it/s]"
      ]
     },
     "metadata": {},
     "output_type": "display_data"
    },
    {
     "name": "stderr",
     "output_type": "stream",
     "text": [
      "Epoch 1, global step 6328: 'val_loss' reached 17.35442 (best 17.35442), saving model to '/home/mohammad.hallaq/workarea/MobileNet_compression/pruning_results/model_pruned_channel_pruning_Taylor_importance_amount_0.95.ckpt' as top 1\n"
     ]
    },
    {
     "name": "stdout",
     "output_type": "stream",
     "text": [
      "New best model saved with validation loss 17.3544\n"
     ]
    },
    {
     "data": {
      "application/vnd.jupyter.widget-view+json": {
       "model_id": "c0f03043dc6f42c8889a77beae63608a",
       "version_major": 2,
       "version_minor": 0
      },
      "text/plain": [
       "Validation: |          | 0/? [00:00<?, ?it/s]"
      ]
     },
     "metadata": {},
     "output_type": "display_data"
    },
    {
     "name": "stderr",
     "output_type": "stream",
     "text": [
      "Epoch 2, global step 9492: 'val_loss' reached 11.26240 (best 11.26240), saving model to '/home/mohammad.hallaq/workarea/MobileNet_compression/pruning_results/model_pruned_channel_pruning_Taylor_importance_amount_0.95.ckpt' as top 1\n"
     ]
    },
    {
     "name": "stdout",
     "output_type": "stream",
     "text": [
      "New best model saved with validation loss 11.2624\n"
     ]
    },
    {
     "data": {
      "application/vnd.jupyter.widget-view+json": {
       "model_id": "70073bb50a3746b796d5f483be35dca0",
       "version_major": 2,
       "version_minor": 0
      },
      "text/plain": [
       "Validation: |          | 0/? [00:00<?, ?it/s]"
      ]
     },
     "metadata": {},
     "output_type": "display_data"
    },
    {
     "name": "stderr",
     "output_type": "stream",
     "text": [
      "Epoch 3, global step 12656: 'val_loss' reached 10.06234 (best 10.06234), saving model to '/home/mohammad.hallaq/workarea/MobileNet_compression/pruning_results/model_pruned_channel_pruning_Taylor_importance_amount_0.95.ckpt' as top 1\n"
     ]
    },
    {
     "name": "stdout",
     "output_type": "stream",
     "text": [
      "New best model saved with validation loss 10.0623\n"
     ]
    },
    {
     "data": {
      "application/vnd.jupyter.widget-view+json": {
       "model_id": "350f9fea486d462fb9f57bb2bab45e35",
       "version_major": 2,
       "version_minor": 0
      },
      "text/plain": [
       "Validation: |          | 0/? [00:00<?, ?it/s]"
      ]
     },
     "metadata": {},
     "output_type": "display_data"
    },
    {
     "name": "stderr",
     "output_type": "stream",
     "text": [
      "Epoch 4, global step 15820: 'val_loss' reached 9.45278 (best 9.45278), saving model to '/home/mohammad.hallaq/workarea/MobileNet_compression/pruning_results/model_pruned_channel_pruning_Taylor_importance_amount_0.95.ckpt' as top 1\n"
     ]
    },
    {
     "name": "stdout",
     "output_type": "stream",
     "text": [
      "New best model saved with validation loss 9.4528\n"
     ]
    },
    {
     "data": {
      "application/vnd.jupyter.widget-view+json": {
       "model_id": "4e6d1c6c394f4d8487cfa61be8f1f296",
       "version_major": 2,
       "version_minor": 0
      },
      "text/plain": [
       "Validation: |          | 0/? [00:00<?, ?it/s]"
      ]
     },
     "metadata": {},
     "output_type": "display_data"
    },
    {
     "name": "stderr",
     "output_type": "stream",
     "text": [
      "Epoch 5, global step 18984: 'val_loss' reached 8.49672 (best 8.49672), saving model to '/home/mohammad.hallaq/workarea/MobileNet_compression/pruning_results/model_pruned_channel_pruning_Taylor_importance_amount_0.95.ckpt' as top 1\n"
     ]
    },
    {
     "name": "stdout",
     "output_type": "stream",
     "text": [
      "New best model saved with validation loss 8.4967\n"
     ]
    },
    {
     "data": {
      "application/vnd.jupyter.widget-view+json": {
       "model_id": "2e638ad6025343638586624cf255c31b",
       "version_major": 2,
       "version_minor": 0
      },
      "text/plain": [
       "Validation: |          | 0/? [00:00<?, ?it/s]"
      ]
     },
     "metadata": {},
     "output_type": "display_data"
    },
    {
     "name": "stderr",
     "output_type": "stream",
     "text": [
      "Epoch 6, global step 22148: 'val_loss' reached 8.46962 (best 8.46962), saving model to '/home/mohammad.hallaq/workarea/MobileNet_compression/pruning_results/model_pruned_channel_pruning_Taylor_importance_amount_0.95.ckpt' as top 1\n"
     ]
    },
    {
     "name": "stdout",
     "output_type": "stream",
     "text": [
      "New best model saved with validation loss 8.4696\n"
     ]
    },
    {
     "data": {
      "application/vnd.jupyter.widget-view+json": {
       "model_id": "e6201ac46b0a469893310502eca4a059",
       "version_major": 2,
       "version_minor": 0
      },
      "text/plain": [
       "Validation: |          | 0/? [00:00<?, ?it/s]"
      ]
     },
     "metadata": {},
     "output_type": "display_data"
    },
    {
     "name": "stderr",
     "output_type": "stream",
     "text": [
      "Epoch 7, global step 25312: 'val_loss' was not in top 1\n"
     ]
    },
    {
     "data": {
      "application/vnd.jupyter.widget-view+json": {
       "model_id": "27cbf443f9184a0da855e86787f22226",
       "version_major": 2,
       "version_minor": 0
      },
      "text/plain": [
       "Validation: |          | 0/? [00:00<?, ?it/s]"
      ]
     },
     "metadata": {},
     "output_type": "display_data"
    },
    {
     "name": "stderr",
     "output_type": "stream",
     "text": [
      "Epoch 8, global step 28476: 'val_loss' was not in top 1\n"
     ]
    },
    {
     "data": {
      "application/vnd.jupyter.widget-view+json": {
       "model_id": "86fa9c46f74e4d3fb425acdb9a7e0577",
       "version_major": 2,
       "version_minor": 0
      },
      "text/plain": [
       "Validation: |          | 0/? [00:00<?, ?it/s]"
      ]
     },
     "metadata": {},
     "output_type": "display_data"
    },
    {
     "name": "stderr",
     "output_type": "stream",
     "text": [
      "Epoch 9, global step 31640: 'val_loss' was not in top 1\n"
     ]
    },
    {
     "data": {
      "application/vnd.jupyter.widget-view+json": {
       "model_id": "8202b9182e524ad09eefc5846fc7bfc8",
       "version_major": 2,
       "version_minor": 0
      },
      "text/plain": [
       "Validation: |          | 0/? [00:00<?, ?it/s]"
      ]
     },
     "metadata": {},
     "output_type": "display_data"
    },
    {
     "name": "stderr",
     "output_type": "stream",
     "text": [
      "Epoch 10, global step 34804: 'val_loss' reached 7.42552 (best 7.42552), saving model to '/home/mohammad.hallaq/workarea/MobileNet_compression/pruning_results/model_pruned_channel_pruning_Taylor_importance_amount_0.95.ckpt' as top 1\n"
     ]
    },
    {
     "name": "stdout",
     "output_type": "stream",
     "text": [
      "New best model saved with validation loss 7.4255\n"
     ]
    },
    {
     "data": {
      "application/vnd.jupyter.widget-view+json": {
       "model_id": "783810928fbb4950a51b1e4f76734baf",
       "version_major": 2,
       "version_minor": 0
      },
      "text/plain": [
       "Validation: |          | 0/? [00:00<?, ?it/s]"
      ]
     },
     "metadata": {},
     "output_type": "display_data"
    },
    {
     "name": "stderr",
     "output_type": "stream",
     "text": [
      "Epoch 11, global step 37968: 'val_loss' reached 7.27846 (best 7.27846), saving model to '/home/mohammad.hallaq/workarea/MobileNet_compression/pruning_results/model_pruned_channel_pruning_Taylor_importance_amount_0.95.ckpt' as top 1\n"
     ]
    },
    {
     "name": "stdout",
     "output_type": "stream",
     "text": [
      "New best model saved with validation loss 7.2785\n"
     ]
    },
    {
     "data": {
      "application/vnd.jupyter.widget-view+json": {
       "model_id": "a86f7be768564bffbb48ab2829a61f4f",
       "version_major": 2,
       "version_minor": 0
      },
      "text/plain": [
       "Validation: |          | 0/? [00:00<?, ?it/s]"
      ]
     },
     "metadata": {},
     "output_type": "display_data"
    },
    {
     "name": "stderr",
     "output_type": "stream",
     "text": [
      "Epoch 12, global step 41132: 'val_loss' reached 6.99551 (best 6.99551), saving model to '/home/mohammad.hallaq/workarea/MobileNet_compression/pruning_results/model_pruned_channel_pruning_Taylor_importance_amount_0.95.ckpt' as top 1\n"
     ]
    },
    {
     "name": "stdout",
     "output_type": "stream",
     "text": [
      "New best model saved with validation loss 6.9955\n"
     ]
    },
    {
     "data": {
      "application/vnd.jupyter.widget-view+json": {
       "model_id": "70dfaa64a30f4ac4a02983e10552eb0b",
       "version_major": 2,
       "version_minor": 0
      },
      "text/plain": [
       "Validation: |          | 0/? [00:00<?, ?it/s]"
      ]
     },
     "metadata": {},
     "output_type": "display_data"
    },
    {
     "name": "stderr",
     "output_type": "stream",
     "text": [
      "Epoch 13, global step 44296: 'val_loss' was not in top 1\n"
     ]
    },
    {
     "data": {
      "application/vnd.jupyter.widget-view+json": {
       "model_id": "215de1c7d8e84d90b664e1cf46938bc1",
       "version_major": 2,
       "version_minor": 0
      },
      "text/plain": [
       "Validation: |          | 0/? [00:00<?, ?it/s]"
      ]
     },
     "metadata": {},
     "output_type": "display_data"
    },
    {
     "name": "stderr",
     "output_type": "stream",
     "text": [
      "Epoch 14, global step 47460: 'val_loss' was not in top 1\n"
     ]
    },
    {
     "data": {
      "application/vnd.jupyter.widget-view+json": {
       "model_id": "8e9dca7c2b0d4c399e1b954e0c31db5b",
       "version_major": 2,
       "version_minor": 0
      },
      "text/plain": [
       "Validation: |          | 0/? [00:00<?, ?it/s]"
      ]
     },
     "metadata": {},
     "output_type": "display_data"
    },
    {
     "name": "stderr",
     "output_type": "stream",
     "text": [
      "Epoch 15, global step 50624: 'val_loss' was not in top 1\n"
     ]
    },
    {
     "data": {
      "application/vnd.jupyter.widget-view+json": {
       "model_id": "ecbd34005db3422ca225a884fa006725",
       "version_major": 2,
       "version_minor": 0
      },
      "text/plain": [
       "Validation: |          | 0/? [00:00<?, ?it/s]"
      ]
     },
     "metadata": {},
     "output_type": "display_data"
    },
    {
     "name": "stderr",
     "output_type": "stream",
     "text": [
      "Epoch 16, global step 53788: 'val_loss' was not in top 1\n"
     ]
    },
    {
     "data": {
      "application/vnd.jupyter.widget-view+json": {
       "model_id": "9dd9c177df5b4413ac8c35d1bd77af08",
       "version_major": 2,
       "version_minor": 0
      },
      "text/plain": [
       "Validation: |          | 0/? [00:00<?, ?it/s]"
      ]
     },
     "metadata": {},
     "output_type": "display_data"
    },
    {
     "name": "stderr",
     "output_type": "stream",
     "text": [
      "Epoch 17, global step 56952: 'val_loss' was not in top 1\n"
     ]
    },
    {
     "data": {
      "application/vnd.jupyter.widget-view+json": {
       "model_id": "40ca4a205483490f85f4522fd8c0cda0",
       "version_major": 2,
       "version_minor": 0
      },
      "text/plain": [
       "Validation: |          | 0/? [00:00<?, ?it/s]"
      ]
     },
     "metadata": {},
     "output_type": "display_data"
    },
    {
     "name": "stderr",
     "output_type": "stream",
     "text": [
      "Epoch 18, global step 60116: 'val_loss' was not in top 1\n"
     ]
    },
    {
     "data": {
      "application/vnd.jupyter.widget-view+json": {
       "model_id": "d78649bdee33483aa3d0949875e94d81",
       "version_major": 2,
       "version_minor": 0
      },
      "text/plain": [
       "Validation: |          | 0/? [00:00<?, ?it/s]"
      ]
     },
     "metadata": {},
     "output_type": "display_data"
    },
    {
     "name": "stderr",
     "output_type": "stream",
     "text": [
      "Epoch 19, global step 63280: 'val_loss' was not in top 1\n"
     ]
    },
    {
     "data": {
      "application/vnd.jupyter.widget-view+json": {
       "model_id": "8c0345733c5a47a184f68766c8adc3b1",
       "version_major": 2,
       "version_minor": 0
      },
      "text/plain": [
       "Validation: |          | 0/? [00:00<?, ?it/s]"
      ]
     },
     "metadata": {},
     "output_type": "display_data"
    },
    {
     "name": "stderr",
     "output_type": "stream",
     "text": [
      "Epoch 20, global step 66444: 'val_loss' was not in top 1\n"
     ]
    },
    {
     "data": {
      "application/vnd.jupyter.widget-view+json": {
       "model_id": "b7c0d16153bc4362a2df6f4ceb34f388",
       "version_major": 2,
       "version_minor": 0
      },
      "text/plain": [
       "Validation: |          | 0/? [00:00<?, ?it/s]"
      ]
     },
     "metadata": {},
     "output_type": "display_data"
    },
    {
     "name": "stderr",
     "output_type": "stream",
     "text": [
      "Epoch 21, global step 69608: 'val_loss' was not in top 1\n"
     ]
    },
    {
     "data": {
      "application/vnd.jupyter.widget-view+json": {
       "model_id": "e7a83865192746bea6e3e8cdee1e7045",
       "version_major": 2,
       "version_minor": 0
      },
      "text/plain": [
       "Validation: |          | 0/? [00:00<?, ?it/s]"
      ]
     },
     "metadata": {},
     "output_type": "display_data"
    },
    {
     "name": "stderr",
     "output_type": "stream",
     "text": [
      "Epoch 22, global step 72772: 'val_loss' reached 6.10113 (best 6.10113), saving model to '/home/mohammad.hallaq/workarea/MobileNet_compression/pruning_results/model_pruned_channel_pruning_Taylor_importance_amount_0.95.ckpt' as top 1\n"
     ]
    },
    {
     "name": "stdout",
     "output_type": "stream",
     "text": [
      "New best model saved with validation loss 6.1011\n"
     ]
    },
    {
     "data": {
      "application/vnd.jupyter.widget-view+json": {
       "model_id": "6d93ad75aa194980aa6ab2755b485417",
       "version_major": 2,
       "version_minor": 0
      },
      "text/plain": [
       "Validation: |          | 0/? [00:00<?, ?it/s]"
      ]
     },
     "metadata": {},
     "output_type": "display_data"
    },
    {
     "name": "stderr",
     "output_type": "stream",
     "text": [
      "Epoch 23, global step 75936: 'val_loss' was not in top 1\n"
     ]
    },
    {
     "data": {
      "application/vnd.jupyter.widget-view+json": {
       "model_id": "bc30e38ef2554c19aa658ebf11f699af",
       "version_major": 2,
       "version_minor": 0
      },
      "text/plain": [
       "Validation: |          | 0/? [00:00<?, ?it/s]"
      ]
     },
     "metadata": {},
     "output_type": "display_data"
    },
    {
     "name": "stderr",
     "output_type": "stream",
     "text": [
      "Epoch 24, global step 79100: 'val_loss' was not in top 1\n"
     ]
    },
    {
     "data": {
      "application/vnd.jupyter.widget-view+json": {
       "model_id": "bbcd4c66ee6743b985ea0af167475fc9",
       "version_major": 2,
       "version_minor": 0
      },
      "text/plain": [
       "Validation: |          | 0/? [00:00<?, ?it/s]"
      ]
     },
     "metadata": {},
     "output_type": "display_data"
    },
    {
     "name": "stderr",
     "output_type": "stream",
     "text": [
      "Epoch 25, global step 82264: 'val_loss' was not in top 1\n"
     ]
    },
    {
     "data": {
      "application/vnd.jupyter.widget-view+json": {
       "model_id": "36c7cf0395ec403ea02d473356b72767",
       "version_major": 2,
       "version_minor": 0
      },
      "text/plain": [
       "Validation: |          | 0/? [00:00<?, ?it/s]"
      ]
     },
     "metadata": {},
     "output_type": "display_data"
    },
    {
     "name": "stderr",
     "output_type": "stream",
     "text": [
      "Epoch 26, global step 85428: 'val_loss' was not in top 1\n"
     ]
    },
    {
     "data": {
      "application/vnd.jupyter.widget-view+json": {
       "model_id": "a0e532e7ac364174b4733351ab4cd135",
       "version_major": 2,
       "version_minor": 0
      },
      "text/plain": [
       "Validation: |          | 0/? [00:00<?, ?it/s]"
      ]
     },
     "metadata": {},
     "output_type": "display_data"
    },
    {
     "name": "stderr",
     "output_type": "stream",
     "text": [
      "Epoch 27, global step 88592: 'val_loss' was not in top 1\n"
     ]
    },
    {
     "data": {
      "application/vnd.jupyter.widget-view+json": {
       "model_id": "f83414c6165c4f19a9b574c763f0a5d7",
       "version_major": 2,
       "version_minor": 0
      },
      "text/plain": [
       "Validation: |          | 0/? [00:00<?, ?it/s]"
      ]
     },
     "metadata": {},
     "output_type": "display_data"
    },
    {
     "name": "stderr",
     "output_type": "stream",
     "text": [
      "Epoch 28, global step 91756: 'val_loss' was not in top 1\n"
     ]
    },
    {
     "data": {
      "application/vnd.jupyter.widget-view+json": {
       "model_id": "a6f3b5de9c6646599ff29e2623bf394a",
       "version_major": 2,
       "version_minor": 0
      },
      "text/plain": [
       "Validation: |          | 0/? [00:00<?, ?it/s]"
      ]
     },
     "metadata": {},
     "output_type": "display_data"
    },
    {
     "name": "stderr",
     "output_type": "stream",
     "text": [
      "Epoch 29, global step 94920: 'val_loss' was not in top 1\n",
      "`Trainer.fit` stopped: `max_epochs=30` reached.\n"
     ]
    },
    {
     "name": "stdout",
     "output_type": "stream",
     "text": [
      "Model channel_pruning_Taylor_importance at 95.0% pruning saved. \n"
     ]
    }
   ],
   "source": [
    "for method in pruning_methods:\n",
    "    for amount in pruning_amounts:\n",
    "        train_model_with_pruning(original_model, method, method, train_loader, val_loader, amount)\n"
   ]
  },
  {
   "cell_type": "markdown",
   "metadata": {},
   "source": [
    "Evaluating The Pruned Model"
   ]
  },
  {
   "cell_type": "code",
   "execution_count": 14,
   "metadata": {},
   "outputs": [
    {
     "name": "stdout",
     "output_type": "stream",
     "text": [
      "MACs: 0.004203558 G, #Params: 20.087 K\n"
     ]
    }
   ],
   "source": [
    "pruned_model = torch.load('/home/mohammad.hallaq/workarea/MobileNet_compression/pruning_results/best_model.pth')\n",
    "example_inputs = torch.randn(1, 8, 4096)\n",
    "example_inputs = example_inputs.to('cuda:2')  \n",
    "macs, nparams = tp.utils.count_ops_and_params(pruned_model, example_inputs)\n",
    "print(f\"MACs: {macs/1e9} G, #Params: {nparams/1e3} K\")"
   ]
  },
  {
   "cell_type": "code",
   "execution_count": 15,
   "metadata": {},
   "outputs": [
    {
     "name": "stderr",
     "output_type": "stream",
     "text": [
      "GPU available: True (cuda), used: True\n",
      "TPU available: False, using: 0 TPU cores\n",
      "HPU available: False, using: 0 HPUs\n"
     ]
    },
    {
     "name": "stderr",
     "output_type": "stream",
     "text": [
      "LOCAL_RANK: 0 - CUDA_VISIBLE_DEVICES: [0,1,2,3]\n"
     ]
    },
    {
     "data": {
      "application/vnd.jupyter.widget-view+json": {
       "model_id": "950472076e7c4601aaa20a0aeb257a60",
       "version_major": 2,
       "version_minor": 0
      },
      "text/plain": [
       "Testing: |          | 0/? [00:00<?, ?it/s]"
      ]
     },
     "metadata": {},
     "output_type": "display_data"
    },
    {
     "data": {
      "text/html": [
       "<pre style=\"white-space:pre;overflow-x:auto;line-height:normal;font-family:Menlo,'DejaVu Sans Mono',consolas,'Courier New',monospace\">┏━━━━━━━━━━━━━━━━━━━━━━━━━━━┳━━━━━━━━━━━━━━━━━━━━━━━━━━━┓\n",
       "┃<span style=\"font-weight: bold\">        Test metric        </span>┃<span style=\"font-weight: bold\">       DataLoader 0        </span>┃\n",
       "┡━━━━━━━━━━━━━━━━━━━━━━━━━━━╇━━━━━━━━━━━━━━━━━━━━━━━━━━━┩\n",
       "│<span style=\"color: #008080; text-decoration-color: #008080\">         test_loss         </span>│<span style=\"color: #800080; text-decoration-color: #800080\">     9.742886543273926     </span>│\n",
       "└───────────────────────────┴───────────────────────────┘\n",
       "</pre>\n"
      ],
      "text/plain": [
       "┏━━━━━━━━━━━━━━━━━━━━━━━━━━━┳━━━━━━━━━━━━━━━━━━━━━━━━━━━┓\n",
       "┃\u001b[1m \u001b[0m\u001b[1m       Test metric       \u001b[0m\u001b[1m \u001b[0m┃\u001b[1m \u001b[0m\u001b[1m      DataLoader 0       \u001b[0m\u001b[1m \u001b[0m┃\n",
       "┡━━━━━━━━━━━━━━━━━━━━━━━━━━━╇━━━━━━━━━━━━━━━━━━━━━━━━━━━┩\n",
       "│\u001b[36m \u001b[0m\u001b[36m        test_loss        \u001b[0m\u001b[36m \u001b[0m│\u001b[35m \u001b[0m\u001b[35m    9.742886543273926    \u001b[0m\u001b[35m \u001b[0m│\n",
       "└───────────────────────────┴───────────────────────────┘\n"
      ]
     },
     "metadata": {},
     "output_type": "display_data"
    },
    {
     "data": {
      "text/plain": [
       "[{'test_loss': 9.742886543273926}]"
      ]
     },
     "execution_count": 15,
     "metadata": {},
     "output_type": "execute_result"
    }
   ],
   "source": [
    "rf_classifier = RFClassifier(pruned_model)\n",
    "\n",
    "trainer = L.Trainer(\n",
    "    max_epochs=1,\n",
    "    accelerator='gpu',\n",
    "    devices=[2],\n",
    "    benchmark=True,\n",
    "    precision='32-true',\n",
    ")\n",
    "\n",
    "trainer.test(rf_classifier, test_loader)"
   ]
  },
  {
   "cell_type": "code",
   "execution_count": 15,
   "metadata": {},
   "outputs": [],
   "source": [
    "def plot_quiver(all_targets, all_outputs, quiver_path: str):\n",
    "    \"\"\"\n",
    "    Creates and stores the quiver plot for given targets and predicted outputs\n",
    "    :args all_targets:\n",
    "    :args all_outputs:\n",
    "    \"\"\"\n",
    "    predictions_per_target = defaultdict(list)\n",
    "    errors_per_target = dict()\n",
    "\n",
    "    for idx, target_angles_tuple in enumerate(all_targets):\n",
    "        target_tuple = tuple(target_angles_tuple)\n",
    "        predictions_per_target[target_tuple].append(all_outputs[idx])\n",
    "    for target_tuple, list_of_predictions in predictions_per_target.items():\n",
    "        # predictions_per_target[target_tuple] = np.mean(list_of_predictions, axis=0)\n",
    "        errors_per_target[target_tuple] = np.subtract(target_tuple, np.mean(list_of_predictions, axis=0))\n",
    "\n",
    "    unique_targets = list(errors_per_target.keys())\n",
    "    unique_azimuth = [target[0] for target in unique_targets]\n",
    "    unique_elevation = [target[1] for target in unique_targets]\n",
    "    unique_erros = list(errors_per_target.values())\n",
    "    errors_azimuth = [target[0] for target in unique_erros]\n",
    "    errors_elevation = [target[1] for target in unique_erros]\n",
    "\n",
    "    plt.figure(figsize=(10, 10))\n",
    "    plt.scatter(unique_azimuth, unique_elevation, color='red', label='True Angles')\n",
    "    plt.quiver(unique_azimuth, unique_elevation, errors_azimuth, errors_elevation,\n",
    "                angles='xy', scale_units='xy', scale=1, color='blue', label='Predicted Angles')\n",
    "    plt.xlim([-55, 55])\n",
    "    plt.ylim([-55, 55])\n",
    "    plt.xlabel('Azimuth')\n",
    "    plt.ylabel('Elevation')\n",
    "    plt.grid()\n",
    "    plt.legend()\n",
    "    plt.savefig(quiver_path)"
   ]
  },
  {
   "cell_type": "code",
   "execution_count": 16,
   "metadata": {},
   "outputs": [
    {
     "name": "stderr",
     "output_type": "stream",
     "text": [
      "Testing: 100%|██████████| 1949/1949 [01:11<00:00, 27.29batch/s, Val Loss=0.237]\n"
     ]
    },
    {
     "name": "stdout",
     "output_type": "stream",
     "text": [
      "Test Set Loss = 0.00012177908021457939\n"
     ]
    },
    {
     "data": {
      "image/png": "[encoded data removed]",
      "text/plain": [
       "<Figure size 1000x1000 with 1 Axes>"
      ]
     },
     "metadata": {},
     "output_type": "display_data"
    }
   ],
   "source": [
    "criterion = nn.MSELoss()\n",
    "experiment_path = '/home/mohammad.hallaq/workarea/AoA-Pruning/experiments'\n",
    "device = 'cuda:2' if torch.cuda.is_available() else 'cpu'\n",
    "pruned_model = pruned_model.to(device)\n",
    "pruned_model.eval()\n",
    "\n",
    "test_loss, num_samples = 0, 0\n",
    "all_targets, all_outputs = np.zeros([1, 2]), np.zeros([1, 2])\n",
    "with torch.no_grad():\n",
    "    with tqdm(test_loader, desc='Testing', unit='batch') as pbar:\n",
    "        for sample_inputs, targets in pbar:\n",
    "            sample_inputs = sample_inputs.to(device)\n",
    "            targets = targets.to(device)\n",
    "            outputs = pruned_model(sample_inputs)\n",
    "            loss = criterion(outputs, targets)\n",
    "            num_samples += targets.shape[0]\n",
    "            test_loss += loss.item()/num_samples\n",
    "            all_targets = np.concatenate((all_targets, targets.cpu()))\n",
    "            all_outputs = np.concatenate((all_outputs, outputs.cpu()))\n",
    "            pbar.set_postfix({'Val Loss': test_loss})\n",
    "    all_outputs = all_outputs[1:]\n",
    "    all_targets = all_targets[1:]\n",
    "    test_loss = test_loss / len(test_loader)\n",
    "    print(f\"Test Set Loss = {test_loss}\")\n",
    "    quiver_path = os.path.join(experiment_path, \"testing_quiver_plot.png\")\n",
    "    plot_quiver(all_targets, all_outputs, quiver_path)"
   ]
  }
 ],
 "metadata": {
  "kernelspec": {
   "display_name": "venv",
   "language": "python",
   "name": "python3"
  },
  "language_info": {
   "codemirror_mode": {
    "name": "ipython",
    "version": 3
   },
   "file_extension": ".py",
   "mimetype": "text/x-python",
   "name": "python",
   "nbconvert_exporter": "python",
   "pygments_lexer": "ipython3",
   "version": "3.10.12"
  }
 },
 "nbformat": 4,
 "nbformat_minor": 2
}
