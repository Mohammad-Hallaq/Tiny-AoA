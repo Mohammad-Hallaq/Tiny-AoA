{
 "cells": [
  {
   "cell_type": "code",
   "execution_count": 1,
   "metadata": {},
   "outputs": [
    {
     "name": "stdout",
     "output_type": "stream",
     "text": [
      "Current working directory: /home/mohammad.hallaq\n"
     ]
    }
   ],
   "source": [
    "import os\n",
    "\n",
    "os.chdir(globals()[\"_dh\"][0])\n",
    "print(\"Current working directory:\", os.getcwd())\n",
    "os.chdir('/home/mohammad.hallaq/workarea/MobileNet_compression') # change accordingly"
   ]
  },
  {
   "cell_type": "code",
   "execution_count": 2,
   "metadata": {},
   "outputs": [],
   "source": [
    "import torch\n",
    "import torch.nn.functional as F\n",
    "from torch.utils.data import DataLoader, TensorDataset\n",
    "import numpy as np\n",
    "import matplotlib.pyplot as plt\n",
    "from torchsummary import summary\n",
    "import torch_pruning as tp\n",
    "from mobilenetv3 import mobilenetv3\n",
    "from collections import defaultdict\n",
    "import time\n",
    "import pandas as pd\n",
    "from sklearn.model_selection import train_test_split\n",
    "import pytorch_lightning as L\n",
    "import h5py\n",
    "from torch.utils.data import Dataset\n",
    "import copy\n",
    "import torch.nn as nn \n",
    "from tqdm import tqdm\n",
    "from torchinfo import summary\n",
    "import csv\n",
    "from torch.profiler import profile"
   ]
  },
  {
   "cell_type": "code",
   "execution_count": 3,
   "metadata": {},
   "outputs": [
    {
     "name": "stderr",
     "output_type": "stream",
     "text": [
      "/home/mohammad.hallaq/workarea/venv/lib/python3.10/site-packages/torch/cuda/memory.py:330: FutureWarning: torch.cuda.reset_max_memory_allocated now calls torch.cuda.reset_peak_memory_stats, which resets /all/ peak memory stats.\n",
      "  warnings.warn(\n"
     ]
    }
   ],
   "source": [
    "# Free up cached memory\n",
    "torch.cuda.empty_cache()\n",
    "\n",
    "# Clear all the gradients\n",
    "torch.cuda.reset_max_memory_allocated()"
   ]
  },
  {
   "cell_type": "code",
   "execution_count": 4,
   "metadata": {},
   "outputs": [],
   "source": [
    "class R22_H5_Dataset(Dataset):\n",
    "    def __init__(self, data_file, label='label', iqlabel='iq_data'):\n",
    "        self.data_file = data_file\n",
    "        self.label = label\n",
    "        self.iqlabel = iqlabel\n",
    "\n",
    "    def __len__(self):\n",
    "        with h5py.File(self.data_file, 'r') as f:\n",
    "            length = len(f[self.label])\n",
    "        return length\n",
    "\n",
    "    def __getitem__(self, idx):\n",
    "        with h5py.File(self.data_file, 'r') as f:\n",
    "            iq_data = f[self.iqlabel][idx]\n",
    "            label = f[self.label][idx]\n",
    "        return iq_data, label\n",
    "    \n",
    "    def get_metadata(self, idx):\n",
    "        with h5py.File(self.data_file, 'r') as f:\n",
    "            metadata = {\n",
    "                'recording': f['recording'][idx].decode('utf-8)'),\n",
    "                'category': f['category'][idx].decode('utf-8)')\n",
    "            }\n",
    "        return metadata\n"
   ]
  },
  {
   "cell_type": "code",
   "execution_count": 10,
   "metadata": {},
   "outputs": [],
   "source": [
    "train_data = '/home/mohammad.hallaq/workarea/MobileNet_compression/data_h5py_files/r22_train.h5'\n",
    "val_data = '/home/mohammad.hallaq/workarea/MobileNet_compression/data_h5py_files/r22_val.h5'\n",
    "test_data = '/home/mohammad.hallaq/workarea/MobileNet_compression/data_h5py_files/r22_test.h5'\n",
    "checkpoint_dir = '/home/mohammad.hallaq/workarea/MobileNet_compression/checkpoints-Copy2'\n",
    "checkpoint_filename = os.path.join(checkpoint_dir, 'august22_beam_t.ckpt')\n",
    "checkpoint =torch.load(checkpoint_filename)"
   ]
  },
  {
   "cell_type": "code",
   "execution_count": 5,
   "metadata": {},
   "outputs": [],
   "source": [
    "example_length = 4096\n",
    "batch_size = 128\n",
    "epochs =30\n",
    "\n",
    "hparams = {\n",
    "    'drop_path_rate': 0.2,\n",
    "    'drop_rate': 0.7,\n",
    "    'learning_rate': 1e-3,\n",
    "    'wd': 0.01\n",
    "}"
   ]
  },
  {
   "cell_type": "code",
   "execution_count": 11,
   "metadata": {},
   "outputs": [
    {
     "name": "stdout",
     "output_type": "stream",
     "text": [
      "Training Set: 809836 examples\n",
      "Validation Set: 223016 examples\n",
      "Testing Set: 249368 examples\n"
     ]
    }
   ],
   "source": [
    "train_data = '/shared/sepData_train.h5'\n",
    "val_data = '/shared/sepData_val.h5'\n",
    "test_data = '/shared/sepData_test.h5'\n",
    "\n",
    "train_set = R22_H5_Dataset(train_data)\n",
    "val_set = R22_H5_Dataset(val_data)\n",
    "test_set = R22_H5_Dataset(test_data)\n",
    "print(f'Training Set: {len(train_set)} examples')\n",
    "print(f'Validation Set: {len(val_set)} examples')\n",
    "print(f'Testing Set: {len(test_set)} examples')\n",
    "\n",
    "num_classes = train_set[0][1].shape[0]\n",
    "\n",
    "train_loader = torch.utils.data.DataLoader(\n",
    "    dataset=train_set,\n",
    "    batch_size=batch_size,\n",
    "    shuffle=True,\n",
    "    num_workers=8,\n",
    "    )\n",
    "val_loader = torch.utils.data.DataLoader(\n",
    "    dataset=val_set,\n",
    "    batch_size=128,\n",
    "    shuffle=False,\n",
    "    num_workers=8\n",
    "    )\n",
    "test_loader = torch.utils.data.DataLoader(\n",
    "    dataset=test_set,\n",
    "    batch_size=128,\n",
    "    shuffle=False,\n",
    "    num_workers=8\n",
    "    )"
   ]
  },
  {
   "cell_type": "code",
   "execution_count": 7,
   "metadata": {},
   "outputs": [],
   "source": [
    "original_model = mobilenetv3(\n",
    "    model_size='mobilenetv3_small_050',\n",
    "    num_classes=num_classes,\n",
    "    drop_rate=hparams['drop_rate'],\n",
    "    drop_path_rate=hparams['drop_path_rate'],\n",
    "    in_chans=8\n",
    ")\n",
    "\n",
    "# rf_classifier = RFClassifier.load_from_checkpoint(original_model_checkpoint, model=model)\n",
    "\n",
    "# rf_classifier.to('cuda' if torch.cuda.is_available() else 'cpu')\n"
   ]
  },
  {
   "cell_type": "code",
   "execution_count": 12,
   "metadata": {},
   "outputs": [],
   "source": [
    "def remove_prefix_from_state_dict(state_dict, prefix='model.'):\n",
    "\n",
    "    new_state_dict = {}\n",
    "    for k, v in state_dict.items():\n",
    "        if k.startswith(prefix):\n",
    "            new_state_dict[k[len(prefix):]] = v\n",
    "        else:\n",
    "            new_state_dict[k] = v\n",
    "    return new_state_dict"
   ]
  },
  {
   "cell_type": "code",
   "execution_count": 13,
   "metadata": {},
   "outputs": [
    {
     "data": {
      "text/plain": [
       "<All keys matched successfully>"
      ]
     },
     "execution_count": 13,
     "metadata": {},
     "output_type": "execute_result"
    }
   ],
   "source": [
    "checkpoint['state_dict'] = remove_prefix_from_state_dict(checkpoint['state_dict'], prefix='model.')\n",
    "\n",
    "original_model.load_state_dict(checkpoint['state_dict'])"
   ]
  },
  {
   "cell_type": "markdown",
   "metadata": {},
   "source": [
    "Evaluating The Pruned Model"
   ]
  },
  {
   "cell_type": "code",
   "execution_count": 14,
   "metadata": {},
   "outputs": [],
   "source": [
    "pruned_model = torch.load('/home/mohammad.hallaq/workarea/MobileNet_compression/best_model(20011_parameters).pth')"
   ]
  },
  {
   "cell_type": "code",
   "execution_count": 12,
   "metadata": {},
   "outputs": [],
   "source": [
    "def plot_quiver(all_targets, all_outputs, quiver_path: str):\n",
    "    \"\"\"\n",
    "    Creates and stores the quiver plot for given targets and predicted outputs\n",
    "    :args all_targets:\n",
    "    :args all_outputs:\n",
    "    \"\"\"\n",
    "    predictions_per_target = defaultdict(list)\n",
    "    errors_per_target = dict()\n",
    "\n",
    "    for idx, target_angles_tuple in enumerate(all_targets):\n",
    "        target_tuple = tuple(target_angles_tuple)\n",
    "        predictions_per_target[target_tuple].append(all_outputs[idx])\n",
    "    for target_tuple, list_of_predictions in predictions_per_target.items():\n",
    "        # predictions_per_target[target_tuple] = np.mean(list_of_predictions, axis=0)\n",
    "        errors_per_target[target_tuple] = np.subtract(target_tuple, np.mean(list_of_predictions, axis=0))\n",
    "\n",
    "    unique_targets = list(errors_per_target.keys())\n",
    "    unique_azimuth = [target[0] for target in unique_targets]\n",
    "    unique_elevation = [target[1] for target in unique_targets]\n",
    "    unique_erros = list(errors_per_target.values())\n",
    "    errors_azimuth = [target[0] for target in unique_erros]\n",
    "    errors_elevation = [target[1] for target in unique_erros]\n",
    "\n",
    "    plt.figure(figsize=(10, 10))\n",
    "    plt.scatter(unique_azimuth, unique_elevation, color='red', label='True Angles')\n",
    "    plt.quiver(unique_azimuth, unique_elevation, errors_azimuth, errors_elevation,\n",
    "                angles='xy', scale_units='xy', scale=1, color='blue', label='Predicted Angles')\n",
    "    plt.xlim([-55, 55])\n",
    "    plt.ylim([-55, 55])\n",
    "    plt.xlabel('Azimuth')\n",
    "    plt.ylabel('Elevation')\n",
    "    plt.grid()\n",
    "    plt.legend()\n",
    "    plt.savefig(quiver_path)"
   ]
  },
  {
   "cell_type": "code",
   "execution_count": 15,
   "metadata": {},
   "outputs": [
    {
     "name": "stderr",
     "output_type": "stream",
     "text": [
      "Testing: 100%|██████████████████████████████████████████████████████████████████████████████████████████████████████████████████████████████████████████| 1949/1949 [01:01<00:00, 31.58batch/s, Val Loss=2.13]\n"
     ]
    },
    {
     "name": "stdout",
     "output_type": "stream",
     "text": [
      "Test Set Loss = 0.0010929217872562955\n"
     ]
    },
    {
     "data": {
      "image/png": "[encoded data removed]",
      "text/plain": [
       "<Figure size 1000x1000 with 1 Axes>"
      ]
     },
     "metadata": {},
     "output_type": "display_data"
    }
   ],
   "source": [
    "criterion = nn.MSELoss()\n",
    "experiment_path = '/home/mohammad.hallaq/workarea/AoA-Pruning/experiments'\n",
    "device = 'cuda' if torch.cuda.is_available() else 'cpu'\n",
    "pruned_model = pruned_model.to(device)\n",
    "pruned_model.eval()\n",
    "\n",
    "test_loss, num_samples = 0, 0\n",
    "all_targets, all_outputs = np.zeros([1, 2]), np.zeros([1, 2])\n",
    "with torch.no_grad():\n",
    "    with tqdm(test_loader, desc='Testing', unit='batch') as pbar:\n",
    "        for sample_inputs, targets in pbar:\n",
    "            sample_inputs = sample_inputs.to(device)\n",
    "            targets = targets.to(device)\n",
    "            outputs = pruned_model(sample_inputs)\n",
    "            loss = criterion(outputs, targets)\n",
    "            num_samples += targets.shape[0]\n",
    "            test_loss += loss.item()/num_samples\n",
    "            all_targets = np.concatenate((all_targets, targets.cpu()))\n",
    "            all_outputs = np.concatenate((all_outputs, outputs.cpu()))\n",
    "            pbar.set_postfix({'Val Loss': test_loss})\n",
    "    all_outputs = all_outputs[1:]\n",
    "    all_targets = all_targets[1:]\n",
    "    test_loss = test_loss / len(test_loader)\n",
    "    print(f\"Test Set Loss = {test_loss}\")\n",
    "    quiver_path = os.path.join(experiment_path, \"testing_quiver_plot.png\")\n",
    "    plot_quiver(all_targets, all_outputs, quiver_path)"
   ]
  },
  {
   "cell_type": "code",
   "execution_count": 10,
   "metadata": {},
   "outputs": [],
   "source": [
    "def analyze_model_and_save_to_csv(model, val_loader, device=None, csv_file='model_analysis.csv', model_name=None):\n",
    "  \n",
    "    if device is None:\n",
    "        device = 'cuda' if torch.cuda.is_available() else 'cpu'\n",
    "    \n",
    "    first_batch = next(iter(val_loader))\n",
    "    input_tensor, true_angles = first_batch\n",
    "    input_tensor = input_tensor.to(device)\n",
    "\n",
    "\n",
    "    model.to(device)\n",
    "    example_inputs = input_tensor.to(device)\n",
    "    print('This is the shape of the input: ', example_inputs.shape)\n",
    "    \n",
    "\n",
    "    analysis_results = {\n",
    "        'model_name': model_name if model_name else model.__class__.__name__,\n",
    "        'model_size_mb (MB)': None,\n",
    "        'GFLOPs (GFLOPs)': None,\n",
    "        'Total_Params (count)': None,\n",
    "        'First_Forward_Pass_Time (s)': None,\n",
    "        'Training_Time (s)': None,\n",
    "        'Inference_Time (s)': None,\n",
    "        'CUDA_Time (ms)': None,\n",
    "        'CPU_Time (ms)': None,\n",
    "        'mse': None,\n",
    "        'mae': None\n",
    "    }\n",
    "    \n",
    " \n",
    "    try:\n",
    "        model.to(device)\n",
    "        example_inputs = example_inputs.to(device)\n",
    "    \n",
    " \n",
    "        flops, params = tp.utils.count_ops_and_params(model, example_inputs)\n",
    "        analysis_results['GFLOPs (GFLOPs)'] = flops  \n",
    "        analysis_results['Total_Params (count)'] = params\n",
    "\n",
    "    except Exception:\n",
    "        pass \n",
    "\n",
    "\n",
    "    try:\n",
    "        torch.save(model.state_dict(), \"temp.pth\")\n",
    "        model_size = os.path.getsize(\"temp.pth\") / (1024 * 1024)  # Convert to MB\n",
    "        os.remove(\"temp.pth\")\n",
    "        analysis_results['model_size_mb (MB)'] = model_size\n",
    "    except Exception:\n",
    "        pass\n",
    "\n",
    "\n",
    "    try:\n",
    "        model.eval()\n",
    "        with torch.no_grad():\n",
    "            start_time = time.time()\n",
    "            _ = model(example_inputs)\n",
    "            end_time = time.time()\n",
    "        analysis_results['First_Forward_Pass_Time (s)'] = end_time - start_time\n",
    "    except Exception:\n",
    "        pass\n",
    "\n",
    "    try:\n",
    "        # Create CUDA events to measure time\n",
    "        start_event = torch.cuda.Event(enable_timing=True)\n",
    "        end_event = torch.cuda.Event(enable_timing=True)\n",
    "        iterations = 1000 # Number of iterations within each test\n",
    "        num_tests = 20 # Number of times to run the inference test\n",
    "        total_time = 0.0\n",
    "        \n",
    "        for test in range(num_tests):\n",
    "            # Record the start time\n",
    "            start_event.record()\n",
    "            for _ in range(iterations):\n",
    "                with torch.no_grad():\n",
    "                    _ = model(example_inputs)\n",
    "            end_event.record()\n",
    "            torch.cuda.synchronize()\n",
    "            iteration_time = start_event.elapsed_time(end_event)/iterations\n",
    "            total_time += iteration_time\n",
    "        \n",
    "        average_inference_time = total_time / num_tests\n",
    "        \n",
    "        analysis_results['Inference_Time (ms)'] = average_inference_time\n",
    "    except Exception:\n",
    "        pass\n",
    "\n",
    "\n",
    "    try:\n",
    "        model.eval()\n",
    "        with torch.no_grad():\n",
    "            if torch.cuda.is_available():\n",
    "                torch.cuda.synchronize()  \n",
    "                with profile(use_cuda=True) as prof:\n",
    "                    _ = model(example_inputs)\n",
    "                # Collect CUDA times\n",
    "                cuda_time_total = sum(evt.cuda_time for evt in prof.key_averages())\n",
    "                cpu_time_total = sum(evt.cpu_time_total for evt in prof.key_averages())\n",
    "                analysis_results['CUDA_Time (ms)'] = cuda_time_total / 1e3\n",
    "                analysis_results['CPU_Time (ms)'] = cpu_time_total / 1e3\n",
    "            else:\n",
    "                with profile(use_cuda=False) as prof:\n",
    "                    _ = model(example_inputs)\n",
    "                # Collect CPU times only\n",
    "                cpu_time_total = sum(evt.cpu_time_total for evt in prof.key_averages())\n",
    "                analysis_results['CPU_Time (ms)'] = cpu_time_total / 1e3\n",
    "    except Exception as e:\n",
    "        print(f\"Error during profiling: {e}\")\n",
    "        pass\n",
    "\n",
    "    try:\n",
    "        model.eval()\n",
    "        y_preds = []\n",
    "        y_true = []\n",
    "        with torch.inference_mode():\n",
    "            for sample in val_loader:\n",
    "                data, target = sample[0].to(device), sample[1].to(device)\n",
    "                y_true += target.tolist()\n",
    "                output = model(data)\n",
    "                y_preds += output.cpu().tolist()\n",
    "\n",
    "        y_true = np.array(y_true)\n",
    "        y_preds = np.array(y_preds)\n",
    "\n",
    "\n",
    "        mse = np.square(y_true - y_preds).mean()\n",
    "        mae = np.absolute(y_true - y_preds).mean()\n",
    "\n",
    "        analysis_results['mse'] = mse\n",
    "        analysis_results['mae'] = mae\n",
    "    except Exception:\n",
    "        pass\n",
    "    \n",
    "\n",
    "    file_exists = os.path.isfile(csv_file)\n",
    "    \n",
    "    with open(csv_file, mode='a', newline='') as f:\n",
    "        writer = csv.DictWriter(f, fieldnames=analysis_results.keys())\n",
    "        \n",
    "        if not file_exists:\n",
    "            writer.writeheader()  \n",
    "        \n",
    "        writer.writerow(analysis_results)  \n",
    "\n",
    "    return analysis_results"
   ]
  },
  {
   "cell_type": "code",
   "execution_count": 11,
   "metadata": {},
   "outputs": [
    {
     "name": "stdout",
     "output_type": "stream",
     "text": [
      "This is the shape of the input:  torch.Size([128, 8, 4096])\n"
     ]
    },
    {
     "name": "stderr",
     "output_type": "stream",
     "text": [
      "/home/mohammad.hallaq/workarea/venv/lib/python3.10/site-packages/torch/profiler/profiler.py:599: UserWarning: use_cuda is deprecated, use activities argument instead\n",
      "  warn(\"use_cuda is deprecated, use activities argument instead\")\n",
      "STAGE:2024-09-28 00:42:02 2529265:2529265 ActivityProfilerController.cpp:314] Completed Stage: Warm Up\n",
      "STAGE:2024-09-28 00:42:02 2529265:2529265 ActivityProfilerController.cpp:320] Completed Stage: Collection\n",
      "STAGE:2024-09-28 00:42:02 2529265:2529265 ActivityProfilerController.cpp:324] Completed Stage: Post Processing\n"
     ]
    }
   ],
   "source": [
    "# Set seed for reproducibility\n",
    "torch.manual_seed(42)\n",
    "\n",
    "# Free up cached memory\n",
    "torch.cuda.empty_cache()\n",
    "\n",
    "# Clear all the gradients\n",
    "torch.cuda.reset_max_memory_allocated()\n",
    "\n",
    "# example_inputs = torch.randn(128, 1, 8, 4096)  \n",
    "\n",
    "results = analyze_model_and_save_to_csv(original_model, test_loader, device=None, csv_file='model_analysis.csv')\n"
   ]
  },
  {
   "cell_type": "code",
   "execution_count": 13,
   "metadata": {},
   "outputs": [
    {
     "data": {
      "text/plain": [
       "{'model_name': 'MobileNetV3',\n",
       " 'model_size_mb (MB)': 0.16710662841796875,\n",
       " 'GFLOPs (GFLOPs)': 4221640.0,\n",
       " 'Total_Params (count)': 20011,\n",
       " 'First_Forward_Pass_Time (s)': 0.007390260696411133,\n",
       " 'Training_Time (s)': None,\n",
       " 'Inference_Time (s)': 0.006533912217617036,\n",
       " 'CUDA_Time (ms)': 1.2917417988813895,\n",
       " 'CPU_Time (ms)': 44.367,\n",
       " 'mse': 11.072968327240007,\n",
       " 'mae': 2.1413888255779048}"
      ]
     },
     "execution_count": 13,
     "metadata": {},
     "output_type": "execute_result"
    }
   ],
   "source": [
    "results"
   ]
  },
  {
   "cell_type": "code",
   "execution_count": 13,
   "metadata": {},
   "outputs": [
    {
     "data": {
      "text/plain": [
       "{'model_name': 'MobileNetV3',\n",
       " 'model_size_mb (MB)': 0.16710662841796875,\n",
       " 'GFLOPs (GFLOPs)': 4221640.0,\n",
       " 'Total_Params (count)': 20011,\n",
       " 'First_Forward_Pass_Time (s)': 0.00914311408996582,\n",
       " 'Training_Time (s)': None,\n",
       " 'Inference_Time (s)': 6.526299609375,\n",
       " 'CUDA_Time (ms)': 1.2900709757295232,\n",
       " 'CPU_Time (ms)': 46.39,\n",
       " 'mse': 11.072968327240007,\n",
       " 'mae': 2.1413888255779048}"
      ]
     },
     "execution_count": 13,
     "metadata": {},
     "output_type": "execute_result"
    }
   ],
   "source": [
    "results"
   ]
  },
  {
   "cell_type": "code",
   "execution_count": 12,
   "metadata": {},
   "outputs": [
    {
     "data": {
      "text/plain": [
       "{'model_name': 'MobileNetV3',\n",
       " 'model_size_mb (MB)': 2.1934127807617188,\n",
       " 'GFLOPs (GFLOPs)': 23439648.0,\n",
       " 'Total_Params (count)': 548482,\n",
       " 'First_Forward_Pass_Time (s)': 0.17281579971313477,\n",
       " 'Training_Time (s)': None,\n",
       " 'Inference_Time (s)': None,\n",
       " 'CUDA_Time (ms)': 0.0,\n",
       " 'CPU_Time (ms)': 258.884,\n",
       " 'mse': 1.2235901073928497,\n",
       " 'mae': 0.5767371606355566,\n",
       " 'Inference_Time (ms)': 171.6847984375}"
      ]
     },
     "execution_count": 12,
     "metadata": {},
     "output_type": "execute_result"
    },
    {
     "ename": "",
     "evalue": "",
     "output_type": "error",
     "traceback": [
      "\u001b[1;31mThe Kernel crashed while executing code in the current cell or a previous cell. \n",
      "\u001b[1;31mPlease review the code in the cell(s) to identify a possible cause of the failure. \n",
      "\u001b[1;31mClick <a href='https://aka.ms/vscodeJupyterKernelCrash'>here</a> for more info. \n",
      "\u001b[1;31mView Jupyter <a href='command:jupyter.viewOutput'>log</a> for further details."
     ]
    }
   ],
   "source": [
    "results"
   ]
  },
  {
   "cell_type": "code",
   "execution_count": 13,
   "metadata": {},
   "outputs": [
    {
     "data": {
      "text/plain": [
       "{'model_name': 'MobileNetV3',\n",
       " 'model_size_mb (MB)': 2.1971359252929688,\n",
       " 'GFLOPs (GFLOPs)': 23439648.0,\n",
       " 'Total_Params (count)': 548482,\n",
       " 'First_Forward_Pass_Time (s)': 0.007468700408935547,\n",
       " 'Training_Time (s)': None,\n",
       " 'Inference_Time (s)': 15.769742529296874,\n",
       " 'CUDA_Time (ms)': 3.291604980120744,\n",
       " 'CPU_Time (ms)': 49.332,\n",
       " 'mse': 1.2235874766855361,\n",
       " 'mae': 0.576736716231774}"
      ]
     },
     "execution_count": 13,
     "metadata": {},
     "output_type": "execute_result"
    }
   ],
   "source": [
    "results"
   ]
  },
  {
   "cell_type": "code",
   "execution_count": 10,
   "metadata": {},
   "outputs": [],
   "source": [
    "import torch\n",
    "import time\n",
    "\n",
    "def measure_inference_time(model, validation_loader, device=\"cuda\", num_iterations=100):\n",
    "    model.eval()\n",
    "    model.to(device)\n",
    "    \n",
    "    # Create CUDA events to measure time\n",
    "    start_event = torch.cuda.Event(enable_timing=True)\n",
    "    end_event = torch.cuda.Event(enable_timing=True)\n",
    "    \n",
    "    total_time = 0.0\n",
    "    \n",
    "    with torch.no_grad():\n",
    "        for i, (inputs, _) in enumerate(validation_loader):\n",
    "            if i >= num_iterations:  # Limit the number of iterations\n",
    "                break\n",
    "            \n",
    "            inputs = inputs.to(device)\n",
    "            \n",
    "            # Record the start time\n",
    "            start_event.record()\n",
    "            \n",
    "            # Forward pass\n",
    "            _ = model(inputs)\n",
    "            \n",
    "            # Record the end time\n",
    "            end_event.record()\n",
    "            \n",
    "            # Wait for everything to finish\n",
    "            torch.cuda.synchronize()\n",
    "            \n",
    "            # Measure time\n",
    "            iteration_time = start_event.elapsed_time(end_event)  # Time in milliseconds\n",
    "            total_time += iteration_time\n",
    "    \n",
    "    avg_time_per_batch = total_time / num_iterations\n",
    "    print(f\"Average inference time per batch: {avg_time_per_batch:.4f} ms\")\n",
    "    return avg_time_per_batch\n"
   ]
  },
  {
   "cell_type": "code",
   "execution_count": 12,
   "metadata": {},
   "outputs": [
    {
     "name": "stdout",
     "output_type": "stream",
     "text": [
      "Average inference time per batch: 16.2666 ms\n"
     ]
    }
   ],
   "source": [
    "inf_time = measure_inference_time(original_model, val_loader)"
   ]
  },
  {
   "cell_type": "code",
   "execution_count": 20,
   "metadata": {},
   "outputs": [],
   "source": [
    "# Define input shape\n",
    "input_size = (1, 8, 4096)  # For MNIST-like input\n",
    "\n",
    "# Capture summary into a string and write to file\n",
    "with open(\"model_structure.txt\", \"w\") as f:\n",
    "    summary_string = summary(pruned_model, input_size=input_size, verbose=0)\n",
    "    f.write(str(summary_string))"
   ]
  },
  {
   "cell_type": "code",
   "execution_count": 30,
   "metadata": {},
   "outputs": [],
   "source": [
    "def calculate_average_deviation(loader, model):\n",
    "    device = next(model.parameters()).device\n",
    "    model.to(device)\n",
    "    total_azimuth_deviation = 0\n",
    "    total_elevation_deviation = 0\n",
    "    num_samples = 0\n",
    "    with torch.no_grad():\n",
    "        for batch in loader:\n",
    "            inputs, true_angles = batch\n",
    "            inputs, true_angles = inputs.to(device), true_angles.to(device)\n",
    "            predicted = model(inputs).cpu().numpy()\n",
    "            true_angles = true_angles.cpu().numpy()\n",
    "            azimuth_deviation = np.abs(predicted[:, 0] - true_angles[:, 0])\n",
    "            elevation_deviation = np.abs(predicted[:, 1] - true_angles[:, 1])\n",
    "        \n",
    "            total_azimuth_deviation += np.sum(azimuth_deviation)\n",
    "            total_elevation_deviation += np.sum(elevation_deviation)\n",
    "            num_samples += len(true_angles)\n",
    "    avg_azimuth_deviation = total_azimuth_deviation / num_samples\n",
    "    avg_elevation_deviation = total_elevation_deviation / num_samples\n",
    "    return avg_azimuth_deviation, avg_elevation_deviation"
   ]
  },
  {
   "cell_type": "code",
   "execution_count": 31,
   "metadata": {},
   "outputs": [
    {
     "name": "stdout",
     "output_type": "stream",
     "text": [
      "2.0799208594635883 2.202856791666683\n"
     ]
    }
   ],
   "source": [
    "avg_azim_dev, avg_elev_dev = calculate_average_deviation(val_loader, pruned_model)\n",
    "print(avg_azim_dev, avg_elev_dev)"
   ]
  },
  {
   "cell_type": "code",
   "execution_count": 15,
   "metadata": {},
   "outputs": [],
   "source": [
    "def measure_inference_time(model: torch.nn.Module, validation_loader: torch.utils.data.DataLoader, num_tests: int = 5, num_iterations: int = 5) -> None:\n",
    "    \"\"\"\n",
    "    Measure the inference time of a PyTorch model on a CPU for multiple tests and iterations.\n",
    "\n",
    "    Args:\n",
    "        model (torch.nn.Module): The PyTorch model.\n",
    "        validation_loader (torch.utils.data.DataLoader): The DataLoader for the validation dataset.\n",
    "        num_tests (int): The number of tests to run the inference.\n",
    "        num_iterations (int): The number of iterations to run the inference for each test.\n",
    "\n",
    "    Returns:\n",
    "        None: Prints the total and average inference time for each test and overall statistics.\n",
    "    \"\"\"\n",
    "    # Move the model to CPU and set it to evaluation mode\n",
    "    device = torch.device(\"cpu\")\n",
    "    model.to(device)\n",
    "    model.eval()\n",
    "\n",
    "    # Disable gradient calculations for inference\n",
    "    overall_total_time = 0.0\n",
    "\n",
    "    with torch.no_grad():\n",
    "        for test in range(num_tests):\n",
    "            print(f\"Running Test {test + 1}/{num_tests}\")\n",
    "            test_total_time = 0.0\n",
    "\n",
    "            for iteration in range(num_iterations):\n",
    "                print(f\"  Iteration {iteration + 1}/{num_iterations}\")\n",
    "                iteration_inference_time = 0.0\n",
    "\n",
    "                for batch in validation_loader:\n",
    "                    # Move the batch to the CPU (if tensors are not already on CPU)\n",
    "                    batch = [tensor.to(device) for tensor in batch]\n",
    "\n",
    "                    # Start timing\n",
    "                    start_time = time.time()\n",
    "\n",
    "                    # Perform inference\n",
    "                    inputs = batch[0]  # Assuming the first element in the batch is the input tensor\n",
    "                    _ = model(inputs)\n",
    "\n",
    "                    # End timing\n",
    "                    batch_inference_time = time.time() - start_time\n",
    "                    iteration_inference_time += batch_inference_time\n",
    "\n",
    "                # Add the inference time for this iteration to the total for the test\n",
    "                test_total_time += iteration_inference_time\n",
    "                print(f\"    Inference time for iteration {iteration + 1}: {iteration_inference_time:.4f} seconds\")\n",
    "\n",
    "            # Calculate and print the average inference time per batch for this test\n",
    "            avg_test_time = test_total_time / (len(validation_loader) * num_iterations)\n",
    "            overall_total_time += test_total_time\n",
    "\n",
    "            print(f\"Total inference time for Test {test + 1}: {test_total_time:.4f} seconds\")\n",
    "            print(f\"Average inference time per batch for Test {test + 1}: {avg_test_time:.4f} seconds\\n\")\n",
    "\n",
    "    # Calculate and print overall statistics\n",
    "    overall_avg_time = overall_total_time / (num_tests * len(validation_loader) * num_iterations)\n",
    "    print(f\"Overall total inference time for {num_tests} tests: {overall_total_time:.4f} seconds\")\n",
    "    print(f\"Overall average inference time per batch: {overall_avg_time:.4f} seconds\")\n",
    "\n",
    "# Example usage\n",
    "# avg_time = measure_inference_time(model, validation_loader, num_tests=3, num_iterations=10)"
   ]
  },
  {
   "cell_type": "code",
   "execution_count": 19,
   "metadata": {},
   "outputs": [
    {
     "name": "stdout",
     "output_type": "stream",
     "text": [
      "Running Test 1/5\n",
      "  Iteration 1/5\n",
      "    Inference time for iteration 1: 359.6289 seconds\n",
      "  Iteration 2/5\n",
      "    Inference time for iteration 2: 363.6037 seconds\n",
      "  Iteration 3/5\n",
      "    Inference time for iteration 3: 359.1997 seconds\n",
      "  Iteration 4/5\n",
      "    Inference time for iteration 4: 356.5188 seconds\n",
      "  Iteration 5/5\n",
      "    Inference time for iteration 5: 359.2721 seconds\n",
      "Total inference time for Test 1: 1798.2232 seconds\n",
      "Average inference time per batch for Test 1: 0.1845 seconds\n",
      "\n",
      "Running Test 2/5\n",
      "  Iteration 1/5\n",
      "    Inference time for iteration 1: 348.4467 seconds\n",
      "  Iteration 2/5\n",
      "    Inference time for iteration 2: 345.9154 seconds\n",
      "  Iteration 3/5\n",
      "    Inference time for iteration 3: 325.8452 seconds\n",
      "  Iteration 4/5\n",
      "    Inference time for iteration 4: 316.4147 seconds\n",
      "  Iteration 5/5\n",
      "    Inference time for iteration 5: 312.7913 seconds\n",
      "Total inference time for Test 2: 1649.4133 seconds\n",
      "Average inference time per batch for Test 2: 0.1693 seconds\n",
      "\n",
      "Running Test 3/5\n",
      "  Iteration 1/5\n",
      "    Inference time for iteration 1: 323.3097 seconds\n",
      "  Iteration 2/5\n"
     ]
    },
    {
     "ename": "RuntimeError",
     "evalue": "DataLoader worker (pid 26043) is killed by signal: Terminated. ",
     "output_type": "error",
     "traceback": [
      "\u001b[0;31m---------------------------------------------------------------------------\u001b[0m",
      "\u001b[0;31mRuntimeError\u001b[0m                              Traceback (most recent call last)",
      "Cell \u001b[0;32mIn[19], line 2\u001b[0m\n\u001b[1;32m      1\u001b[0m \u001b[38;5;66;03m# Measure the inference time on CPU\u001b[39;00m\n\u001b[0;32m----> 2\u001b[0m avg_time \u001b[38;5;241m=\u001b[39m \u001b[43mmeasure_inference_time\u001b[49m\u001b[43m(\u001b[49m\u001b[43moriginal_model\u001b[49m\u001b[43m,\u001b[49m\u001b[43m \u001b[49m\u001b[43mtest_loader\u001b[49m\u001b[43m)\u001b[49m\n",
      "Cell \u001b[0;32mIn[18], line 40\u001b[0m, in \u001b[0;36mmeasure_inference_time\u001b[0;34m(model, validation_loader, num_tests, num_iterations)\u001b[0m\n\u001b[1;32m     38\u001b[0m \u001b[38;5;66;03m# Perform inference\u001b[39;00m\n\u001b[1;32m     39\u001b[0m inputs \u001b[38;5;241m=\u001b[39m batch[\u001b[38;5;241m0\u001b[39m]  \u001b[38;5;66;03m# Assuming the first element in the batch is the input tensor\u001b[39;00m\n\u001b[0;32m---> 40\u001b[0m _ \u001b[38;5;241m=\u001b[39m \u001b[43mmodel\u001b[49m\u001b[43m(\u001b[49m\u001b[43minputs\u001b[49m\u001b[43m)\u001b[49m\n\u001b[1;32m     42\u001b[0m \u001b[38;5;66;03m# End timing\u001b[39;00m\n\u001b[1;32m     43\u001b[0m batch_inference_time \u001b[38;5;241m=\u001b[39m time\u001b[38;5;241m.\u001b[39mtime() \u001b[38;5;241m-\u001b[39m start_time\n",
      "File \u001b[0;32m/home/mohammad.hallaq/workarea/venv/lib/python3.10/site-packages/torch/nn/modules/module.py:1532\u001b[0m, in \u001b[0;36mModule._wrapped_call_impl\u001b[0;34m(self, *args, **kwargs)\u001b[0m\n\u001b[1;32m   1530\u001b[0m     \u001b[38;5;28;01mreturn\u001b[39;00m \u001b[38;5;28mself\u001b[39m\u001b[38;5;241m.\u001b[39m_compiled_call_impl(\u001b[38;5;241m*\u001b[39margs, \u001b[38;5;241m*\u001b[39m\u001b[38;5;241m*\u001b[39mkwargs)  \u001b[38;5;66;03m# type: ignore[misc]\u001b[39;00m\n\u001b[1;32m   1531\u001b[0m \u001b[38;5;28;01melse\u001b[39;00m:\n\u001b[0;32m-> 1532\u001b[0m     \u001b[38;5;28;01mreturn\u001b[39;00m \u001b[38;5;28;43mself\u001b[39;49m\u001b[38;5;241;43m.\u001b[39;49m\u001b[43m_call_impl\u001b[49m\u001b[43m(\u001b[49m\u001b[38;5;241;43m*\u001b[39;49m\u001b[43margs\u001b[49m\u001b[43m,\u001b[49m\u001b[43m \u001b[49m\u001b[38;5;241;43m*\u001b[39;49m\u001b[38;5;241;43m*\u001b[39;49m\u001b[43mkwargs\u001b[49m\u001b[43m)\u001b[49m\n",
      "File \u001b[0;32m/home/mohammad.hallaq/workarea/venv/lib/python3.10/site-packages/torch/nn/modules/module.py:1541\u001b[0m, in \u001b[0;36mModule._call_impl\u001b[0;34m(self, *args, **kwargs)\u001b[0m\n\u001b[1;32m   1536\u001b[0m \u001b[38;5;66;03m# If we don't have any hooks, we want to skip the rest of the logic in\u001b[39;00m\n\u001b[1;32m   1537\u001b[0m \u001b[38;5;66;03m# this function, and just call forward.\u001b[39;00m\n\u001b[1;32m   1538\u001b[0m \u001b[38;5;28;01mif\u001b[39;00m \u001b[38;5;129;01mnot\u001b[39;00m (\u001b[38;5;28mself\u001b[39m\u001b[38;5;241m.\u001b[39m_backward_hooks \u001b[38;5;129;01mor\u001b[39;00m \u001b[38;5;28mself\u001b[39m\u001b[38;5;241m.\u001b[39m_backward_pre_hooks \u001b[38;5;129;01mor\u001b[39;00m \u001b[38;5;28mself\u001b[39m\u001b[38;5;241m.\u001b[39m_forward_hooks \u001b[38;5;129;01mor\u001b[39;00m \u001b[38;5;28mself\u001b[39m\u001b[38;5;241m.\u001b[39m_forward_pre_hooks\n\u001b[1;32m   1539\u001b[0m         \u001b[38;5;129;01mor\u001b[39;00m _global_backward_pre_hooks \u001b[38;5;129;01mor\u001b[39;00m _global_backward_hooks\n\u001b[1;32m   1540\u001b[0m         \u001b[38;5;129;01mor\u001b[39;00m _global_forward_hooks \u001b[38;5;129;01mor\u001b[39;00m _global_forward_pre_hooks):\n\u001b[0;32m-> 1541\u001b[0m     \u001b[38;5;28;01mreturn\u001b[39;00m \u001b[43mforward_call\u001b[49m\u001b[43m(\u001b[49m\u001b[38;5;241;43m*\u001b[39;49m\u001b[43margs\u001b[49m\u001b[43m,\u001b[49m\u001b[43m \u001b[49m\u001b[38;5;241;43m*\u001b[39;49m\u001b[38;5;241;43m*\u001b[39;49m\u001b[43mkwargs\u001b[49m\u001b[43m)\u001b[49m\n\u001b[1;32m   1543\u001b[0m \u001b[38;5;28;01mtry\u001b[39;00m:\n\u001b[1;32m   1544\u001b[0m     result \u001b[38;5;241m=\u001b[39m \u001b[38;5;28;01mNone\u001b[39;00m\n",
      "File \u001b[0;32m/home/mohammad.hallaq/workarea/venv/lib/python3.10/site-packages/timm/models/mobilenetv3.py:272\u001b[0m, in \u001b[0;36mMobileNetV3.forward\u001b[0;34m(self, x)\u001b[0m\n\u001b[1;32m    271\u001b[0m \u001b[38;5;28;01mdef\u001b[39;00m \u001b[38;5;21mforward\u001b[39m(\u001b[38;5;28mself\u001b[39m, x: torch\u001b[38;5;241m.\u001b[39mTensor) \u001b[38;5;241m-\u001b[39m\u001b[38;5;241m>\u001b[39m torch\u001b[38;5;241m.\u001b[39mTensor:\n\u001b[0;32m--> 272\u001b[0m     x \u001b[38;5;241m=\u001b[39m \u001b[38;5;28;43mself\u001b[39;49m\u001b[38;5;241;43m.\u001b[39;49m\u001b[43mforward_features\u001b[49m\u001b[43m(\u001b[49m\u001b[43mx\u001b[49m\u001b[43m)\u001b[49m\n\u001b[1;32m    273\u001b[0m     x \u001b[38;5;241m=\u001b[39m \u001b[38;5;28mself\u001b[39m\u001b[38;5;241m.\u001b[39mforward_head(x)\n\u001b[1;32m    274\u001b[0m     \u001b[38;5;28;01mreturn\u001b[39;00m x\n",
      "File \u001b[0;32m/home/mohammad.hallaq/workarea/venv/lib/python3.10/site-packages/timm/models/mobilenetv3.py:256\u001b[0m, in \u001b[0;36mMobileNetV3.forward_features\u001b[0;34m(self, x)\u001b[0m\n\u001b[1;32m    254\u001b[0m     x \u001b[38;5;241m=\u001b[39m checkpoint_seq(\u001b[38;5;28mself\u001b[39m\u001b[38;5;241m.\u001b[39mblocks, x, flatten\u001b[38;5;241m=\u001b[39m\u001b[38;5;28;01mTrue\u001b[39;00m)\n\u001b[1;32m    255\u001b[0m \u001b[38;5;28;01melse\u001b[39;00m:\n\u001b[0;32m--> 256\u001b[0m     x \u001b[38;5;241m=\u001b[39m \u001b[38;5;28;43mself\u001b[39;49m\u001b[38;5;241;43m.\u001b[39;49m\u001b[43mblocks\u001b[49m\u001b[43m(\u001b[49m\u001b[43mx\u001b[49m\u001b[43m)\u001b[49m\n\u001b[1;32m    257\u001b[0m \u001b[38;5;28;01mreturn\u001b[39;00m x\n",
      "File \u001b[0;32m/home/mohammad.hallaq/workarea/venv/lib/python3.10/site-packages/torch/nn/modules/module.py:1532\u001b[0m, in \u001b[0;36mModule._wrapped_call_impl\u001b[0;34m(self, *args, **kwargs)\u001b[0m\n\u001b[1;32m   1530\u001b[0m     \u001b[38;5;28;01mreturn\u001b[39;00m \u001b[38;5;28mself\u001b[39m\u001b[38;5;241m.\u001b[39m_compiled_call_impl(\u001b[38;5;241m*\u001b[39margs, \u001b[38;5;241m*\u001b[39m\u001b[38;5;241m*\u001b[39mkwargs)  \u001b[38;5;66;03m# type: ignore[misc]\u001b[39;00m\n\u001b[1;32m   1531\u001b[0m \u001b[38;5;28;01melse\u001b[39;00m:\n\u001b[0;32m-> 1532\u001b[0m     \u001b[38;5;28;01mreturn\u001b[39;00m \u001b[38;5;28;43mself\u001b[39;49m\u001b[38;5;241;43m.\u001b[39;49m\u001b[43m_call_impl\u001b[49m\u001b[43m(\u001b[49m\u001b[38;5;241;43m*\u001b[39;49m\u001b[43margs\u001b[49m\u001b[43m,\u001b[49m\u001b[43m \u001b[49m\u001b[38;5;241;43m*\u001b[39;49m\u001b[38;5;241;43m*\u001b[39;49m\u001b[43mkwargs\u001b[49m\u001b[43m)\u001b[49m\n",
      "File \u001b[0;32m/home/mohammad.hallaq/workarea/venv/lib/python3.10/site-packages/torch/nn/modules/module.py:1541\u001b[0m, in \u001b[0;36mModule._call_impl\u001b[0;34m(self, *args, **kwargs)\u001b[0m\n\u001b[1;32m   1536\u001b[0m \u001b[38;5;66;03m# If we don't have any hooks, we want to skip the rest of the logic in\u001b[39;00m\n\u001b[1;32m   1537\u001b[0m \u001b[38;5;66;03m# this function, and just call forward.\u001b[39;00m\n\u001b[1;32m   1538\u001b[0m \u001b[38;5;28;01mif\u001b[39;00m \u001b[38;5;129;01mnot\u001b[39;00m (\u001b[38;5;28mself\u001b[39m\u001b[38;5;241m.\u001b[39m_backward_hooks \u001b[38;5;129;01mor\u001b[39;00m \u001b[38;5;28mself\u001b[39m\u001b[38;5;241m.\u001b[39m_backward_pre_hooks \u001b[38;5;129;01mor\u001b[39;00m \u001b[38;5;28mself\u001b[39m\u001b[38;5;241m.\u001b[39m_forward_hooks \u001b[38;5;129;01mor\u001b[39;00m \u001b[38;5;28mself\u001b[39m\u001b[38;5;241m.\u001b[39m_forward_pre_hooks\n\u001b[1;32m   1539\u001b[0m         \u001b[38;5;129;01mor\u001b[39;00m _global_backward_pre_hooks \u001b[38;5;129;01mor\u001b[39;00m _global_backward_hooks\n\u001b[1;32m   1540\u001b[0m         \u001b[38;5;129;01mor\u001b[39;00m _global_forward_hooks \u001b[38;5;129;01mor\u001b[39;00m _global_forward_pre_hooks):\n\u001b[0;32m-> 1541\u001b[0m     \u001b[38;5;28;01mreturn\u001b[39;00m \u001b[43mforward_call\u001b[49m\u001b[43m(\u001b[49m\u001b[38;5;241;43m*\u001b[39;49m\u001b[43margs\u001b[49m\u001b[43m,\u001b[49m\u001b[43m \u001b[49m\u001b[38;5;241;43m*\u001b[39;49m\u001b[38;5;241;43m*\u001b[39;49m\u001b[43mkwargs\u001b[49m\u001b[43m)\u001b[49m\n\u001b[1;32m   1543\u001b[0m \u001b[38;5;28;01mtry\u001b[39;00m:\n\u001b[1;32m   1544\u001b[0m     result \u001b[38;5;241m=\u001b[39m \u001b[38;5;28;01mNone\u001b[39;00m\n",
      "File \u001b[0;32m/home/mohammad.hallaq/workarea/venv/lib/python3.10/site-packages/torch/nn/modules/container.py:217\u001b[0m, in \u001b[0;36mSequential.forward\u001b[0;34m(self, input)\u001b[0m\n\u001b[1;32m    215\u001b[0m \u001b[38;5;28;01mdef\u001b[39;00m \u001b[38;5;21mforward\u001b[39m(\u001b[38;5;28mself\u001b[39m, \u001b[38;5;28minput\u001b[39m):\n\u001b[1;32m    216\u001b[0m     \u001b[38;5;28;01mfor\u001b[39;00m module \u001b[38;5;129;01min\u001b[39;00m \u001b[38;5;28mself\u001b[39m:\n\u001b[0;32m--> 217\u001b[0m         \u001b[38;5;28minput\u001b[39m \u001b[38;5;241m=\u001b[39m \u001b[43mmodule\u001b[49m\u001b[43m(\u001b[49m\u001b[38;5;28;43minput\u001b[39;49m\u001b[43m)\u001b[49m\n\u001b[1;32m    218\u001b[0m     \u001b[38;5;28;01mreturn\u001b[39;00m \u001b[38;5;28minput\u001b[39m\n",
      "File \u001b[0;32m/home/mohammad.hallaq/workarea/venv/lib/python3.10/site-packages/torch/nn/modules/module.py:1532\u001b[0m, in \u001b[0;36mModule._wrapped_call_impl\u001b[0;34m(self, *args, **kwargs)\u001b[0m\n\u001b[1;32m   1530\u001b[0m     \u001b[38;5;28;01mreturn\u001b[39;00m \u001b[38;5;28mself\u001b[39m\u001b[38;5;241m.\u001b[39m_compiled_call_impl(\u001b[38;5;241m*\u001b[39margs, \u001b[38;5;241m*\u001b[39m\u001b[38;5;241m*\u001b[39mkwargs)  \u001b[38;5;66;03m# type: ignore[misc]\u001b[39;00m\n\u001b[1;32m   1531\u001b[0m \u001b[38;5;28;01melse\u001b[39;00m:\n\u001b[0;32m-> 1532\u001b[0m     \u001b[38;5;28;01mreturn\u001b[39;00m \u001b[38;5;28;43mself\u001b[39;49m\u001b[38;5;241;43m.\u001b[39;49m\u001b[43m_call_impl\u001b[49m\u001b[43m(\u001b[49m\u001b[38;5;241;43m*\u001b[39;49m\u001b[43margs\u001b[49m\u001b[43m,\u001b[49m\u001b[43m \u001b[49m\u001b[38;5;241;43m*\u001b[39;49m\u001b[38;5;241;43m*\u001b[39;49m\u001b[43mkwargs\u001b[49m\u001b[43m)\u001b[49m\n",
      "File \u001b[0;32m/home/mohammad.hallaq/workarea/venv/lib/python3.10/site-packages/torch/nn/modules/module.py:1541\u001b[0m, in \u001b[0;36mModule._call_impl\u001b[0;34m(self, *args, **kwargs)\u001b[0m\n\u001b[1;32m   1536\u001b[0m \u001b[38;5;66;03m# If we don't have any hooks, we want to skip the rest of the logic in\u001b[39;00m\n\u001b[1;32m   1537\u001b[0m \u001b[38;5;66;03m# this function, and just call forward.\u001b[39;00m\n\u001b[1;32m   1538\u001b[0m \u001b[38;5;28;01mif\u001b[39;00m \u001b[38;5;129;01mnot\u001b[39;00m (\u001b[38;5;28mself\u001b[39m\u001b[38;5;241m.\u001b[39m_backward_hooks \u001b[38;5;129;01mor\u001b[39;00m \u001b[38;5;28mself\u001b[39m\u001b[38;5;241m.\u001b[39m_backward_pre_hooks \u001b[38;5;129;01mor\u001b[39;00m \u001b[38;5;28mself\u001b[39m\u001b[38;5;241m.\u001b[39m_forward_hooks \u001b[38;5;129;01mor\u001b[39;00m \u001b[38;5;28mself\u001b[39m\u001b[38;5;241m.\u001b[39m_forward_pre_hooks\n\u001b[1;32m   1539\u001b[0m         \u001b[38;5;129;01mor\u001b[39;00m _global_backward_pre_hooks \u001b[38;5;129;01mor\u001b[39;00m _global_backward_hooks\n\u001b[1;32m   1540\u001b[0m         \u001b[38;5;129;01mor\u001b[39;00m _global_forward_hooks \u001b[38;5;129;01mor\u001b[39;00m _global_forward_pre_hooks):\n\u001b[0;32m-> 1541\u001b[0m     \u001b[38;5;28;01mreturn\u001b[39;00m \u001b[43mforward_call\u001b[49m\u001b[43m(\u001b[49m\u001b[38;5;241;43m*\u001b[39;49m\u001b[43margs\u001b[49m\u001b[43m,\u001b[49m\u001b[43m \u001b[49m\u001b[38;5;241;43m*\u001b[39;49m\u001b[38;5;241;43m*\u001b[39;49m\u001b[43mkwargs\u001b[49m\u001b[43m)\u001b[49m\n\u001b[1;32m   1543\u001b[0m \u001b[38;5;28;01mtry\u001b[39;00m:\n\u001b[1;32m   1544\u001b[0m     result \u001b[38;5;241m=\u001b[39m \u001b[38;5;28;01mNone\u001b[39;00m\n",
      "File \u001b[0;32m/home/mohammad.hallaq/workarea/venv/lib/python3.10/site-packages/torch/nn/modules/container.py:217\u001b[0m, in \u001b[0;36mSequential.forward\u001b[0;34m(self, input)\u001b[0m\n\u001b[1;32m    215\u001b[0m \u001b[38;5;28;01mdef\u001b[39;00m \u001b[38;5;21mforward\u001b[39m(\u001b[38;5;28mself\u001b[39m, \u001b[38;5;28minput\u001b[39m):\n\u001b[1;32m    216\u001b[0m     \u001b[38;5;28;01mfor\u001b[39;00m module \u001b[38;5;129;01min\u001b[39;00m \u001b[38;5;28mself\u001b[39m:\n\u001b[0;32m--> 217\u001b[0m         \u001b[38;5;28minput\u001b[39m \u001b[38;5;241m=\u001b[39m \u001b[43mmodule\u001b[49m\u001b[43m(\u001b[49m\u001b[38;5;28;43minput\u001b[39;49m\u001b[43m)\u001b[49m\n\u001b[1;32m    218\u001b[0m     \u001b[38;5;28;01mreturn\u001b[39;00m \u001b[38;5;28minput\u001b[39m\n",
      "File \u001b[0;32m/home/mohammad.hallaq/workarea/venv/lib/python3.10/site-packages/torch/nn/modules/module.py:1532\u001b[0m, in \u001b[0;36mModule._wrapped_call_impl\u001b[0;34m(self, *args, **kwargs)\u001b[0m\n\u001b[1;32m   1530\u001b[0m     \u001b[38;5;28;01mreturn\u001b[39;00m \u001b[38;5;28mself\u001b[39m\u001b[38;5;241m.\u001b[39m_compiled_call_impl(\u001b[38;5;241m*\u001b[39margs, \u001b[38;5;241m*\u001b[39m\u001b[38;5;241m*\u001b[39mkwargs)  \u001b[38;5;66;03m# type: ignore[misc]\u001b[39;00m\n\u001b[1;32m   1531\u001b[0m \u001b[38;5;28;01melse\u001b[39;00m:\n\u001b[0;32m-> 1532\u001b[0m     \u001b[38;5;28;01mreturn\u001b[39;00m \u001b[38;5;28;43mself\u001b[39;49m\u001b[38;5;241;43m.\u001b[39;49m\u001b[43m_call_impl\u001b[49m\u001b[43m(\u001b[49m\u001b[38;5;241;43m*\u001b[39;49m\u001b[43margs\u001b[49m\u001b[43m,\u001b[49m\u001b[43m \u001b[49m\u001b[38;5;241;43m*\u001b[39;49m\u001b[38;5;241;43m*\u001b[39;49m\u001b[43mkwargs\u001b[49m\u001b[43m)\u001b[49m\n",
      "File \u001b[0;32m/home/mohammad.hallaq/workarea/venv/lib/python3.10/site-packages/torch/nn/modules/module.py:1541\u001b[0m, in \u001b[0;36mModule._call_impl\u001b[0;34m(self, *args, **kwargs)\u001b[0m\n\u001b[1;32m   1536\u001b[0m \u001b[38;5;66;03m# If we don't have any hooks, we want to skip the rest of the logic in\u001b[39;00m\n\u001b[1;32m   1537\u001b[0m \u001b[38;5;66;03m# this function, and just call forward.\u001b[39;00m\n\u001b[1;32m   1538\u001b[0m \u001b[38;5;28;01mif\u001b[39;00m \u001b[38;5;129;01mnot\u001b[39;00m (\u001b[38;5;28mself\u001b[39m\u001b[38;5;241m.\u001b[39m_backward_hooks \u001b[38;5;129;01mor\u001b[39;00m \u001b[38;5;28mself\u001b[39m\u001b[38;5;241m.\u001b[39m_backward_pre_hooks \u001b[38;5;129;01mor\u001b[39;00m \u001b[38;5;28mself\u001b[39m\u001b[38;5;241m.\u001b[39m_forward_hooks \u001b[38;5;129;01mor\u001b[39;00m \u001b[38;5;28mself\u001b[39m\u001b[38;5;241m.\u001b[39m_forward_pre_hooks\n\u001b[1;32m   1539\u001b[0m         \u001b[38;5;129;01mor\u001b[39;00m _global_backward_pre_hooks \u001b[38;5;129;01mor\u001b[39;00m _global_backward_hooks\n\u001b[1;32m   1540\u001b[0m         \u001b[38;5;129;01mor\u001b[39;00m _global_forward_hooks \u001b[38;5;129;01mor\u001b[39;00m _global_forward_pre_hooks):\n\u001b[0;32m-> 1541\u001b[0m     \u001b[38;5;28;01mreturn\u001b[39;00m \u001b[43mforward_call\u001b[49m\u001b[43m(\u001b[49m\u001b[38;5;241;43m*\u001b[39;49m\u001b[43margs\u001b[49m\u001b[43m,\u001b[49m\u001b[43m \u001b[49m\u001b[38;5;241;43m*\u001b[39;49m\u001b[38;5;241;43m*\u001b[39;49m\u001b[43mkwargs\u001b[49m\u001b[43m)\u001b[49m\n\u001b[1;32m   1543\u001b[0m \u001b[38;5;28;01mtry\u001b[39;00m:\n\u001b[1;32m   1544\u001b[0m     result \u001b[38;5;241m=\u001b[39m \u001b[38;5;28;01mNone\u001b[39;00m\n",
      "File \u001b[0;32m/home/mohammad.hallaq/workarea/venv/lib/python3.10/site-packages/timm/models/_efficientnet_blocks.py:291\u001b[0m, in \u001b[0;36mInvertedResidual.forward\u001b[0;34m(self, x)\u001b[0m\n\u001b[1;32m    289\u001b[0m x \u001b[38;5;241m=\u001b[39m \u001b[38;5;28mself\u001b[39m\u001b[38;5;241m.\u001b[39mbn2(x)\n\u001b[1;32m    290\u001b[0m x \u001b[38;5;241m=\u001b[39m \u001b[38;5;28mself\u001b[39m\u001b[38;5;241m.\u001b[39maa(x)\n\u001b[0;32m--> 291\u001b[0m x \u001b[38;5;241m=\u001b[39m \u001b[38;5;28;43mself\u001b[39;49m\u001b[38;5;241;43m.\u001b[39;49m\u001b[43mse\u001b[49m\u001b[43m(\u001b[49m\u001b[43mx\u001b[49m\u001b[43m)\u001b[49m\n\u001b[1;32m    292\u001b[0m x \u001b[38;5;241m=\u001b[39m \u001b[38;5;28mself\u001b[39m\u001b[38;5;241m.\u001b[39mconv_pwl(x)\n\u001b[1;32m    293\u001b[0m x \u001b[38;5;241m=\u001b[39m \u001b[38;5;28mself\u001b[39m\u001b[38;5;241m.\u001b[39mbn3(x)\n",
      "File \u001b[0;32m/home/mohammad.hallaq/workarea/venv/lib/python3.10/site-packages/torch/nn/modules/module.py:1532\u001b[0m, in \u001b[0;36mModule._wrapped_call_impl\u001b[0;34m(self, *args, **kwargs)\u001b[0m\n\u001b[1;32m   1530\u001b[0m     \u001b[38;5;28;01mreturn\u001b[39;00m \u001b[38;5;28mself\u001b[39m\u001b[38;5;241m.\u001b[39m_compiled_call_impl(\u001b[38;5;241m*\u001b[39margs, \u001b[38;5;241m*\u001b[39m\u001b[38;5;241m*\u001b[39mkwargs)  \u001b[38;5;66;03m# type: ignore[misc]\u001b[39;00m\n\u001b[1;32m   1531\u001b[0m \u001b[38;5;28;01melse\u001b[39;00m:\n\u001b[0;32m-> 1532\u001b[0m     \u001b[38;5;28;01mreturn\u001b[39;00m \u001b[38;5;28;43mself\u001b[39;49m\u001b[38;5;241;43m.\u001b[39;49m\u001b[43m_call_impl\u001b[49m\u001b[43m(\u001b[49m\u001b[38;5;241;43m*\u001b[39;49m\u001b[43margs\u001b[49m\u001b[43m,\u001b[49m\u001b[43m \u001b[49m\u001b[38;5;241;43m*\u001b[39;49m\u001b[38;5;241;43m*\u001b[39;49m\u001b[43mkwargs\u001b[49m\u001b[43m)\u001b[49m\n",
      "File \u001b[0;32m/home/mohammad.hallaq/workarea/venv/lib/python3.10/site-packages/torch/nn/modules/module.py:1541\u001b[0m, in \u001b[0;36mModule._call_impl\u001b[0;34m(self, *args, **kwargs)\u001b[0m\n\u001b[1;32m   1536\u001b[0m \u001b[38;5;66;03m# If we don't have any hooks, we want to skip the rest of the logic in\u001b[39;00m\n\u001b[1;32m   1537\u001b[0m \u001b[38;5;66;03m# this function, and just call forward.\u001b[39;00m\n\u001b[1;32m   1538\u001b[0m \u001b[38;5;28;01mif\u001b[39;00m \u001b[38;5;129;01mnot\u001b[39;00m (\u001b[38;5;28mself\u001b[39m\u001b[38;5;241m.\u001b[39m_backward_hooks \u001b[38;5;129;01mor\u001b[39;00m \u001b[38;5;28mself\u001b[39m\u001b[38;5;241m.\u001b[39m_backward_pre_hooks \u001b[38;5;129;01mor\u001b[39;00m \u001b[38;5;28mself\u001b[39m\u001b[38;5;241m.\u001b[39m_forward_hooks \u001b[38;5;129;01mor\u001b[39;00m \u001b[38;5;28mself\u001b[39m\u001b[38;5;241m.\u001b[39m_forward_pre_hooks\n\u001b[1;32m   1539\u001b[0m         \u001b[38;5;129;01mor\u001b[39;00m _global_backward_pre_hooks \u001b[38;5;129;01mor\u001b[39;00m _global_backward_hooks\n\u001b[1;32m   1540\u001b[0m         \u001b[38;5;129;01mor\u001b[39;00m _global_forward_hooks \u001b[38;5;129;01mor\u001b[39;00m _global_forward_pre_hooks):\n\u001b[0;32m-> 1541\u001b[0m     \u001b[38;5;28;01mreturn\u001b[39;00m \u001b[43mforward_call\u001b[49m\u001b[43m(\u001b[49m\u001b[38;5;241;43m*\u001b[39;49m\u001b[43margs\u001b[49m\u001b[43m,\u001b[49m\u001b[43m \u001b[49m\u001b[38;5;241;43m*\u001b[39;49m\u001b[38;5;241;43m*\u001b[39;49m\u001b[43mkwargs\u001b[49m\u001b[43m)\u001b[49m\n\u001b[1;32m   1543\u001b[0m \u001b[38;5;28;01mtry\u001b[39;00m:\n\u001b[1;32m   1544\u001b[0m     result \u001b[38;5;241m=\u001b[39m \u001b[38;5;28;01mNone\u001b[39;00m\n",
      "File \u001b[0;32m/home/mohammad.hallaq/workarea/MobileNet_compression/mobilenetv3.py:42\u001b[0m, in \u001b[0;36mSqueezeExcite.forward\u001b[0;34m(self, x)\u001b[0m\n\u001b[1;32m     40\u001b[0m \u001b[38;5;28;01mdef\u001b[39;00m \u001b[38;5;21mforward\u001b[39m(\u001b[38;5;28mself\u001b[39m, x):\n\u001b[1;32m     41\u001b[0m     x_se \u001b[38;5;241m=\u001b[39m x\u001b[38;5;241m.\u001b[39mmean((\u001b[38;5;241m2\u001b[39m,), keepdim\u001b[38;5;241m=\u001b[39m\u001b[38;5;28;01mTrue\u001b[39;00m)\n\u001b[0;32m---> 42\u001b[0m     x_se \u001b[38;5;241m=\u001b[39m \u001b[38;5;28;43mself\u001b[39;49m\u001b[38;5;241;43m.\u001b[39;49m\u001b[43mconv_reduce\u001b[49m\u001b[43m(\u001b[49m\u001b[43mx_se\u001b[49m\u001b[43m)\u001b[49m\n\u001b[1;32m     43\u001b[0m     x_se \u001b[38;5;241m=\u001b[39m \u001b[38;5;28mself\u001b[39m\u001b[38;5;241m.\u001b[39mact1(x_se)\n\u001b[1;32m     44\u001b[0m     x_se \u001b[38;5;241m=\u001b[39m \u001b[38;5;28mself\u001b[39m\u001b[38;5;241m.\u001b[39mconv_expand(x_se)\n",
      "File \u001b[0;32m/home/mohammad.hallaq/workarea/venv/lib/python3.10/site-packages/torch/nn/modules/module.py:1532\u001b[0m, in \u001b[0;36mModule._wrapped_call_impl\u001b[0;34m(self, *args, **kwargs)\u001b[0m\n\u001b[1;32m   1530\u001b[0m     \u001b[38;5;28;01mreturn\u001b[39;00m \u001b[38;5;28mself\u001b[39m\u001b[38;5;241m.\u001b[39m_compiled_call_impl(\u001b[38;5;241m*\u001b[39margs, \u001b[38;5;241m*\u001b[39m\u001b[38;5;241m*\u001b[39mkwargs)  \u001b[38;5;66;03m# type: ignore[misc]\u001b[39;00m\n\u001b[1;32m   1531\u001b[0m \u001b[38;5;28;01melse\u001b[39;00m:\n\u001b[0;32m-> 1532\u001b[0m     \u001b[38;5;28;01mreturn\u001b[39;00m \u001b[38;5;28;43mself\u001b[39;49m\u001b[38;5;241;43m.\u001b[39;49m\u001b[43m_call_impl\u001b[49m\u001b[43m(\u001b[49m\u001b[38;5;241;43m*\u001b[39;49m\u001b[43margs\u001b[49m\u001b[43m,\u001b[49m\u001b[43m \u001b[49m\u001b[38;5;241;43m*\u001b[39;49m\u001b[38;5;241;43m*\u001b[39;49m\u001b[43mkwargs\u001b[49m\u001b[43m)\u001b[49m\n",
      "File \u001b[0;32m/home/mohammad.hallaq/workarea/venv/lib/python3.10/site-packages/torch/nn/modules/module.py:1541\u001b[0m, in \u001b[0;36mModule._call_impl\u001b[0;34m(self, *args, **kwargs)\u001b[0m\n\u001b[1;32m   1536\u001b[0m \u001b[38;5;66;03m# If we don't have any hooks, we want to skip the rest of the logic in\u001b[39;00m\n\u001b[1;32m   1537\u001b[0m \u001b[38;5;66;03m# this function, and just call forward.\u001b[39;00m\n\u001b[1;32m   1538\u001b[0m \u001b[38;5;28;01mif\u001b[39;00m \u001b[38;5;129;01mnot\u001b[39;00m (\u001b[38;5;28mself\u001b[39m\u001b[38;5;241m.\u001b[39m_backward_hooks \u001b[38;5;129;01mor\u001b[39;00m \u001b[38;5;28mself\u001b[39m\u001b[38;5;241m.\u001b[39m_backward_pre_hooks \u001b[38;5;129;01mor\u001b[39;00m \u001b[38;5;28mself\u001b[39m\u001b[38;5;241m.\u001b[39m_forward_hooks \u001b[38;5;129;01mor\u001b[39;00m \u001b[38;5;28mself\u001b[39m\u001b[38;5;241m.\u001b[39m_forward_pre_hooks\n\u001b[1;32m   1539\u001b[0m         \u001b[38;5;129;01mor\u001b[39;00m _global_backward_pre_hooks \u001b[38;5;129;01mor\u001b[39;00m _global_backward_hooks\n\u001b[1;32m   1540\u001b[0m         \u001b[38;5;129;01mor\u001b[39;00m _global_forward_hooks \u001b[38;5;129;01mor\u001b[39;00m _global_forward_pre_hooks):\n\u001b[0;32m-> 1541\u001b[0m     \u001b[38;5;28;01mreturn\u001b[39;00m \u001b[43mforward_call\u001b[49m\u001b[43m(\u001b[49m\u001b[38;5;241;43m*\u001b[39;49m\u001b[43margs\u001b[49m\u001b[43m,\u001b[49m\u001b[43m \u001b[49m\u001b[38;5;241;43m*\u001b[39;49m\u001b[38;5;241;43m*\u001b[39;49m\u001b[43mkwargs\u001b[49m\u001b[43m)\u001b[49m\n\u001b[1;32m   1543\u001b[0m \u001b[38;5;28;01mtry\u001b[39;00m:\n\u001b[1;32m   1544\u001b[0m     result \u001b[38;5;241m=\u001b[39m \u001b[38;5;28;01mNone\u001b[39;00m\n",
      "File \u001b[0;32m/home/mohammad.hallaq/workarea/venv/lib/python3.10/site-packages/torch/nn/modules/conv.py:310\u001b[0m, in \u001b[0;36mConv1d.forward\u001b[0;34m(self, input)\u001b[0m\n\u001b[1;32m    309\u001b[0m \u001b[38;5;28;01mdef\u001b[39;00m \u001b[38;5;21mforward\u001b[39m(\u001b[38;5;28mself\u001b[39m, \u001b[38;5;28minput\u001b[39m: Tensor) \u001b[38;5;241m-\u001b[39m\u001b[38;5;241m>\u001b[39m Tensor:\n\u001b[0;32m--> 310\u001b[0m     \u001b[38;5;28;01mreturn\u001b[39;00m \u001b[38;5;28;43mself\u001b[39;49m\u001b[38;5;241;43m.\u001b[39;49m\u001b[43m_conv_forward\u001b[49m\u001b[43m(\u001b[49m\u001b[38;5;28;43minput\u001b[39;49m\u001b[43m,\u001b[49m\u001b[43m \u001b[49m\u001b[38;5;28;43mself\u001b[39;49m\u001b[38;5;241;43m.\u001b[39;49m\u001b[43mweight\u001b[49m\u001b[43m,\u001b[49m\u001b[43m \u001b[49m\u001b[38;5;28;43mself\u001b[39;49m\u001b[38;5;241;43m.\u001b[39;49m\u001b[43mbias\u001b[49m\u001b[43m)\u001b[49m\n",
      "File \u001b[0;32m/home/mohammad.hallaq/workarea/venv/lib/python3.10/site-packages/torch/nn/modules/conv.py:306\u001b[0m, in \u001b[0;36mConv1d._conv_forward\u001b[0;34m(self, input, weight, bias)\u001b[0m\n\u001b[1;32m    302\u001b[0m \u001b[38;5;28;01mif\u001b[39;00m \u001b[38;5;28mself\u001b[39m\u001b[38;5;241m.\u001b[39mpadding_mode \u001b[38;5;241m!=\u001b[39m \u001b[38;5;124m'\u001b[39m\u001b[38;5;124mzeros\u001b[39m\u001b[38;5;124m'\u001b[39m:\n\u001b[1;32m    303\u001b[0m     \u001b[38;5;28;01mreturn\u001b[39;00m F\u001b[38;5;241m.\u001b[39mconv1d(F\u001b[38;5;241m.\u001b[39mpad(\u001b[38;5;28minput\u001b[39m, \u001b[38;5;28mself\u001b[39m\u001b[38;5;241m.\u001b[39m_reversed_padding_repeated_twice, mode\u001b[38;5;241m=\u001b[39m\u001b[38;5;28mself\u001b[39m\u001b[38;5;241m.\u001b[39mpadding_mode),\n\u001b[1;32m    304\u001b[0m                     weight, bias, \u001b[38;5;28mself\u001b[39m\u001b[38;5;241m.\u001b[39mstride,\n\u001b[1;32m    305\u001b[0m                     _single(\u001b[38;5;241m0\u001b[39m), \u001b[38;5;28mself\u001b[39m\u001b[38;5;241m.\u001b[39mdilation, \u001b[38;5;28mself\u001b[39m\u001b[38;5;241m.\u001b[39mgroups)\n\u001b[0;32m--> 306\u001b[0m \u001b[38;5;28;01mreturn\u001b[39;00m \u001b[43mF\u001b[49m\u001b[38;5;241;43m.\u001b[39;49m\u001b[43mconv1d\u001b[49m\u001b[43m(\u001b[49m\u001b[38;5;28;43minput\u001b[39;49m\u001b[43m,\u001b[49m\u001b[43m \u001b[49m\u001b[43mweight\u001b[49m\u001b[43m,\u001b[49m\u001b[43m \u001b[49m\u001b[43mbias\u001b[49m\u001b[43m,\u001b[49m\u001b[43m \u001b[49m\u001b[38;5;28;43mself\u001b[39;49m\u001b[38;5;241;43m.\u001b[39;49m\u001b[43mstride\u001b[49m\u001b[43m,\u001b[49m\n\u001b[1;32m    307\u001b[0m \u001b[43m                \u001b[49m\u001b[38;5;28;43mself\u001b[39;49m\u001b[38;5;241;43m.\u001b[39;49m\u001b[43mpadding\u001b[49m\u001b[43m,\u001b[49m\u001b[43m \u001b[49m\u001b[38;5;28;43mself\u001b[39;49m\u001b[38;5;241;43m.\u001b[39;49m\u001b[43mdilation\u001b[49m\u001b[43m,\u001b[49m\u001b[43m \u001b[49m\u001b[38;5;28;43mself\u001b[39;49m\u001b[38;5;241;43m.\u001b[39;49m\u001b[43mgroups\u001b[49m\u001b[43m)\u001b[49m\n",
      "File \u001b[0;32m/home/mohammad.hallaq/workarea/venv/lib/python3.10/site-packages/torch/utils/data/_utils/signal_handling.py:66\u001b[0m, in \u001b[0;36m_set_SIGCHLD_handler.<locals>.handler\u001b[0;34m(signum, frame)\u001b[0m\n\u001b[1;32m     63\u001b[0m \u001b[38;5;28;01mdef\u001b[39;00m \u001b[38;5;21mhandler\u001b[39m(signum, frame):\n\u001b[1;32m     64\u001b[0m     \u001b[38;5;66;03m# This following call uses `waitid` with WNOHANG from C side. Therefore,\u001b[39;00m\n\u001b[1;32m     65\u001b[0m     \u001b[38;5;66;03m# Python can still get and update the process status successfully.\u001b[39;00m\n\u001b[0;32m---> 66\u001b[0m     \u001b[43m_error_if_any_worker_fails\u001b[49m\u001b[43m(\u001b[49m\u001b[43m)\u001b[49m\n\u001b[1;32m     67\u001b[0m     \u001b[38;5;28;01mif\u001b[39;00m previous_handler \u001b[38;5;129;01mis\u001b[39;00m \u001b[38;5;129;01mnot\u001b[39;00m \u001b[38;5;28;01mNone\u001b[39;00m:\n\u001b[1;32m     68\u001b[0m         \u001b[38;5;28;01massert\u001b[39;00m \u001b[38;5;28mcallable\u001b[39m(previous_handler)\n",
      "\u001b[0;31mRuntimeError\u001b[0m: DataLoader worker (pid 26043) is killed by signal: Terminated. "
     ]
    }
   ],
   "source": [
    "# Measure the inference time on CPU\n",
    "avg_time = measure_inference_time(original_model, test_loader)"
   ]
  },
  {
   "cell_type": "code",
   "execution_count": 16,
   "metadata": {},
   "outputs": [
    {
     "name": "stdout",
     "output_type": "stream",
     "text": [
      "Running Test 1/5\n",
      "  Iteration 1/5\n",
      "    Inference time for iteration 1: 88.6430 seconds\n",
      "  Iteration 2/5\n",
      "    Inference time for iteration 2: 93.6028 seconds\n",
      "  Iteration 3/5\n",
      "    Inference time for iteration 3: 94.0650 seconds\n",
      "  Iteration 4/5\n",
      "    Inference time for iteration 4: 91.3547 seconds\n",
      "  Iteration 5/5\n",
      "    Inference time for iteration 5: 94.3829 seconds\n",
      "Total inference time for Test 1: 462.0484 seconds\n",
      "Average inference time per batch for Test 1: 0.0474 seconds\n",
      "\n",
      "Running Test 2/5\n",
      "  Iteration 1/5\n",
      "    Inference time for iteration 1: 109.8235 seconds\n",
      "  Iteration 2/5\n",
      "    Inference time for iteration 2: 91.4578 seconds\n",
      "  Iteration 3/5\n",
      "    Inference time for iteration 3: 90.6454 seconds\n",
      "  Iteration 4/5\n",
      "    Inference time for iteration 4: 103.5278 seconds\n",
      "  Iteration 5/5\n",
      "    Inference time for iteration 5: 106.0151 seconds\n",
      "Total inference time for Test 2: 501.4695 seconds\n",
      "Average inference time per batch for Test 2: 0.0515 seconds\n",
      "\n",
      "Running Test 3/5\n",
      "  Iteration 1/5\n",
      "    Inference time for iteration 1: 100.9077 seconds\n",
      "  Iteration 2/5\n",
      "    Inference time for iteration 2: 98.7734 seconds\n",
      "  Iteration 3/5\n",
      "    Inference time for iteration 3: 90.7363 seconds\n",
      "  Iteration 4/5\n",
      "    Inference time for iteration 4: 95.5246 seconds\n",
      "  Iteration 5/5\n",
      "    Inference time for iteration 5: 94.3059 seconds\n",
      "Total inference time for Test 3: 480.2479 seconds\n",
      "Average inference time per batch for Test 3: 0.0493 seconds\n",
      "\n",
      "Running Test 4/5\n",
      "  Iteration 1/5\n",
      "    Inference time for iteration 1: 93.0180 seconds\n",
      "  Iteration 2/5\n",
      "    Inference time for iteration 2: 97.1911 seconds\n",
      "  Iteration 3/5\n",
      "    Inference time for iteration 3: 96.3650 seconds\n",
      "  Iteration 4/5\n",
      "    Inference time for iteration 4: 99.2559 seconds\n",
      "  Iteration 5/5\n",
      "    Inference time for iteration 5: 94.2001 seconds\n",
      "Total inference time for Test 4: 480.0300 seconds\n",
      "Average inference time per batch for Test 4: 0.0493 seconds\n",
      "\n",
      "Running Test 5/5\n",
      "  Iteration 1/5\n",
      "    Inference time for iteration 1: 104.7506 seconds\n",
      "  Iteration 2/5\n",
      "    Inference time for iteration 2: 98.1103 seconds\n",
      "  Iteration 3/5\n",
      "    Inference time for iteration 3: 92.3074 seconds\n",
      "  Iteration 4/5\n",
      "    Inference time for iteration 4: 92.7170 seconds\n",
      "  Iteration 5/5\n",
      "    Inference time for iteration 5: 101.1715 seconds\n",
      "Total inference time for Test 5: 489.0568 seconds\n",
      "Average inference time per batch for Test 5: 0.0502 seconds\n",
      "\n",
      "Overall total inference time for 5 tests: 2412.8527 seconds\n",
      "Overall average inference time per batch: 0.0495 seconds\n"
     ]
    }
   ],
   "source": [
    "# Measure the inference time on CPU\n",
    "avg_time = measure_inference_time(pruned_model, test_loader)"
   ]
  },
  {
   "cell_type": "code",
   "execution_count": 17,
   "metadata": {},
   "outputs": [
    {
     "name": "stdout",
     "output_type": "stream",
     "text": [
      "MACs: 0.023439648 G -> 0.00422164 G, #Params: 0.548482 M -> 0.020011 M\n"
     ]
    }
   ],
   "source": [
    "sample = next(iter(test_loader))\n",
    "base_macs, base_nparams = tp.utils.count_ops_and_params(original_model, sample[0])\n",
    "macs, nparams = tp.utils.count_ops_and_params(pruned_model, sample[0])\n",
    "print(f\"MACs: {base_macs/1e9} G -> {macs/1e9} G, #Params: {base_nparams/1e6} M -> {nparams/1e6} M\")"
   ]
  }
 ],
 "metadata": {
  "kernelspec": {
   "display_name": "Python 3 (ipykernel)",
   "language": "python",
   "name": "python3"
  },
  "language_info": {
   "codemirror_mode": {
    "name": "ipython",
    "version": 3
   },
   "file_extension": ".py",
   "mimetype": "text/x-python",
   "name": "python",
   "nbconvert_exporter": "python",
   "pygments_lexer": "ipython3",
   "version": "3.10.12"
  }
 },
 "nbformat": 4,
 "nbformat_minor": 2
}
