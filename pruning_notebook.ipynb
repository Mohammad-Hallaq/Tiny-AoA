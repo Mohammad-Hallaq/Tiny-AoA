{
 "cells": [
  {
   "cell_type": "code",
   "execution_count": 1,
   "metadata": {},
   "outputs": [],
   "source": [
    "import os\n",
    "import torch\n",
    "import torch.nn.functional as F\n",
    "from torch.utils.data import DataLoader, TensorDataset\n",
    "import numpy as np\n",
    "import matplotlib.pyplot as plt\n",
    "from torchsummary import summary\n",
    "import torch_pruning as tp\n",
    "from mobilenetv3 import mobilenetv3\n",
    "from collections import defaultdict\n",
    "import time\n",
    "import pandas as pd\n",
    "from sklearn.model_selection import train_test_split\n",
    "import pytorch_lightning as L\n",
    "import h5py\n",
    "from torch.utils.data import Dataset\n",
    "import copy"
   ]
  },
  {
   "cell_type": "code",
   "execution_count": 2,
   "metadata": {},
   "outputs": [],
   "source": [
    "def test_and_plot(loader, model, title_suffix, file_suffix):\n",
    "    device = next(model.parameters()).device  \n",
    "    with torch.no_grad():\n",
    "        predictions_dict = defaultdict(list)\n",
    "        for batch in loader:\n",
    "            inputs, true_angles = batch\n",
    "            inputs, true_angles = inputs.to(device), true_angles.to(device)\n",
    "            predicted = model(inputs).cpu().numpy()\n",
    "            true_angles = true_angles.cpu().numpy()\n",
    "            for i in range(len(true_angles)):\n",
    "                key = tuple(true_angles[i])\n",
    "                predictions_dict[key].append(predicted[i])\n",
    "\n",
    "      \n",
    "        mean_predictions = {}\n",
    "        average_base_angles = []\n",
    "\n",
    "        for key, preds in predictions_dict.items():\n",
    "            mean_pred = np.mean(preds, axis=0)\n",
    "            mean_predictions[key] = mean_pred\n",
    "            average_base_angles.append(mean_pred)\n",
    "\n",
    "      \n",
    "        true_azimuths = []\n",
    "        true_elevations = []\n",
    "        pred_azimuth_diffs = []\n",
    "        pred_elevation_diffs = []\n",
    "\n",
    "        for (true_azimuth, true_elevation), mean_pred in mean_predictions.items():\n",
    "            true_azimuths.append(true_azimuth)\n",
    "            true_elevations.append(true_elevation)\n",
    "            pred_azimuth_diffs.append(mean_pred[0] - true_azimuth)\n",
    "            pred_elevation_diffs.append(mean_pred[1] - true_elevation)\n",
    "\n",
    "     \n",
    "    \n",
    "        true_azimuths = np.array(true_azimuths)\n",
    "        true_elevations = np.array(true_elevations)\n",
    "        pred_azimuth_diffs = np.array(pred_azimuth_diffs)\n",
    "        pred_elevation_diffs = np.array(pred_elevation_diffs)\n",
    "\n",
    "        \n",
    "\n",
    "    return true_azimuths, true_elevations, pred_azimuth_diffs, pred_elevation_diffs\n"
   ]
  },
  {
   "cell_type": "code",
   "execution_count": 3,
   "metadata": {},
   "outputs": [],
   "source": [
    "def save_model_size(model_path):\n",
    "    size_mb = os.path.getsize(model_path) / (1024 * 1024) \n",
    "    return size_mb"
   ]
  },
  {
   "cell_type": "code",
   "execution_count": 4,
   "metadata": {},
   "outputs": [],
   "source": [
    "def save_pruning_groups(pruning_method, groups, prune_amount):\n",
    "    file_path = f'pruning_groups_{pruning_method}_amount_{prune_amount}.txt'\n",
    "    with open(file_path, 'w') as f:\n",
    "        f.write(f\"Pruning Method: {pruning_method}\\n\")\n",
    "        f.write(f\"Pruning Amount: {prune_amount}\\n\\n\")\n",
    "        for i, group in enumerate(groups):\n",
    "            f.write(f\"Group {i + 1}:\\n\")\n",
    "            f.write(group.details())\n",
    "            f.write(\"\\n\" + \"-\" * 50 + \"\\n\")"
   ]
  },
  {
   "cell_type": "code",
   "execution_count": 5,
   "metadata": {},
   "outputs": [],
   "source": [
    "class RFClassifier(L.LightningModule):\n",
    "    def __init__(self, model):\n",
    "        super().__init__()\n",
    "        self.model = model\n",
    "        self.lr = 3e-4\n",
    "        self.lr_ignored = 3e-4  # Learning rate for ignored layers\n",
    "\n",
    "    def forward(self, x):\n",
    "        return self.model(x)\n",
    "\n",
    "    def configure_optimizers(self):\n",
    "        # Initialize lists for different parameter groups\n",
    "        ignored_layers_params = []\n",
    "        other_layers_params = []\n",
    "\n",
    "        # Collect parameters of specific layers based on layer names and conditions\n",
    "        ignored_params_set = set()\n",
    "        for name, m in self.model.named_modules():\n",
    "            if any(name.startswith(f'blocks.{i}') for i in range(3)) or (isinstance(m, torch.nn.Linear) and m.out_features == 2):\n",
    "                ignored_layers_params += list(m.parameters())\n",
    "                ignored_params_set.update(m.parameters())  # Add to set to avoid duplicates\n",
    "\n",
    "        # Other parameters: Exclude the ignored layers' parameters\n",
    "        other_layers_params = [p for p in self.model.parameters() if p not in ignored_params_set]\n",
    "\n",
    "        # Create the optimizer with different learning rates for different parameter groups\n",
    "        optimizer = torch.optim.AdamW([\n",
    "            {'params': ignored_layers_params, 'lr': self.lr_ignored},  # Lower learning rate for ignored layers\n",
    "            {'params': other_layers_params, 'lr': self.lr}  # Default learning rate for other layers\n",
    "        ], weight_decay=0)\n",
    "\n",
    "        # Learning rate scheduler\n",
    "        lr_scheduler = torch.optim.lr_scheduler.CosineAnnealingWarmRestarts(optimizer, T_0=1)\n",
    "\n",
    "        return {'optimizer': optimizer, 'lr_scheduler': {'scheduler': lr_scheduler, 'interval': 'step'}}\n",
    "\n",
    "    def training_step(self, batch, batch_idx):\n",
    "        x, y = batch\n",
    "        y_hat = self(x)\n",
    "        loss = F.mse_loss(y_hat, y)\n",
    "        self.log('train_loss', loss, on_epoch=True, prog_bar=True)\n",
    "        return loss\n",
    "\n",
    "    def validation_step(self, batch, batch_idx):\n",
    "        x, y = batch\n",
    "        y_hat = self(x)\n",
    "        loss = F.mse_loss(y_hat, y)\n",
    "        self.log('val_loss', loss, prog_bar=True)\n",
    "\n",
    "    def test_step(self, batch, batch_idx):\n",
    "        x, y = batch\n",
    "        y_hat = self(x)\n",
    "        loss = F.mse_loss(y_hat, y)\n",
    "        self.log('test_loss', loss, prog_bar=True)"
   ]
  },
  {
   "cell_type": "code",
   "execution_count": 6,
   "metadata": {},
   "outputs": [],
   "source": [
    "class CustomCheckpoint(L.Callback):\n",
    "    def __init__(self):\n",
    "        super().__init__()\n",
    "        self.best_val_loss = float('inf')\n",
    "        self.best_model = None\n",
    "\n",
    "    def on_validation_end(self, trainer, pl_module):\n",
    "        # Access validation loss from the trainer's metrics\n",
    "        val_loss = trainer.callback_metrics.get('val_loss')\n",
    "        if val_loss is not None and val_loss < self.best_val_loss:\n",
    "            self.best_val_loss = val_loss\n",
    "            self.best_model = pl_module.model\n",
    "            # Save the best model\n",
    "            torch.save(self.best_model, 'best_model.pth')\n",
    "            print(f\"New best model saved with validation loss {val_loss:.4f}\")\n"
   ]
  },
  {
   "cell_type": "code",
   "execution_count": 7,
   "metadata": {},
   "outputs": [],
   "source": [
    "class R22_H5_Dataset(Dataset):\n",
    "    def __init__(self, data_file, label='label', iqlabel='iq_data'):\n",
    "        self.data_file = data_file\n",
    "        self.label = label\n",
    "        self.iqlabel = iqlabel\n",
    "\n",
    "    def __len__(self):\n",
    "        with h5py.File(self.data_file, 'r') as f:\n",
    "            length = len(f[self.label])\n",
    "        return length\n",
    "\n",
    "    def __getitem__(self, idx):\n",
    "        with h5py.File(self.data_file, 'r') as f:\n",
    "            iq_data = f[self.iqlabel][idx]\n",
    "            label = f[self.label][idx]\n",
    "        return iq_data, label\n",
    "    \n",
    "    def get_metadata(self, idx):\n",
    "        with h5py.File(self.data_file, 'r') as f:\n",
    "            metadata = {\n",
    "                'recording': f['recording'][idx].decode('utf-8)'),\n",
    "                'category': f['category'][idx].decode('utf-8)')\n",
    "            }\n",
    "        return metadata\n"
   ]
  },
  {
   "cell_type": "code",
   "execution_count": 9,
   "metadata": {},
   "outputs": [],
   "source": [
    "def prune_model(trained_model, prune_method, prune_amount, train_loader):\n",
    "    # model.eval()  \n",
    "\n",
    "    model =  copy.deepcopy(trained_model)\n",
    "    device = 'cuda' if torch.cuda.is_available() else 'cpu'\n",
    "    model.to(device)\n",
    "\n",
    "    example_length = 4096\n",
    "    example_inputs=torch.randn(1, 8, example_length).to(device)\n",
    "    # DG = tp.DependencyGraph().build_dependency(model, example_inputs)\n",
    "\n",
    "    groups = []\n",
    "\n",
    "    if prune_method == 'channel_pruning_Taylor_importance':\n",
    "        imp = tp.importance.TaylorImportance() #GroupNormImportance(p=2)\n",
    "\n",
    "        ignored_layers_group1 = []\n",
    "        # for m in model.modules():\n",
    "        #     if isinstance(m, torch.nn.Linear) and m.out_features == 2:\n",
    "        #         ignored_layers.append(m) # DO NOT prune the final classifier!\n",
    "\n",
    "        for name, m in model.named_modules():\n",
    "            # Check if the module is within Sequential(4) or Sequential(5)\n",
    "            if any(name.startswith(f'blocks.{i}') for i in range(3)) or (isinstance(m, torch.nn.Linear) and m.out_features == 2):\n",
    "                ignored_layers_group1.append(m)  # DO NOT prune the final classifier\n",
    "\n",
    "        ignored_layers_group2 = []\n",
    "        # for m in model.modules():\n",
    "        #     if isinstance(m, torch.nn.Linear) and m.out_features == 2:\n",
    "        #         ignored_layers.append(m) # DO NOT prune the final classifier!\n",
    "\n",
    "        for name, m in model.named_modules():\n",
    "            # Check if the module is within Sequential(4) or Sequential(5)\n",
    "            if any(name.startswith(f'blocks.{i+3}') for i in range(3)) or (isinstance(m, torch.nn.Linear) and m.out_features == 2):\n",
    "                ignored_layers_group2.append(m)  # DO NOT prune the final classifier\n",
    "    \n",
    "\n",
    "        # model.to(device)\n",
    "        # example_inputs.to(device)\n",
    "\n",
    "        mutual_elements = list(set(ignored_layers_group1) & set(ignored_layers_group2))\n",
    "        print('mutual elements are:   ', mutual_elements)\n",
    "\n",
    "        # rf_classifier = RFClassifier(model)#.to(device)\n",
    "        batch = next(iter(train_loader))\n",
    "        x, y = batch\n",
    "        x = x.to(device)\n",
    "        # x, y = batch\n",
    "        # x = x.to(device)\n",
    "       \n",
    "        iterative_steps= 1\n",
    "\n",
    "        pruner_group1 = tp.pruner.MagnitudePruner( \n",
    "            model,\n",
    "            example_inputs=x,\n",
    "            importance=imp,\n",
    "            pruning_ratio=prune_amount, \n",
    "            # pruning_ratio_dict = {model.conv1: 0.2, model.layer2: 0.8}, # customized pruning ratios for layers or blocks\n",
    "            ignored_layers=ignored_layers_group1,\n",
    "            iterative_steps= iterative_steps,\n",
    "            global_pruning=True,\n",
    "            # isomorphic=True\n",
    "        )\n",
    "\n",
    "        pruner_group2 = tp.pruner.MagnitudePruner( \n",
    "            model,\n",
    "            example_inputs=x,\n",
    "            importance=imp,\n",
    "            pruning_ratio=0.5, \n",
    "            # pruning_ratio_dict = {model.conv1: 0.2, model.layer2: 0.8}, # customized pruning ratios for layers or blocks\n",
    "            ignored_layers=ignored_layers_group2,\n",
    "            iterative_steps= iterative_steps,\n",
    "            global_pruning=True,\n",
    "            # isomorphic=True\n",
    "        )\n",
    "\n",
    "        # prune the model, iteratively if necessary.\n",
    "        for i in range(iterative_steps):\n",
    "\n",
    "            # Taylor expansion requires gradients for importance estimation\n",
    "            if isinstance(imp, tp.importance.TaylorImportance):\n",
    "                \n",
    "                x, y = batch\n",
    "                x = x.to(device)\n",
    "                y = y.to(device)\n",
    "                y_hat = model(x)\n",
    "                loss = F.mse_loss(y_hat, y)\n",
    "                loss.backward() # before pruner.step()\n",
    "\n",
    "            pruner_group1.step()\n",
    "            pruner_group2.step()\n",
    "\n",
    "\n",
    "  \n",
    "    save_pruning_groups(prune_method, groups, prune_amount)\n",
    "\n",
    "   \n",
    "    input_size = (8, example_length)\n",
    "    try:\n",
    "        summary(model, input_size)\n",
    "        print(f\"Model structure matches the input size {input_size}.\")\n",
    "    except RuntimeError as e:\n",
    "        print(f\"Model size mismatch encountered after pruning: {str(e)}\")\n",
    "        print(\"Adjusting model...\")\n",
    "        summary(model, input_size)\n",
    "        print(\"Model is now adjusted and compatible with the input size.\")\n",
    "\n",
    "    return model"
   ]
  },
  {
   "cell_type": "code",
   "execution_count": 10,
   "metadata": {},
   "outputs": [],
   "source": [
    "original_model_checkpoint = 'august22_beam_t.ckpt'"
   ]
  },
  {
   "cell_type": "code",
   "execution_count": 11,
   "metadata": {},
   "outputs": [],
   "source": [
    "def train_model_with_pruning(trained_model, pruning_method, model_name_suffix, train_loader, val_loader, prune_amount):\n",
    "    checkpoint_filename = f\"model_pruned_{model_name_suffix}_amount_{prune_amount}.ckpt\"\n",
    "    final_model_path = f'model_final_pruned_{model_name_suffix}_amount_{prune_amount}.pth'\n",
    "\n",
    "   \n",
    "    if os.path.exists(checkpoint_filename) or os.path.exists(final_model_path):\n",
    "        print(f\"Model {model_name_suffix} at {prune_amount * 100}% pruning already exists. Skipping training.\")\n",
    "        return\n",
    "\n",
    "\n",
    "    # model = mobilenetv3(\n",
    "    #     model_size='mobilenetv3_small_050',\n",
    "    #     num_classes=2,\n",
    "    #     drop_rate=0,\n",
    "    #     drop_path_rate=0,\n",
    "    #     in_chans=8\n",
    "    # )\n",
    "\n",
    "    pruned_model = prune_model(trained_model, pruning_method, prune_amount, train_loader)\n",
    "\n",
    "    rf_classifier = RFClassifier(pruned_model)\n",
    "    # rf_classifier.lr = 1e-4\n",
    "\n",
    "    checkpoint_callback = L.callbacks.ModelCheckpoint(\n",
    "        dirpath='.',\n",
    "        filename=checkpoint_filename.replace(\".ckpt\", \"\"),\n",
    "        save_top_k=1,\n",
    "        verbose=True,\n",
    "        monitor='val_loss',\n",
    "        mode='min'\n",
    "    )\n",
    "    \n",
    "    # Create the custom callback\n",
    "    custom_checkpoint = CustomCheckpoint()\n",
    "\n",
    "    trainer = L.Trainer(\n",
    "        max_epochs=100,\n",
    "        callbacks=[checkpoint_callback, custom_checkpoint],\n",
    "        accelerator='gpu',\n",
    "        devices=1,\n",
    "        benchmark=True,\n",
    "        precision='32-true',\n",
    "    )\n",
    "\n",
    "    print(f\"Training the model with {pruning_method} applied at {prune_amount * 100}%...\")\n",
    "    trainer.fit(rf_classifier, train_loader, val_loader)\n",
    "\n",
    "    # trainer = L.Trainer(\n",
    "    # accelerator='gpu',\n",
    "    # callbacks=[checkpoint_callback],\n",
    "    # devices=1,\n",
    "    # benchmark=True,\n",
    "    # precision='bf16-mixed',\n",
    "    # )\n",
    "\n",
    "    # print(f\"Validating the model with {pruning_method} applied at {prune_amount * 100}%...\")\n",
    "    # trainer.validate(rf_classifier, val_loader)\n",
    "\n",
    "    torch.save(rf_classifier.model, final_model_path)\n",
    "\n",
    "\n",
    "    model_size_mb = save_model_size(final_model_path)\n",
    "\n",
    "\n",
    "    # rf_classifier.eval()\n",
    "    # start_time = time.time()\n",
    "    # test_and_plot(\n",
    "    #     val_loader, rf_classifier.model, f'Pruned {pruning_method} ({prune_amount * 100}% Pruning)',\n",
    "    #     f'pruned_{pruning_method}_amount_{prune_amount}'\n",
    "    # )\n",
    "    # inference_time = time.time() - start_time\n",
    "\n",
    "    analysis_results['model_name'].append(f\"model_pruned_{pruning_method}_amount_{prune_amount}\")\n",
    "    analysis_results['model_size_mb'].append(model_size_mb)\n",
    "    analysis_results['validation_loss'].append(trainer.callback_metrics['val_loss'].item())\n",
    "    analysis_results['inference_time'].append(None)\n",
    "    analysis_results['pruning_percentage'].append(prune_amount * 100)\n",
    "    analysis_results['pruning_method'].append(pruning_method)\n",
    "\n",
    "    print(\n",
    "        f\"Model {pruning_method} at {prune_amount * 100}% pruning saved. \"\n",
    "        f\"Size: {model_size_mb:.2f} MB, Validation Loss: {trainer.callback_metrics['val_loss'].item()}, \"\n",
    "        # f\"Inference Time: {inference_time:.2f} seconds\"\n",
    "    )\n"
   ]
  },
  {
   "cell_type": "code",
   "execution_count": 12,
   "metadata": {},
   "outputs": [],
   "source": [
    "train_data = '/home/mohammad.hallaq/workarea/AoA-Pruning/data_h5py_files/r22_train.h5'\n",
    "val_data = '/home/mohammad.hallaq/workarea/AoA-Pruning/data_h5py_files/r22_test.h5'"
   ]
  },
  {
   "cell_type": "code",
   "execution_count": 13,
   "metadata": {},
   "outputs": [],
   "source": [
    "example_length = 4096\n",
    "batch_size = 128\n",
    "epochs =30"
   ]
  },
  {
   "cell_type": "code",
   "execution_count": 14,
   "metadata": {},
   "outputs": [
    {
     "name": "stdout",
     "output_type": "stream",
     "text": [
      "Training Set: 298350 examples\n",
      "Validation Set: 74685 examples\n"
     ]
    }
   ],
   "source": [
    "train_set = R22_H5_Dataset(train_data)\n",
    "val_set = R22_H5_Dataset(val_data)\n",
    "print(f'Training Set: {len(train_set)} examples')\n",
    "print(f'Validation Set: {len(val_set)} examples')\n",
    "\n",
    "num_classes = train_set[0][1].shape[0]\n",
    "\n",
    "train_loader = torch.utils.data.DataLoader(\n",
    "    dataset=train_set,\n",
    "    batch_size=batch_size,\n",
    "    shuffle=True,\n",
    "    num_workers=8,\n",
    "    )\n",
    "val_loader = torch.utils.data.DataLoader(\n",
    "    dataset=val_set,\n",
    "    batch_size=128,\n",
    "    shuffle=False,\n",
    "    num_workers=8\n",
    "    )\n"
   ]
  },
  {
   "cell_type": "code",
   "execution_count": 15,
   "metadata": {},
   "outputs": [
    {
     "data": {
      "text/plain": [
       "RFClassifier(\n",
       "  (model): MobileNetV3(\n",
       "    (conv_stem): Conv1d(8, 16, kernel_size=(3,), stride=(2,), padding=(1,))\n",
       "    (bn1): GBN(\n",
       "      (bn): BatchNorm1d(16, eps=1e-05, momentum=0.1, affine=True, track_running_stats=True)\n",
       "      (drop): Identity()\n",
       "      (act): Hardswish()\n",
       "    )\n",
       "    (blocks): Sequential(\n",
       "      (0): Sequential(\n",
       "        (0): DepthwiseSeparableConv(\n",
       "          (conv_dw): Conv1d(16, 16, kernel_size=(3,), stride=(2,), padding=(1,), groups=16)\n",
       "          (bn1): GBN(\n",
       "            (bn): BatchNorm1d(16, eps=1e-05, momentum=0.1, affine=True, track_running_stats=True)\n",
       "            (drop): Identity()\n",
       "            (act): ReLU(inplace=True)\n",
       "          )\n",
       "          (aa): Identity()\n",
       "          (se): SqueezeExcite(\n",
       "            (conv_reduce): Conv1d(16, 8, kernel_size=(1,), stride=(1,))\n",
       "            (act1): SiLU(inplace=True)\n",
       "            (conv_expand): Conv1d(8, 16, kernel_size=(1,), stride=(1,))\n",
       "          )\n",
       "          (conv_pw): Conv1d(16, 8, kernel_size=(1,), stride=(1,))\n",
       "          (bn2): GBN(\n",
       "            (bn): BatchNorm1d(8, eps=1e-05, momentum=0.1, affine=True, track_running_stats=True)\n",
       "            (drop): Identity()\n",
       "            (act): Identity()\n",
       "          )\n",
       "          (drop_path): Identity()\n",
       "        )\n",
       "      )\n",
       "      (1): Sequential(\n",
       "        (0): InvertedResidual(\n",
       "          (conv_pw): Conv1d(8, 40, kernel_size=(1,), stride=(1,))\n",
       "          (bn1): GBN(\n",
       "            (bn): BatchNorm1d(40, eps=1e-05, momentum=0.1, affine=True, track_running_stats=True)\n",
       "            (drop): Identity()\n",
       "            (act): ReLU(inplace=True)\n",
       "          )\n",
       "          (conv_dw): Conv1d(40, 40, kernel_size=(3,), stride=(2,), padding=(1,), groups=40)\n",
       "          (bn2): GBN(\n",
       "            (bn): BatchNorm1d(40, eps=1e-05, momentum=0.1, affine=True, track_running_stats=True)\n",
       "            (drop): Identity()\n",
       "            (act): ReLU(inplace=True)\n",
       "          )\n",
       "          (aa): Identity()\n",
       "          (se): Identity()\n",
       "          (conv_pwl): Conv1d(40, 16, kernel_size=(1,), stride=(1,))\n",
       "          (bn3): GBN(\n",
       "            (bn): BatchNorm1d(16, eps=1e-05, momentum=0.1, affine=True, track_running_stats=True)\n",
       "            (drop): Identity()\n",
       "            (act): Identity()\n",
       "          )\n",
       "          (drop_path): DropPath(drop_prob=0.017)\n",
       "        )\n",
       "        (1): InvertedResidual(\n",
       "          (conv_pw): Conv1d(16, 56, kernel_size=(1,), stride=(1,))\n",
       "          (bn1): GBN(\n",
       "            (bn): BatchNorm1d(56, eps=1e-05, momentum=0.1, affine=True, track_running_stats=True)\n",
       "            (drop): Identity()\n",
       "            (act): ReLU(inplace=True)\n",
       "          )\n",
       "          (conv_dw): Conv1d(56, 56, kernel_size=(3,), stride=(1,), padding=(1,), groups=56)\n",
       "          (bn2): GBN(\n",
       "            (bn): BatchNorm1d(56, eps=1e-05, momentum=0.1, affine=True, track_running_stats=True)\n",
       "            (drop): Identity()\n",
       "            (act): ReLU(inplace=True)\n",
       "          )\n",
       "          (aa): Identity()\n",
       "          (se): Identity()\n",
       "          (conv_pwl): Conv1d(56, 16, kernel_size=(1,), stride=(1,))\n",
       "          (bn3): GBN(\n",
       "            (bn): BatchNorm1d(16, eps=1e-05, momentum=0.1, affine=True, track_running_stats=True)\n",
       "            (drop): Identity()\n",
       "            (act): Identity()\n",
       "          )\n",
       "          (drop_path): DropPath(drop_prob=0.033)\n",
       "        )\n",
       "      )\n",
       "      (2): Sequential(\n",
       "        (0): InvertedResidual(\n",
       "          (conv_pw): Conv1d(16, 64, kernel_size=(1,), stride=(1,))\n",
       "          (bn1): GBN(\n",
       "            (bn): BatchNorm1d(64, eps=1e-05, momentum=0.1, affine=True, track_running_stats=True)\n",
       "            (drop): Identity()\n",
       "            (act): Hardswish()\n",
       "          )\n",
       "          (conv_dw): Conv1d(64, 64, kernel_size=(5,), stride=(2,), padding=(2,), groups=64)\n",
       "          (bn2): GBN(\n",
       "            (bn): BatchNorm1d(64, eps=1e-05, momentum=0.1, affine=True, track_running_stats=True)\n",
       "            (drop): Identity()\n",
       "            (act): Hardswish()\n",
       "          )\n",
       "          (aa): Identity()\n",
       "          (se): SqueezeExcite(\n",
       "            (conv_reduce): Conv1d(64, 16, kernel_size=(1,), stride=(1,))\n",
       "            (act1): SiLU(inplace=True)\n",
       "            (conv_expand): Conv1d(16, 64, kernel_size=(1,), stride=(1,))\n",
       "          )\n",
       "          (conv_pwl): Conv1d(64, 24, kernel_size=(1,), stride=(1,))\n",
       "          (bn3): GBN(\n",
       "            (bn): BatchNorm1d(24, eps=1e-05, momentum=0.1, affine=True, track_running_stats=True)\n",
       "            (drop): Identity()\n",
       "            (act): Identity()\n",
       "          )\n",
       "          (drop_path): DropPath(drop_prob=0.050)\n",
       "        )\n",
       "        (1): InvertedResidual(\n",
       "          (conv_pw): Conv1d(24, 144, kernel_size=(1,), stride=(1,))\n",
       "          (bn1): GBN(\n",
       "            (bn): BatchNorm1d(144, eps=1e-05, momentum=0.1, affine=True, track_running_stats=True)\n",
       "            (drop): Identity()\n",
       "            (act): Hardswish()\n",
       "          )\n",
       "          (conv_dw): Conv1d(144, 144, kernel_size=(5,), stride=(1,), padding=(2,), groups=144)\n",
       "          (bn2): GBN(\n",
       "            (bn): BatchNorm1d(144, eps=1e-05, momentum=0.1, affine=True, track_running_stats=True)\n",
       "            (drop): Identity()\n",
       "            (act): Hardswish()\n",
       "          )\n",
       "          (aa): Identity()\n",
       "          (se): SqueezeExcite(\n",
       "            (conv_reduce): Conv1d(144, 40, kernel_size=(1,), stride=(1,))\n",
       "            (act1): SiLU(inplace=True)\n",
       "            (conv_expand): Conv1d(40, 144, kernel_size=(1,), stride=(1,))\n",
       "          )\n",
       "          (conv_pwl): Conv1d(144, 24, kernel_size=(1,), stride=(1,))\n",
       "          (bn3): GBN(\n",
       "            (bn): BatchNorm1d(24, eps=1e-05, momentum=0.1, affine=True, track_running_stats=True)\n",
       "            (drop): Identity()\n",
       "            (act): Identity()\n",
       "          )\n",
       "          (drop_path): DropPath(drop_prob=0.067)\n",
       "        )\n",
       "        (2): InvertedResidual(\n",
       "          (conv_pw): Conv1d(24, 144, kernel_size=(1,), stride=(1,))\n",
       "          (bn1): GBN(\n",
       "            (bn): BatchNorm1d(144, eps=1e-05, momentum=0.1, affine=True, track_running_stats=True)\n",
       "            (drop): Identity()\n",
       "            (act): Hardswish()\n",
       "          )\n",
       "          (conv_dw): Conv1d(144, 144, kernel_size=(5,), stride=(1,), padding=(2,), groups=144)\n",
       "          (bn2): GBN(\n",
       "            (bn): BatchNorm1d(144, eps=1e-05, momentum=0.1, affine=True, track_running_stats=True)\n",
       "            (drop): Identity()\n",
       "            (act): Hardswish()\n",
       "          )\n",
       "          (aa): Identity()\n",
       "          (se): SqueezeExcite(\n",
       "            (conv_reduce): Conv1d(144, 40, kernel_size=(1,), stride=(1,))\n",
       "            (act1): SiLU(inplace=True)\n",
       "            (conv_expand): Conv1d(40, 144, kernel_size=(1,), stride=(1,))\n",
       "          )\n",
       "          (conv_pwl): Conv1d(144, 24, kernel_size=(1,), stride=(1,))\n",
       "          (bn3): GBN(\n",
       "            (bn): BatchNorm1d(24, eps=1e-05, momentum=0.1, affine=True, track_running_stats=True)\n",
       "            (drop): Identity()\n",
       "            (act): Identity()\n",
       "          )\n",
       "          (drop_path): DropPath(drop_prob=0.083)\n",
       "        )\n",
       "      )\n",
       "      (3): Sequential(\n",
       "        (0): InvertedResidual(\n",
       "          (conv_pw): Conv1d(24, 72, kernel_size=(1,), stride=(1,))\n",
       "          (bn1): GBN(\n",
       "            (bn): BatchNorm1d(72, eps=1e-05, momentum=0.1, affine=True, track_running_stats=True)\n",
       "            (drop): Identity()\n",
       "            (act): Hardswish()\n",
       "          )\n",
       "          (conv_dw): Conv1d(72, 72, kernel_size=(5,), stride=(1,), padding=(2,), groups=72)\n",
       "          (bn2): GBN(\n",
       "            (bn): BatchNorm1d(72, eps=1e-05, momentum=0.1, affine=True, track_running_stats=True)\n",
       "            (drop): Identity()\n",
       "            (act): Hardswish()\n",
       "          )\n",
       "          (aa): Identity()\n",
       "          (se): SqueezeExcite(\n",
       "            (conv_reduce): Conv1d(72, 24, kernel_size=(1,), stride=(1,))\n",
       "            (act1): SiLU(inplace=True)\n",
       "            (conv_expand): Conv1d(24, 72, kernel_size=(1,), stride=(1,))\n",
       "          )\n",
       "          (conv_pwl): Conv1d(72, 24, kernel_size=(1,), stride=(1,))\n",
       "          (bn3): GBN(\n",
       "            (bn): BatchNorm1d(24, eps=1e-05, momentum=0.1, affine=True, track_running_stats=True)\n",
       "            (drop): Identity()\n",
       "            (act): Identity()\n",
       "          )\n",
       "          (drop_path): DropPath(drop_prob=0.100)\n",
       "        )\n",
       "        (1): InvertedResidual(\n",
       "          (conv_pw): Conv1d(24, 72, kernel_size=(1,), stride=(1,))\n",
       "          (bn1): GBN(\n",
       "            (bn): BatchNorm1d(72, eps=1e-05, momentum=0.1, affine=True, track_running_stats=True)\n",
       "            (drop): Identity()\n",
       "            (act): Hardswish()\n",
       "          )\n",
       "          (conv_dw): Conv1d(72, 72, kernel_size=(5,), stride=(1,), padding=(2,), groups=72)\n",
       "          (bn2): GBN(\n",
       "            (bn): BatchNorm1d(72, eps=1e-05, momentum=0.1, affine=True, track_running_stats=True)\n",
       "            (drop): Identity()\n",
       "            (act): Hardswish()\n",
       "          )\n",
       "          (aa): Identity()\n",
       "          (se): SqueezeExcite(\n",
       "            (conv_reduce): Conv1d(72, 24, kernel_size=(1,), stride=(1,))\n",
       "            (act1): SiLU(inplace=True)\n",
       "            (conv_expand): Conv1d(24, 72, kernel_size=(1,), stride=(1,))\n",
       "          )\n",
       "          (conv_pwl): Conv1d(72, 24, kernel_size=(1,), stride=(1,))\n",
       "          (bn3): GBN(\n",
       "            (bn): BatchNorm1d(24, eps=1e-05, momentum=0.1, affine=True, track_running_stats=True)\n",
       "            (drop): Identity()\n",
       "            (act): Identity()\n",
       "          )\n",
       "          (drop_path): DropPath(drop_prob=0.117)\n",
       "        )\n",
       "      )\n",
       "      (4): Sequential(\n",
       "        (0): InvertedResidual(\n",
       "          (conv_pw): Conv1d(24, 144, kernel_size=(1,), stride=(1,))\n",
       "          (bn1): GBN(\n",
       "            (bn): BatchNorm1d(144, eps=1e-05, momentum=0.1, affine=True, track_running_stats=True)\n",
       "            (drop): Identity()\n",
       "            (act): Hardswish()\n",
       "          )\n",
       "          (conv_dw): Conv1d(144, 144, kernel_size=(5,), stride=(2,), padding=(2,), groups=144)\n",
       "          (bn2): GBN(\n",
       "            (bn): BatchNorm1d(144, eps=1e-05, momentum=0.1, affine=True, track_running_stats=True)\n",
       "            (drop): Identity()\n",
       "            (act): Hardswish()\n",
       "          )\n",
       "          (aa): Identity()\n",
       "          (se): SqueezeExcite(\n",
       "            (conv_reduce): Conv1d(144, 40, kernel_size=(1,), stride=(1,))\n",
       "            (act1): SiLU(inplace=True)\n",
       "            (conv_expand): Conv1d(40, 144, kernel_size=(1,), stride=(1,))\n",
       "          )\n",
       "          (conv_pwl): Conv1d(144, 48, kernel_size=(1,), stride=(1,))\n",
       "          (bn3): GBN(\n",
       "            (bn): BatchNorm1d(48, eps=1e-05, momentum=0.1, affine=True, track_running_stats=True)\n",
       "            (drop): Identity()\n",
       "            (act): Identity()\n",
       "          )\n",
       "          (drop_path): DropPath(drop_prob=0.133)\n",
       "        )\n",
       "        (1): InvertedResidual(\n",
       "          (conv_pw): Conv1d(48, 288, kernel_size=(1,), stride=(1,))\n",
       "          (bn1): GBN(\n",
       "            (bn): BatchNorm1d(288, eps=1e-05, momentum=0.1, affine=True, track_running_stats=True)\n",
       "            (drop): Identity()\n",
       "            (act): Hardswish()\n",
       "          )\n",
       "          (conv_dw): Conv1d(288, 288, kernel_size=(5,), stride=(1,), padding=(2,), groups=288)\n",
       "          (bn2): GBN(\n",
       "            (bn): BatchNorm1d(288, eps=1e-05, momentum=0.1, affine=True, track_running_stats=True)\n",
       "            (drop): Identity()\n",
       "            (act): Hardswish()\n",
       "          )\n",
       "          (aa): Identity()\n",
       "          (se): SqueezeExcite(\n",
       "            (conv_reduce): Conv1d(288, 72, kernel_size=(1,), stride=(1,))\n",
       "            (act1): SiLU(inplace=True)\n",
       "            (conv_expand): Conv1d(72, 288, kernel_size=(1,), stride=(1,))\n",
       "          )\n",
       "          (conv_pwl): Conv1d(288, 48, kernel_size=(1,), stride=(1,))\n",
       "          (bn3): GBN(\n",
       "            (bn): BatchNorm1d(48, eps=1e-05, momentum=0.1, affine=True, track_running_stats=True)\n",
       "            (drop): Identity()\n",
       "            (act): Identity()\n",
       "          )\n",
       "          (drop_path): DropPath(drop_prob=0.150)\n",
       "        )\n",
       "        (2): InvertedResidual(\n",
       "          (conv_pw): Conv1d(48, 288, kernel_size=(1,), stride=(1,))\n",
       "          (bn1): GBN(\n",
       "            (bn): BatchNorm1d(288, eps=1e-05, momentum=0.1, affine=True, track_running_stats=True)\n",
       "            (drop): Identity()\n",
       "            (act): Hardswish()\n",
       "          )\n",
       "          (conv_dw): Conv1d(288, 288, kernel_size=(5,), stride=(1,), padding=(2,), groups=288)\n",
       "          (bn2): GBN(\n",
       "            (bn): BatchNorm1d(288, eps=1e-05, momentum=0.1, affine=True, track_running_stats=True)\n",
       "            (drop): Identity()\n",
       "            (act): Hardswish()\n",
       "          )\n",
       "          (aa): Identity()\n",
       "          (se): SqueezeExcite(\n",
       "            (conv_reduce): Conv1d(288, 72, kernel_size=(1,), stride=(1,))\n",
       "            (act1): SiLU(inplace=True)\n",
       "            (conv_expand): Conv1d(72, 288, kernel_size=(1,), stride=(1,))\n",
       "          )\n",
       "          (conv_pwl): Conv1d(288, 48, kernel_size=(1,), stride=(1,))\n",
       "          (bn3): GBN(\n",
       "            (bn): BatchNorm1d(48, eps=1e-05, momentum=0.1, affine=True, track_running_stats=True)\n",
       "            (drop): Identity()\n",
       "            (act): Identity()\n",
       "          )\n",
       "          (drop_path): DropPath(drop_prob=0.167)\n",
       "        )\n",
       "      )\n",
       "      (5): Sequential(\n",
       "        (0): ConvBnAct(\n",
       "          (conv): Conv1d(48, 288, kernel_size=(1,), stride=(1,))\n",
       "          (bn1): GBN(\n",
       "            (bn): BatchNorm1d(288, eps=1e-05, momentum=0.1, affine=True, track_running_stats=True)\n",
       "            (drop): Identity()\n",
       "            (act): Hardswish()\n",
       "          )\n",
       "          (aa): Identity()\n",
       "          (drop_path): DropPath(drop_prob=0.183)\n",
       "        )\n",
       "      )\n",
       "    )\n",
       "    (global_pool): FastGlobalAvgPool1d()\n",
       "    (conv_head): Conv1d(288, 1024, kernel_size=(1,), stride=(1,))\n",
       "    (norm_head): Identity()\n",
       "    (act2): Hardswish()\n",
       "    (flatten): Flatten(start_dim=1, end_dim=-1)\n",
       "    (classifier): Linear(in_features=1024, out_features=2, bias=True)\n",
       "  )\n",
       ")"
      ]
     },
     "execution_count": 15,
     "metadata": {},
     "output_type": "execute_result"
    }
   ],
   "source": [
    "analysis_results = {\n",
    "    'model_name': [],\n",
    "    'model_size_mb': [],\n",
    "    'validation_loss': [],\n",
    "    'training_time': [],\n",
    "    'inference_time': [],\n",
    "    'pruning_percentage': [],\n",
    "    'pruning_method': [],\n",
    "}\n",
    "\n",
    "# print(\"Testing the original unpruned model...\")\n",
    "model = mobilenetv3(\n",
    "    model_size='mobilenetv3_small_050',\n",
    "    num_classes=2,\n",
    "    drop_rate=0.7,\n",
    "    drop_path_rate=0.2,\n",
    "    in_chans=8\n",
    ")\n",
    "rf_classifier = RFClassifier.load_from_checkpoint(original_model_checkpoint, model=model)\n",
    "# rf_classifier.eval()\n",
    "\n",
    "\n",
    "rf_classifier.to('cuda' if torch.cuda.is_available() else 'cpu')\n"
   ]
  },
  {
   "cell_type": "code",
   "execution_count": 16,
   "metadata": {},
   "outputs": [],
   "source": [
    "analysis_results['model_name'].append('original_unpruned')\n",
    "analysis_results['model_size_mb'].append(save_model_size(original_model_checkpoint))\n",
    "analysis_results['validation_loss'].append(None)  \n",
    "analysis_results['training_time'].append(None) \n",
    "analysis_results['inference_time'].append(None)\n",
    "analysis_results['inference_time'].append(None)\n",
    "analysis_results['pruning_percentage'].append(0)\n",
    "analysis_results['pruning_method'].append('None')\n"
   ]
  },
  {
   "cell_type": "code",
   "execution_count": 17,
   "metadata": {},
   "outputs": [],
   "source": [
    "pruning_methods = ['channel_pruning_Taylor_importance'] #, 'filter_pruning', 'layer_pruning']\n",
    "pruning_amounts = [0.95]  "
   ]
  },
  {
   "cell_type": "code",
   "execution_count": 18,
   "metadata": {},
   "outputs": [
    {
     "name": "stdout",
     "output_type": "stream",
     "text": [
      "mutual elements are:    [Linear(in_features=1024, out_features=2, bias=True)]\n"
     ]
    },
    {
     "name": "stderr",
     "output_type": "stream",
     "text": [
      "GPU available: True (cuda), used: True\n",
      "TPU available: False, using: 0 TPU cores\n",
      "HPU available: False, using: 0 HPUs\n",
      "/home/mohammad.hallaq/workarea/venv/lib/python3.10/site-packages/pytorch_lightning/callbacks/model_checkpoint.py:654: Checkpoint directory /home/mohammad.hallaq/workarea/MobileNet_compression exists and is not empty.\n",
      "LOCAL_RANK: 0 - CUDA_VISIBLE_DEVICES: [0,1,2,3]\n",
      "/home/mohammad.hallaq/workarea/venv/lib/python3.10/site-packages/torch/_compile.py:24: UserWarning: optimizer contains a parameter group with duplicate parameters; in future, this will cause an error; see github.com/pytorch/pytorch/issues/40967 for more information\n",
      "  return torch._dynamo.disable(fn, recursive)(*args, **kwargs)\n",
      "\n",
      "  | Name  | Type        | Params | Mode\n",
      "---------------------------------------------\n",
      "0 | model | MobileNetV3 | 20.0 K | eval\n",
      "---------------------------------------------\n",
      "20.0 K    Trainable params\n",
      "0         Non-trainable params\n",
      "20.0 K    Total params\n",
      "0.080     Total estimated model params size (MB)\n",
      "0         Modules in train mode\n",
      "258       Modules in eval mode\n"
     ]
    },
    {
     "name": "stdout",
     "output_type": "stream",
     "text": [
      "----------------------------------------------------------------\n",
      "        Layer (type)               Output Shape         Param #\n",
      "================================================================\n",
      "            Conv1d-1              [-1, 8, 2048]             200\n",
      "       BatchNorm1d-2              [-1, 8, 2048]              16\n",
      "         Hardswish-3              [-1, 8, 2048]               0\n",
      "          Identity-4              [-1, 8, 2048]               0\n",
      "               GBN-5              [-1, 8, 2048]               0\n",
      "            Conv1d-6              [-1, 8, 1024]              32\n",
      "       BatchNorm1d-7              [-1, 8, 1024]              16\n",
      "              ReLU-8              [-1, 8, 1024]               0\n",
      "          Identity-9              [-1, 8, 1024]               0\n",
      "              GBN-10              [-1, 8, 1024]               0\n",
      "         Identity-11              [-1, 8, 1024]               0\n",
      "           Conv1d-12                 [-1, 3, 1]              27\n",
      "             SiLU-13                 [-1, 3, 1]               0\n",
      "           Conv1d-14                 [-1, 8, 1]              32\n",
      "    SqueezeExcite-15              [-1, 8, 1024]               0\n",
      "           Conv1d-16              [-1, 5, 1024]              45\n",
      "      BatchNorm1d-17              [-1, 5, 1024]              10\n",
      "         Identity-18              [-1, 5, 1024]               0\n",
      "         Identity-19              [-1, 5, 1024]               0\n",
      "              GBN-20              [-1, 5, 1024]               0\n",
      "DepthwiseSeparableConv-21              [-1, 5, 1024]               0\n",
      "           Conv1d-22             [-1, 21, 1024]             126\n",
      "      BatchNorm1d-23             [-1, 21, 1024]              42\n",
      "             ReLU-24             [-1, 21, 1024]               0\n",
      "         Identity-25             [-1, 21, 1024]               0\n",
      "              GBN-26             [-1, 21, 1024]               0\n",
      "           Conv1d-27              [-1, 21, 512]              84\n",
      "      BatchNorm1d-28              [-1, 21, 512]              42\n",
      "             ReLU-29              [-1, 21, 512]               0\n",
      "         Identity-30              [-1, 21, 512]               0\n",
      "              GBN-31              [-1, 21, 512]               0\n",
      "         Identity-32              [-1, 21, 512]               0\n",
      "         Identity-33              [-1, 21, 512]               0\n",
      "           Conv1d-34               [-1, 8, 512]             176\n",
      "      BatchNorm1d-35               [-1, 8, 512]              16\n",
      "         Identity-36               [-1, 8, 512]               0\n",
      "         Identity-37               [-1, 8, 512]               0\n",
      "              GBN-38               [-1, 8, 512]               0\n",
      " InvertedResidual-39               [-1, 8, 512]               0\n",
      "           Conv1d-40              [-1, 35, 512]             315\n",
      "      BatchNorm1d-41              [-1, 35, 512]              70\n",
      "             ReLU-42              [-1, 35, 512]               0\n",
      "         Identity-43              [-1, 35, 512]               0\n",
      "              GBN-44              [-1, 35, 512]               0\n",
      "           Conv1d-45              [-1, 35, 512]             140\n",
      "      BatchNorm1d-46              [-1, 35, 512]              70\n",
      "             ReLU-47              [-1, 35, 512]               0\n",
      "         Identity-48              [-1, 35, 512]               0\n",
      "              GBN-49              [-1, 35, 512]               0\n",
      "         Identity-50              [-1, 35, 512]               0\n",
      "         Identity-51              [-1, 35, 512]               0\n",
      "           Conv1d-52               [-1, 8, 512]             288\n",
      "      BatchNorm1d-53               [-1, 8, 512]              16\n",
      "         Identity-54               [-1, 8, 512]               0\n",
      "         Identity-55               [-1, 8, 512]               0\n",
      "              GBN-56               [-1, 8, 512]               0\n",
      "         DropPath-57               [-1, 8, 512]               0\n",
      " InvertedResidual-58               [-1, 8, 512]               0\n",
      "           Conv1d-59              [-1, 29, 512]             261\n",
      "      BatchNorm1d-60              [-1, 29, 512]              58\n",
      "        Hardswish-61              [-1, 29, 512]               0\n",
      "         Identity-62              [-1, 29, 512]               0\n",
      "              GBN-63              [-1, 29, 512]               0\n",
      "           Conv1d-64              [-1, 29, 256]             174\n",
      "      BatchNorm1d-65              [-1, 29, 256]              58\n",
      "        Hardswish-66              [-1, 29, 256]               0\n",
      "         Identity-67              [-1, 29, 256]               0\n",
      "              GBN-68              [-1, 29, 256]               0\n",
      "         Identity-69              [-1, 29, 256]               0\n",
      "           Conv1d-70                 [-1, 7, 1]             210\n",
      "             SiLU-71                 [-1, 7, 1]               0\n",
      "           Conv1d-72                [-1, 29, 1]             232\n",
      "    SqueezeExcite-73              [-1, 29, 256]               0\n",
      "           Conv1d-74              [-1, 24, 256]             720\n",
      "      BatchNorm1d-75              [-1, 24, 256]              48\n",
      "         Identity-76              [-1, 24, 256]               0\n",
      "         Identity-77              [-1, 24, 256]               0\n",
      "              GBN-78              [-1, 24, 256]               0\n",
      " InvertedResidual-79              [-1, 24, 256]               0\n",
      "           Conv1d-80              [-1, 63, 256]           1,575\n",
      "      BatchNorm1d-81              [-1, 63, 256]             126\n",
      "        Hardswish-82              [-1, 63, 256]               0\n",
      "         Identity-83              [-1, 63, 256]               0\n",
      "              GBN-84              [-1, 63, 256]               0\n",
      "           Conv1d-85              [-1, 63, 256]             378\n",
      "      BatchNorm1d-86              [-1, 63, 256]             126\n",
      "        Hardswish-87              [-1, 63, 256]               0\n",
      "         Identity-88              [-1, 63, 256]               0\n",
      "              GBN-89              [-1, 63, 256]               0\n",
      "         Identity-90              [-1, 63, 256]               0\n",
      "           Conv1d-91                [-1, 19, 1]           1,216\n",
      "             SiLU-92                [-1, 19, 1]               0\n",
      "           Conv1d-93                [-1, 63, 1]           1,260\n",
      "    SqueezeExcite-94              [-1, 63, 256]               0\n",
      "           Conv1d-95              [-1, 24, 256]           1,536\n",
      "      BatchNorm1d-96              [-1, 24, 256]              48\n",
      "         Identity-97              [-1, 24, 256]               0\n",
      "         Identity-98              [-1, 24, 256]               0\n",
      "              GBN-99              [-1, 24, 256]               0\n",
      "        DropPath-100              [-1, 24, 256]               0\n",
      "InvertedResidual-101              [-1, 24, 256]               0\n",
      "          Conv1d-102              [-1, 72, 256]           1,800\n",
      "     BatchNorm1d-103              [-1, 72, 256]             144\n",
      "       Hardswish-104              [-1, 72, 256]               0\n",
      "        Identity-105              [-1, 72, 256]               0\n",
      "             GBN-106              [-1, 72, 256]               0\n",
      "          Conv1d-107              [-1, 72, 256]             432\n",
      "     BatchNorm1d-108              [-1, 72, 256]             144\n",
      "       Hardswish-109              [-1, 72, 256]               0\n",
      "        Identity-110              [-1, 72, 256]               0\n",
      "             GBN-111              [-1, 72, 256]               0\n",
      "        Identity-112              [-1, 72, 256]               0\n",
      "          Conv1d-113                [-1, 24, 1]           1,752\n",
      "            SiLU-114                [-1, 24, 1]               0\n",
      "          Conv1d-115                [-1, 72, 1]           1,800\n",
      "   SqueezeExcite-116              [-1, 72, 256]               0\n",
      "          Conv1d-117              [-1, 24, 256]           1,752\n",
      "     BatchNorm1d-118              [-1, 24, 256]              48\n",
      "        Identity-119              [-1, 24, 256]               0\n",
      "        Identity-120              [-1, 24, 256]               0\n",
      "             GBN-121              [-1, 24, 256]               0\n",
      "        DropPath-122              [-1, 24, 256]               0\n",
      "InvertedResidual-123              [-1, 24, 256]               0\n",
      "          Conv1d-124               [-1, 2, 256]              50\n",
      "     BatchNorm1d-125               [-1, 2, 256]               4\n",
      "       Hardswish-126               [-1, 2, 256]               0\n",
      "        Identity-127               [-1, 2, 256]               0\n",
      "             GBN-128               [-1, 2, 256]               0\n",
      "          Conv1d-129               [-1, 2, 256]              12\n",
      "     BatchNorm1d-130               [-1, 2, 256]               4\n",
      "       Hardswish-131               [-1, 2, 256]               0\n",
      "        Identity-132               [-1, 2, 256]               0\n",
      "             GBN-133               [-1, 2, 256]               0\n",
      "        Identity-134               [-1, 2, 256]               0\n",
      "          Conv1d-135                 [-1, 1, 1]               3\n",
      "            SiLU-136                 [-1, 1, 1]               0\n",
      "          Conv1d-137                 [-1, 2, 1]               4\n",
      "   SqueezeExcite-138               [-1, 2, 256]               0\n",
      "          Conv1d-139              [-1, 24, 256]              72\n",
      "     BatchNorm1d-140              [-1, 24, 256]              48\n",
      "        Identity-141              [-1, 24, 256]               0\n",
      "        Identity-142              [-1, 24, 256]               0\n",
      "             GBN-143              [-1, 24, 256]               0\n",
      "        DropPath-144              [-1, 24, 256]               0\n",
      "InvertedResidual-145              [-1, 24, 256]               0\n",
      "          Conv1d-146               [-1, 4, 256]             100\n",
      "     BatchNorm1d-147               [-1, 4, 256]               8\n",
      "       Hardswish-148               [-1, 4, 256]               0\n",
      "        Identity-149               [-1, 4, 256]               0\n",
      "             GBN-150               [-1, 4, 256]               0\n",
      "          Conv1d-151               [-1, 4, 256]              24\n",
      "     BatchNorm1d-152               [-1, 4, 256]               8\n",
      "       Hardswish-153               [-1, 4, 256]               0\n",
      "        Identity-154               [-1, 4, 256]               0\n",
      "             GBN-155               [-1, 4, 256]               0\n",
      "        Identity-156               [-1, 4, 256]               0\n",
      "          Conv1d-157                [-1, 24, 1]             120\n",
      "            SiLU-158                [-1, 24, 1]               0\n",
      "          Conv1d-159                 [-1, 4, 1]             100\n",
      "   SqueezeExcite-160               [-1, 4, 256]               0\n",
      "          Conv1d-161              [-1, 24, 256]             120\n",
      "     BatchNorm1d-162              [-1, 24, 256]              48\n",
      "        Identity-163              [-1, 24, 256]               0\n",
      "        Identity-164              [-1, 24, 256]               0\n",
      "             GBN-165              [-1, 24, 256]               0\n",
      "        DropPath-166              [-1, 24, 256]               0\n",
      "InvertedResidual-167              [-1, 24, 256]               0\n",
      "          Conv1d-168               [-1, 8, 256]             200\n",
      "     BatchNorm1d-169               [-1, 8, 256]              16\n",
      "       Hardswish-170               [-1, 8, 256]               0\n",
      "        Identity-171               [-1, 8, 256]               0\n",
      "             GBN-172               [-1, 8, 256]               0\n",
      "          Conv1d-173               [-1, 8, 128]              48\n",
      "     BatchNorm1d-174               [-1, 8, 128]              16\n",
      "       Hardswish-175               [-1, 8, 128]               0\n",
      "        Identity-176               [-1, 8, 128]               0\n",
      "             GBN-177               [-1, 8, 128]               0\n",
      "        Identity-178               [-1, 8, 128]               0\n",
      "          Conv1d-179                 [-1, 2, 1]              18\n",
      "            SiLU-180                 [-1, 2, 1]               0\n",
      "          Conv1d-181                 [-1, 8, 1]              24\n",
      "   SqueezeExcite-182               [-1, 8, 128]               0\n",
      "          Conv1d-183               [-1, 1, 128]               9\n",
      "     BatchNorm1d-184               [-1, 1, 128]               2\n",
      "        Identity-185               [-1, 1, 128]               0\n",
      "        Identity-186               [-1, 1, 128]               0\n",
      "             GBN-187               [-1, 1, 128]               0\n",
      "InvertedResidual-188               [-1, 1, 128]               0\n",
      "          Conv1d-189              [-1, 22, 128]              44\n",
      "     BatchNorm1d-190              [-1, 22, 128]              44\n",
      "       Hardswish-191              [-1, 22, 128]               0\n",
      "        Identity-192              [-1, 22, 128]               0\n",
      "             GBN-193              [-1, 22, 128]               0\n",
      "          Conv1d-194              [-1, 22, 128]             132\n",
      "     BatchNorm1d-195              [-1, 22, 128]              44\n",
      "       Hardswish-196              [-1, 22, 128]               0\n",
      "        Identity-197              [-1, 22, 128]               0\n",
      "             GBN-198              [-1, 22, 128]               0\n",
      "        Identity-199              [-1, 22, 128]               0\n",
      "          Conv1d-200                 [-1, 2, 1]              46\n",
      "            SiLU-201                 [-1, 2, 1]               0\n",
      "          Conv1d-202                [-1, 22, 1]              66\n",
      "   SqueezeExcite-203              [-1, 22, 128]               0\n",
      "          Conv1d-204               [-1, 1, 128]              23\n",
      "     BatchNorm1d-205               [-1, 1, 128]               2\n",
      "        Identity-206               [-1, 1, 128]               0\n",
      "        Identity-207               [-1, 1, 128]               0\n",
      "             GBN-208               [-1, 1, 128]               0\n",
      "        DropPath-209               [-1, 1, 128]               0\n",
      "InvertedResidual-210               [-1, 1, 128]               0\n",
      "          Conv1d-211              [-1, 28, 128]              56\n",
      "     BatchNorm1d-212              [-1, 28, 128]              56\n",
      "       Hardswish-213              [-1, 28, 128]               0\n",
      "        Identity-214              [-1, 28, 128]               0\n",
      "             GBN-215              [-1, 28, 128]               0\n",
      "          Conv1d-216              [-1, 28, 128]             168\n",
      "     BatchNorm1d-217              [-1, 28, 128]              56\n",
      "       Hardswish-218              [-1, 28, 128]               0\n",
      "        Identity-219              [-1, 28, 128]               0\n",
      "             GBN-220              [-1, 28, 128]               0\n",
      "        Identity-221              [-1, 28, 128]               0\n",
      "          Conv1d-222                 [-1, 2, 1]              58\n",
      "            SiLU-223                 [-1, 2, 1]               0\n",
      "          Conv1d-224                [-1, 28, 1]              84\n",
      "   SqueezeExcite-225              [-1, 28, 128]               0\n",
      "          Conv1d-226               [-1, 1, 128]              29\n",
      "     BatchNorm1d-227               [-1, 1, 128]               2\n",
      "        Identity-228               [-1, 1, 128]               0\n",
      "        Identity-229               [-1, 1, 128]               0\n",
      "             GBN-230               [-1, 1, 128]               0\n",
      "        DropPath-231               [-1, 1, 128]               0\n",
      "InvertedResidual-232               [-1, 1, 128]               0\n",
      "          Conv1d-233              [-1, 46, 128]              92\n",
      "     BatchNorm1d-234              [-1, 46, 128]              92\n",
      "       Hardswish-235              [-1, 46, 128]               0\n",
      "        Identity-236              [-1, 46, 128]               0\n",
      "             GBN-237              [-1, 46, 128]               0\n",
      "        Identity-238              [-1, 46, 128]               0\n",
      "       ConvBnAct-239              [-1, 46, 128]               0\n",
      "FastGlobalAvgPool1d-240                [-1, 46, 1]               0\n",
      "          Conv1d-241                 [-1, 4, 1]             188\n",
      "        Identity-242                 [-1, 4, 1]               0\n",
      "       Hardswish-243                 [-1, 4, 1]               0\n",
      "         Flatten-244                    [-1, 4]               0\n",
      "          Linear-245                    [-1, 2]              10\n",
      "================================================================\n",
      "Total params: 20,011\n",
      "Trainable params: 20,011\n",
      "Non-trainable params: 0\n",
      "----------------------------------------------------------------\n",
      "Input size (MB): 0.12\n",
      "Forward/backward pass size (MB): 11.66\n",
      "Params size (MB): 0.08\n",
      "Estimated Total Size (MB): 11.86\n",
      "----------------------------------------------------------------\n",
      "Model structure matches the input size (8, 4096).\n",
      "Training the model with channel_pruning_Taylor_importance applied at 95.0%...\n"
     ]
    },
    {
     "data": {
      "application/vnd.jupyter.widget-view+json": {
       "model_id": "6a894c52918e4a408f8a3516b5214002",
       "version_major": 2,
       "version_minor": 0
      },
      "text/plain": [
       "Sanity Checking: |          | 0/? [00:00<?, ?it/s]"
      ]
     },
     "metadata": {},
     "output_type": "display_data"
    },
    {
     "name": "stdout",
     "output_type": "stream",
     "text": [
      "New best model saved with validation loss 1441.6115\n"
     ]
    },
    {
     "data": {
      "application/vnd.jupyter.widget-view+json": {
       "model_id": "157e0763c06c405ca42f30853cb14305",
       "version_major": 2,
       "version_minor": 0
      },
      "text/plain": [
       "Training: |          | 0/? [00:00<?, ?it/s]"
      ]
     },
     "metadata": {},
     "output_type": "display_data"
    },
    {
     "data": {
      "application/vnd.jupyter.widget-view+json": {
       "model_id": "7a51f3c354a0473ba2f512f9c28cb27a",
       "version_major": 2,
       "version_minor": 0
      },
      "text/plain": [
       "Validation: |          | 0/? [00:00<?, ?it/s]"
      ]
     },
     "metadata": {},
     "output_type": "display_data"
    },
    {
     "name": "stderr",
     "output_type": "stream",
     "text": [
      "Epoch 0, global step 2331: 'val_loss' reached 708.77350 (best 708.77350), saving model to '/home/mohammad.hallaq/workarea/MobileNet_compression/model_pruned_channel_pruning_Taylor_importance_amount_0.95.ckpt' as top 1\n"
     ]
    },
    {
     "name": "stdout",
     "output_type": "stream",
     "text": [
      "New best model saved with validation loss 708.7735\n"
     ]
    },
    {
     "data": {
      "application/vnd.jupyter.widget-view+json": {
       "model_id": "9453630334674224a16aff64e29a3827",
       "version_major": 2,
       "version_minor": 0
      },
      "text/plain": [
       "Validation: |          | 0/? [00:00<?, ?it/s]"
      ]
     },
     "metadata": {},
     "output_type": "display_data"
    },
    {
     "name": "stderr",
     "output_type": "stream",
     "text": [
      "Epoch 1, global step 4662: 'val_loss' reached 692.85278 (best 692.85278), saving model to '/home/mohammad.hallaq/workarea/MobileNet_compression/model_pruned_channel_pruning_Taylor_importance_amount_0.95.ckpt' as top 1\n"
     ]
    },
    {
     "name": "stdout",
     "output_type": "stream",
     "text": [
      "New best model saved with validation loss 692.8528\n"
     ]
    },
    {
     "data": {
      "application/vnd.jupyter.widget-view+json": {
       "model_id": "fec7c5461b9d4e3d8b0d08f87a049864",
       "version_major": 2,
       "version_minor": 0
      },
      "text/plain": [
       "Validation: |          | 0/? [00:00<?, ?it/s]"
      ]
     },
     "metadata": {},
     "output_type": "display_data"
    },
    {
     "name": "stderr",
     "output_type": "stream",
     "text": [
      "Epoch 2, global step 6993: 'val_loss' reached 679.67743 (best 679.67743), saving model to '/home/mohammad.hallaq/workarea/MobileNet_compression/model_pruned_channel_pruning_Taylor_importance_amount_0.95.ckpt' as top 1\n"
     ]
    },
    {
     "name": "stdout",
     "output_type": "stream",
     "text": [
      "New best model saved with validation loss 679.6774\n"
     ]
    },
    {
     "data": {
      "application/vnd.jupyter.widget-view+json": {
       "model_id": "93aa286de044408f9a022152fd25b29b",
       "version_major": 2,
       "version_minor": 0
      },
      "text/plain": [
       "Validation: |          | 0/? [00:00<?, ?it/s]"
      ]
     },
     "metadata": {},
     "output_type": "display_data"
    },
    {
     "name": "stderr",
     "output_type": "stream",
     "text": [
      "Epoch 3, global step 9324: 'val_loss' reached 460.85196 (best 460.85196), saving model to '/home/mohammad.hallaq/workarea/MobileNet_compression/model_pruned_channel_pruning_Taylor_importance_amount_0.95.ckpt' as top 1\n"
     ]
    },
    {
     "name": "stdout",
     "output_type": "stream",
     "text": [
      "New best model saved with validation loss 460.8520\n"
     ]
    },
    {
     "data": {
      "application/vnd.jupyter.widget-view+json": {
       "model_id": "92719d2ee4db4094b42b749b3a92ece4",
       "version_major": 2,
       "version_minor": 0
      },
      "text/plain": [
       "Validation: |          | 0/? [00:00<?, ?it/s]"
      ]
     },
     "metadata": {},
     "output_type": "display_data"
    },
    {
     "name": "stderr",
     "output_type": "stream",
     "text": [
      "Epoch 4, global step 11655: 'val_loss' reached 260.27942 (best 260.27942), saving model to '/home/mohammad.hallaq/workarea/MobileNet_compression/model_pruned_channel_pruning_Taylor_importance_amount_0.95.ckpt' as top 1\n"
     ]
    },
    {
     "name": "stdout",
     "output_type": "stream",
     "text": [
      "New best model saved with validation loss 260.2794\n"
     ]
    },
    {
     "data": {
      "application/vnd.jupyter.widget-view+json": {
       "model_id": "2578d97f26fd483da032209536e28fb3",
       "version_major": 2,
       "version_minor": 0
      },
      "text/plain": [
       "Validation: |          | 0/? [00:00<?, ?it/s]"
      ]
     },
     "metadata": {},
     "output_type": "display_data"
    },
    {
     "name": "stderr",
     "output_type": "stream",
     "text": [
      "Epoch 5, global step 13986: 'val_loss' reached 30.09857 (best 30.09857), saving model to '/home/mohammad.hallaq/workarea/MobileNet_compression/model_pruned_channel_pruning_Taylor_importance_amount_0.95.ckpt' as top 1\n"
     ]
    },
    {
     "name": "stdout",
     "output_type": "stream",
     "text": [
      "New best model saved with validation loss 30.0986\n"
     ]
    },
    {
     "data": {
      "application/vnd.jupyter.widget-view+json": {
       "model_id": "82c1bfcd77f04eaeb21fc3a47c50a1fc",
       "version_major": 2,
       "version_minor": 0
      },
      "text/plain": [
       "Validation: |          | 0/? [00:00<?, ?it/s]"
      ]
     },
     "metadata": {},
     "output_type": "display_data"
    },
    {
     "name": "stderr",
     "output_type": "stream",
     "text": [
      "Epoch 6, global step 16317: 'val_loss' reached 22.18738 (best 22.18738), saving model to '/home/mohammad.hallaq/workarea/MobileNet_compression/model_pruned_channel_pruning_Taylor_importance_amount_0.95.ckpt' as top 1\n"
     ]
    },
    {
     "name": "stdout",
     "output_type": "stream",
     "text": [
      "New best model saved with validation loss 22.1874\n"
     ]
    },
    {
     "data": {
      "application/vnd.jupyter.widget-view+json": {
       "model_id": "1980b094151a455f8f029b9d82fa8b17",
       "version_major": 2,
       "version_minor": 0
      },
      "text/plain": [
       "Validation: |          | 0/? [00:00<?, ?it/s]"
      ]
     },
     "metadata": {},
     "output_type": "display_data"
    },
    {
     "name": "stderr",
     "output_type": "stream",
     "text": [
      "Epoch 7, global step 18648: 'val_loss' was not in top 1\n"
     ]
    },
    {
     "data": {
      "application/vnd.jupyter.widget-view+json": {
       "model_id": "db9beeed23024bd895d3e2481f5abcf2",
       "version_major": 2,
       "version_minor": 0
      },
      "text/plain": [
       "Validation: |          | 0/? [00:00<?, ?it/s]"
      ]
     },
     "metadata": {},
     "output_type": "display_data"
    },
    {
     "name": "stderr",
     "output_type": "stream",
     "text": [
      "Epoch 8, global step 20979: 'val_loss' reached 17.81046 (best 17.81046), saving model to '/home/mohammad.hallaq/workarea/MobileNet_compression/model_pruned_channel_pruning_Taylor_importance_amount_0.95.ckpt' as top 1\n"
     ]
    },
    {
     "name": "stdout",
     "output_type": "stream",
     "text": [
      "New best model saved with validation loss 17.8105\n"
     ]
    },
    {
     "data": {
      "application/vnd.jupyter.widget-view+json": {
       "model_id": "94cd111969684379823d4c2f1ce1a882",
       "version_major": 2,
       "version_minor": 0
      },
      "text/plain": [
       "Validation: |          | 0/? [00:00<?, ?it/s]"
      ]
     },
     "metadata": {},
     "output_type": "display_data"
    },
    {
     "name": "stderr",
     "output_type": "stream",
     "text": [
      "Epoch 9, global step 23310: 'val_loss' reached 17.42451 (best 17.42451), saving model to '/home/mohammad.hallaq/workarea/MobileNet_compression/model_pruned_channel_pruning_Taylor_importance_amount_0.95.ckpt' as top 1\n"
     ]
    },
    {
     "name": "stdout",
     "output_type": "stream",
     "text": [
      "New best model saved with validation loss 17.4245\n"
     ]
    },
    {
     "data": {
      "application/vnd.jupyter.widget-view+json": {
       "model_id": "0658fe94aa8d4420932a4d3156d787d6",
       "version_major": 2,
       "version_minor": 0
      },
      "text/plain": [
       "Validation: |          | 0/? [00:00<?, ?it/s]"
      ]
     },
     "metadata": {},
     "output_type": "display_data"
    },
    {
     "name": "stderr",
     "output_type": "stream",
     "text": [
      "Epoch 10, global step 25641: 'val_loss' was not in top 1\n"
     ]
    },
    {
     "data": {
      "application/vnd.jupyter.widget-view+json": {
       "model_id": "66d3bc1c8f084f1aab86f97f96068b89",
       "version_major": 2,
       "version_minor": 0
      },
      "text/plain": [
       "Validation: |          | 0/? [00:00<?, ?it/s]"
      ]
     },
     "metadata": {},
     "output_type": "display_data"
    },
    {
     "name": "stderr",
     "output_type": "stream",
     "text": [
      "Epoch 11, global step 27972: 'val_loss' reached 15.93703 (best 15.93703), saving model to '/home/mohammad.hallaq/workarea/MobileNet_compression/model_pruned_channel_pruning_Taylor_importance_amount_0.95.ckpt' as top 1\n"
     ]
    },
    {
     "name": "stdout",
     "output_type": "stream",
     "text": [
      "New best model saved with validation loss 15.9370\n"
     ]
    },
    {
     "data": {
      "application/vnd.jupyter.widget-view+json": {
       "model_id": "5a635e55b8854f9a977baaff51108803",
       "version_major": 2,
       "version_minor": 0
      },
      "text/plain": [
       "Validation: |          | 0/? [00:00<?, ?it/s]"
      ]
     },
     "metadata": {},
     "output_type": "display_data"
    },
    {
     "name": "stderr",
     "output_type": "stream",
     "text": [
      "Epoch 12, global step 30303: 'val_loss' was not in top 1\n"
     ]
    },
    {
     "data": {
      "application/vnd.jupyter.widget-view+json": {
       "model_id": "02eae628e5f44e739d27faff85354b20",
       "version_major": 2,
       "version_minor": 0
      },
      "text/plain": [
       "Validation: |          | 0/? [00:00<?, ?it/s]"
      ]
     },
     "metadata": {},
     "output_type": "display_data"
    },
    {
     "name": "stderr",
     "output_type": "stream",
     "text": [
      "Epoch 13, global step 32634: 'val_loss' was not in top 1\n"
     ]
    },
    {
     "data": {
      "application/vnd.jupyter.widget-view+json": {
       "model_id": "edb80220995a491e93e3f0e34bade863",
       "version_major": 2,
       "version_minor": 0
      },
      "text/plain": [
       "Validation: |          | 0/? [00:00<?, ?it/s]"
      ]
     },
     "metadata": {},
     "output_type": "display_data"
    },
    {
     "name": "stderr",
     "output_type": "stream",
     "text": [
      "Epoch 14, global step 34965: 'val_loss' reached 15.08306 (best 15.08306), saving model to '/home/mohammad.hallaq/workarea/MobileNet_compression/model_pruned_channel_pruning_Taylor_importance_amount_0.95.ckpt' as top 1\n"
     ]
    },
    {
     "name": "stdout",
     "output_type": "stream",
     "text": [
      "New best model saved with validation loss 15.0831\n"
     ]
    },
    {
     "data": {
      "application/vnd.jupyter.widget-view+json": {
       "model_id": "bbcb85946ddc40fda3e6249525f44201",
       "version_major": 2,
       "version_minor": 0
      },
      "text/plain": [
       "Validation: |          | 0/? [00:00<?, ?it/s]"
      ]
     },
     "metadata": {},
     "output_type": "display_data"
    },
    {
     "name": "stderr",
     "output_type": "stream",
     "text": [
      "Epoch 15, global step 37296: 'val_loss' reached 14.63526 (best 14.63526), saving model to '/home/mohammad.hallaq/workarea/MobileNet_compression/model_pruned_channel_pruning_Taylor_importance_amount_0.95.ckpt' as top 1\n"
     ]
    },
    {
     "name": "stdout",
     "output_type": "stream",
     "text": [
      "New best model saved with validation loss 14.6353\n"
     ]
    },
    {
     "data": {
      "application/vnd.jupyter.widget-view+json": {
       "model_id": "7c086d751c574ae982e629550c17d659",
       "version_major": 2,
       "version_minor": 0
      },
      "text/plain": [
       "Validation: |          | 0/? [00:00<?, ?it/s]"
      ]
     },
     "metadata": {},
     "output_type": "display_data"
    },
    {
     "name": "stderr",
     "output_type": "stream",
     "text": [
      "Epoch 16, global step 39627: 'val_loss' was not in top 1\n"
     ]
    },
    {
     "data": {
      "application/vnd.jupyter.widget-view+json": {
       "model_id": "a96e22b667dd4cf9889a101fd33d36ae",
       "version_major": 2,
       "version_minor": 0
      },
      "text/plain": [
       "Validation: |          | 0/? [00:00<?, ?it/s]"
      ]
     },
     "metadata": {},
     "output_type": "display_data"
    },
    {
     "name": "stderr",
     "output_type": "stream",
     "text": [
      "Epoch 17, global step 41958: 'val_loss' was not in top 1\n"
     ]
    },
    {
     "data": {
      "application/vnd.jupyter.widget-view+json": {
       "model_id": "7f35902fa91142eda20589429dcfdf88",
       "version_major": 2,
       "version_minor": 0
      },
      "text/plain": [
       "Validation: |          | 0/? [00:00<?, ?it/s]"
      ]
     },
     "metadata": {},
     "output_type": "display_data"
    },
    {
     "name": "stderr",
     "output_type": "stream",
     "text": [
      "Epoch 18, global step 44289: 'val_loss' reached 14.04289 (best 14.04289), saving model to '/home/mohammad.hallaq/workarea/MobileNet_compression/model_pruned_channel_pruning_Taylor_importance_amount_0.95.ckpt' as top 1\n"
     ]
    },
    {
     "name": "stdout",
     "output_type": "stream",
     "text": [
      "New best model saved with validation loss 14.0429\n"
     ]
    },
    {
     "data": {
      "application/vnd.jupyter.widget-view+json": {
       "model_id": "83bf5c672d114fcebe83321cd5d71880",
       "version_major": 2,
       "version_minor": 0
      },
      "text/plain": [
       "Validation: |          | 0/? [00:00<?, ?it/s]"
      ]
     },
     "metadata": {},
     "output_type": "display_data"
    },
    {
     "name": "stderr",
     "output_type": "stream",
     "text": [
      "Epoch 19, global step 46620: 'val_loss' reached 13.99370 (best 13.99370), saving model to '/home/mohammad.hallaq/workarea/MobileNet_compression/model_pruned_channel_pruning_Taylor_importance_amount_0.95.ckpt' as top 1\n"
     ]
    },
    {
     "name": "stdout",
     "output_type": "stream",
     "text": [
      "New best model saved with validation loss 13.9937\n"
     ]
    },
    {
     "data": {
      "application/vnd.jupyter.widget-view+json": {
       "model_id": "65879136cb294a69be026328523d8cc6",
       "version_major": 2,
       "version_minor": 0
      },
      "text/plain": [
       "Validation: |          | 0/? [00:00<?, ?it/s]"
      ]
     },
     "metadata": {},
     "output_type": "display_data"
    },
    {
     "name": "stderr",
     "output_type": "stream",
     "text": [
      "Epoch 20, global step 48951: 'val_loss' was not in top 1\n"
     ]
    },
    {
     "data": {
      "application/vnd.jupyter.widget-view+json": {
       "model_id": "6a2dcf104719489a8fb17b0e8c8e481d",
       "version_major": 2,
       "version_minor": 0
      },
      "text/plain": [
       "Validation: |          | 0/? [00:00<?, ?it/s]"
      ]
     },
     "metadata": {},
     "output_type": "display_data"
    },
    {
     "name": "stderr",
     "output_type": "stream",
     "text": [
      "Epoch 21, global step 51282: 'val_loss' reached 13.46167 (best 13.46167), saving model to '/home/mohammad.hallaq/workarea/MobileNet_compression/model_pruned_channel_pruning_Taylor_importance_amount_0.95.ckpt' as top 1\n"
     ]
    },
    {
     "name": "stdout",
     "output_type": "stream",
     "text": [
      "New best model saved with validation loss 13.4617\n"
     ]
    },
    {
     "data": {
      "application/vnd.jupyter.widget-view+json": {
       "model_id": "7f721635356740a4a396b8e4be25d43c",
       "version_major": 2,
       "version_minor": 0
      },
      "text/plain": [
       "Validation: |          | 0/? [00:00<?, ?it/s]"
      ]
     },
     "metadata": {},
     "output_type": "display_data"
    },
    {
     "name": "stderr",
     "output_type": "stream",
     "text": [
      "Epoch 22, global step 53613: 'val_loss' was not in top 1\n"
     ]
    },
    {
     "data": {
      "application/vnd.jupyter.widget-view+json": {
       "model_id": "11faa18587444c068c58c45269cac56f",
       "version_major": 2,
       "version_minor": 0
      },
      "text/plain": [
       "Validation: |          | 0/? [00:00<?, ?it/s]"
      ]
     },
     "metadata": {},
     "output_type": "display_data"
    },
    {
     "name": "stderr",
     "output_type": "stream",
     "text": [
      "Epoch 23, global step 55944: 'val_loss' reached 12.94756 (best 12.94756), saving model to '/home/mohammad.hallaq/workarea/MobileNet_compression/model_pruned_channel_pruning_Taylor_importance_amount_0.95.ckpt' as top 1\n"
     ]
    },
    {
     "name": "stdout",
     "output_type": "stream",
     "text": [
      "New best model saved with validation loss 12.9476\n"
     ]
    },
    {
     "data": {
      "application/vnd.jupyter.widget-view+json": {
       "model_id": "d5a026be163a4f94818fde42c6c452cc",
       "version_major": 2,
       "version_minor": 0
      },
      "text/plain": [
       "Validation: |          | 0/? [00:00<?, ?it/s]"
      ]
     },
     "metadata": {},
     "output_type": "display_data"
    },
    {
     "name": "stderr",
     "output_type": "stream",
     "text": [
      "Epoch 24, global step 58275: 'val_loss' was not in top 1\n"
     ]
    },
    {
     "data": {
      "application/vnd.jupyter.widget-view+json": {
       "model_id": "911e9360f9394110b19b461c2e209054",
       "version_major": 2,
       "version_minor": 0
      },
      "text/plain": [
       "Validation: |          | 0/? [00:00<?, ?it/s]"
      ]
     },
     "metadata": {},
     "output_type": "display_data"
    },
    {
     "name": "stderr",
     "output_type": "stream",
     "text": [
      "Epoch 25, global step 60606: 'val_loss' was not in top 1\n"
     ]
    },
    {
     "data": {
      "application/vnd.jupyter.widget-view+json": {
       "model_id": "0b7c8f941ad544a28cb73e39bf77e797",
       "version_major": 2,
       "version_minor": 0
      },
      "text/plain": [
       "Validation: |          | 0/? [00:00<?, ?it/s]"
      ]
     },
     "metadata": {},
     "output_type": "display_data"
    },
    {
     "name": "stderr",
     "output_type": "stream",
     "text": [
      "Epoch 26, global step 62937: 'val_loss' was not in top 1\n"
     ]
    },
    {
     "data": {
      "application/vnd.jupyter.widget-view+json": {
       "model_id": "1e6d46e7e28940519603f51b8c57c2e0",
       "version_major": 2,
       "version_minor": 0
      },
      "text/plain": [
       "Validation: |          | 0/? [00:00<?, ?it/s]"
      ]
     },
     "metadata": {},
     "output_type": "display_data"
    },
    {
     "name": "stderr",
     "output_type": "stream",
     "text": [
      "Epoch 27, global step 65268: 'val_loss' was not in top 1\n"
     ]
    },
    {
     "data": {
      "application/vnd.jupyter.widget-view+json": {
       "model_id": "0faa67cc7dc241f9aefcf1b6978b083d",
       "version_major": 2,
       "version_minor": 0
      },
      "text/plain": [
       "Validation: |          | 0/? [00:00<?, ?it/s]"
      ]
     },
     "metadata": {},
     "output_type": "display_data"
    },
    {
     "name": "stderr",
     "output_type": "stream",
     "text": [
      "Epoch 28, global step 67599: 'val_loss' was not in top 1\n"
     ]
    },
    {
     "data": {
      "application/vnd.jupyter.widget-view+json": {
       "model_id": "c891e7d0104344dd9ca95edf6af1bd2e",
       "version_major": 2,
       "version_minor": 0
      },
      "text/plain": [
       "Validation: |          | 0/? [00:00<?, ?it/s]"
      ]
     },
     "metadata": {},
     "output_type": "display_data"
    },
    {
     "name": "stderr",
     "output_type": "stream",
     "text": [
      "Epoch 29, global step 69930: 'val_loss' reached 12.76393 (best 12.76393), saving model to '/home/mohammad.hallaq/workarea/MobileNet_compression/model_pruned_channel_pruning_Taylor_importance_amount_0.95.ckpt' as top 1\n"
     ]
    },
    {
     "name": "stdout",
     "output_type": "stream",
     "text": [
      "New best model saved with validation loss 12.7639\n"
     ]
    },
    {
     "data": {
      "application/vnd.jupyter.widget-view+json": {
       "model_id": "380899684fd449e7a6b1d67128e31f6e",
       "version_major": 2,
       "version_minor": 0
      },
      "text/plain": [
       "Validation: |          | 0/? [00:00<?, ?it/s]"
      ]
     },
     "metadata": {},
     "output_type": "display_data"
    },
    {
     "name": "stderr",
     "output_type": "stream",
     "text": [
      "Epoch 30, global step 72261: 'val_loss' was not in top 1\n"
     ]
    },
    {
     "data": {
      "application/vnd.jupyter.widget-view+json": {
       "model_id": "f26d41342dad4a9998d8fd348f3c0b62",
       "version_major": 2,
       "version_minor": 0
      },
      "text/plain": [
       "Validation: |          | 0/? [00:00<?, ?it/s]"
      ]
     },
     "metadata": {},
     "output_type": "display_data"
    },
    {
     "name": "stderr",
     "output_type": "stream",
     "text": [
      "Epoch 31, global step 74592: 'val_loss' was not in top 1\n"
     ]
    },
    {
     "data": {
      "application/vnd.jupyter.widget-view+json": {
       "model_id": "c8280098f94f40ab93b65d50351a8d9c",
       "version_major": 2,
       "version_minor": 0
      },
      "text/plain": [
       "Validation: |          | 0/? [00:00<?, ?it/s]"
      ]
     },
     "metadata": {},
     "output_type": "display_data"
    },
    {
     "name": "stderr",
     "output_type": "stream",
     "text": [
      "Epoch 32, global step 76923: 'val_loss' was not in top 1\n"
     ]
    },
    {
     "data": {
      "application/vnd.jupyter.widget-view+json": {
       "model_id": "a98d2d17c8c1446685350919a43ba66f",
       "version_major": 2,
       "version_minor": 0
      },
      "text/plain": [
       "Validation: |          | 0/? [00:00<?, ?it/s]"
      ]
     },
     "metadata": {},
     "output_type": "display_data"
    },
    {
     "name": "stderr",
     "output_type": "stream",
     "text": [
      "Epoch 33, global step 79254: 'val_loss' reached 12.60275 (best 12.60275), saving model to '/home/mohammad.hallaq/workarea/MobileNet_compression/model_pruned_channel_pruning_Taylor_importance_amount_0.95.ckpt' as top 1\n"
     ]
    },
    {
     "name": "stdout",
     "output_type": "stream",
     "text": [
      "New best model saved with validation loss 12.6028\n"
     ]
    },
    {
     "data": {
      "application/vnd.jupyter.widget-view+json": {
       "model_id": "849672ac155341a38f03e99dd0cd9415",
       "version_major": 2,
       "version_minor": 0
      },
      "text/plain": [
       "Validation: |          | 0/? [00:00<?, ?it/s]"
      ]
     },
     "metadata": {},
     "output_type": "display_data"
    },
    {
     "name": "stderr",
     "output_type": "stream",
     "text": [
      "Epoch 34, global step 81585: 'val_loss' reached 12.60129 (best 12.60129), saving model to '/home/mohammad.hallaq/workarea/MobileNet_compression/model_pruned_channel_pruning_Taylor_importance_amount_0.95.ckpt' as top 1\n"
     ]
    },
    {
     "name": "stdout",
     "output_type": "stream",
     "text": [
      "New best model saved with validation loss 12.6013\n"
     ]
    },
    {
     "data": {
      "application/vnd.jupyter.widget-view+json": {
       "model_id": "70f9b41889634ecc93ca0e55ff22f15f",
       "version_major": 2,
       "version_minor": 0
      },
      "text/plain": [
       "Validation: |          | 0/? [00:00<?, ?it/s]"
      ]
     },
     "metadata": {},
     "output_type": "display_data"
    },
    {
     "name": "stderr",
     "output_type": "stream",
     "text": [
      "Epoch 35, global step 83916: 'val_loss' was not in top 1\n"
     ]
    },
    {
     "data": {
      "application/vnd.jupyter.widget-view+json": {
       "model_id": "3b43332492bf4ceb80b68e4c2b912160",
       "version_major": 2,
       "version_minor": 0
      },
      "text/plain": [
       "Validation: |          | 0/? [00:00<?, ?it/s]"
      ]
     },
     "metadata": {},
     "output_type": "display_data"
    },
    {
     "name": "stderr",
     "output_type": "stream",
     "text": [
      "Epoch 36, global step 86247: 'val_loss' was not in top 1\n"
     ]
    },
    {
     "data": {
      "application/vnd.jupyter.widget-view+json": {
       "model_id": "0e73cbc5728142c683d781704fb41103",
       "version_major": 2,
       "version_minor": 0
      },
      "text/plain": [
       "Validation: |          | 0/? [00:00<?, ?it/s]"
      ]
     },
     "metadata": {},
     "output_type": "display_data"
    },
    {
     "name": "stderr",
     "output_type": "stream",
     "text": [
      "Epoch 37, global step 88578: 'val_loss' reached 12.46429 (best 12.46429), saving model to '/home/mohammad.hallaq/workarea/MobileNet_compression/model_pruned_channel_pruning_Taylor_importance_amount_0.95.ckpt' as top 1\n"
     ]
    },
    {
     "name": "stdout",
     "output_type": "stream",
     "text": [
      "New best model saved with validation loss 12.4643\n"
     ]
    },
    {
     "data": {
      "application/vnd.jupyter.widget-view+json": {
       "model_id": "91287da9041d4ffca6ce1a3137b705fb",
       "version_major": 2,
       "version_minor": 0
      },
      "text/plain": [
       "Validation: |          | 0/? [00:00<?, ?it/s]"
      ]
     },
     "metadata": {},
     "output_type": "display_data"
    },
    {
     "name": "stderr",
     "output_type": "stream",
     "text": [
      "Epoch 38, global step 90909: 'val_loss' reached 12.40855 (best 12.40855), saving model to '/home/mohammad.hallaq/workarea/MobileNet_compression/model_pruned_channel_pruning_Taylor_importance_amount_0.95.ckpt' as top 1\n"
     ]
    },
    {
     "name": "stdout",
     "output_type": "stream",
     "text": [
      "New best model saved with validation loss 12.4085\n"
     ]
    },
    {
     "data": {
      "application/vnd.jupyter.widget-view+json": {
       "model_id": "642c76e8755c4eedb1a1ec54a57dfea1",
       "version_major": 2,
       "version_minor": 0
      },
      "text/plain": [
       "Validation: |          | 0/? [00:00<?, ?it/s]"
      ]
     },
     "metadata": {},
     "output_type": "display_data"
    },
    {
     "name": "stderr",
     "output_type": "stream",
     "text": [
      "Epoch 39, global step 93240: 'val_loss' was not in top 1\n"
     ]
    },
    {
     "data": {
      "application/vnd.jupyter.widget-view+json": {
       "model_id": "40979e0a69704314b24233532215be7d",
       "version_major": 2,
       "version_minor": 0
      },
      "text/plain": [
       "Validation: |          | 0/? [00:00<?, ?it/s]"
      ]
     },
     "metadata": {},
     "output_type": "display_data"
    },
    {
     "name": "stderr",
     "output_type": "stream",
     "text": [
      "Epoch 40, global step 95571: 'val_loss' was not in top 1\n"
     ]
    },
    {
     "data": {
      "application/vnd.jupyter.widget-view+json": {
       "model_id": "f3be656930814146a246bae41462cdf4",
       "version_major": 2,
       "version_minor": 0
      },
      "text/plain": [
       "Validation: |          | 0/? [00:00<?, ?it/s]"
      ]
     },
     "metadata": {},
     "output_type": "display_data"
    },
    {
     "name": "stderr",
     "output_type": "stream",
     "text": [
      "Epoch 41, global step 97902: 'val_loss' reached 12.36408 (best 12.36408), saving model to '/home/mohammad.hallaq/workarea/MobileNet_compression/model_pruned_channel_pruning_Taylor_importance_amount_0.95.ckpt' as top 1\n"
     ]
    },
    {
     "name": "stdout",
     "output_type": "stream",
     "text": [
      "New best model saved with validation loss 12.3641\n"
     ]
    },
    {
     "data": {
      "application/vnd.jupyter.widget-view+json": {
       "model_id": "75dce17bc9494f50b6e4cb1720d149f4",
       "version_major": 2,
       "version_minor": 0
      },
      "text/plain": [
       "Validation: |          | 0/? [00:00<?, ?it/s]"
      ]
     },
     "metadata": {},
     "output_type": "display_data"
    },
    {
     "name": "stderr",
     "output_type": "stream",
     "text": [
      "Epoch 42, global step 100233: 'val_loss' was not in top 1\n"
     ]
    },
    {
     "data": {
      "application/vnd.jupyter.widget-view+json": {
       "model_id": "fa25da479dfa4c879dd2252a421999c4",
       "version_major": 2,
       "version_minor": 0
      },
      "text/plain": [
       "Validation: |          | 0/? [00:00<?, ?it/s]"
      ]
     },
     "metadata": {},
     "output_type": "display_data"
    },
    {
     "name": "stderr",
     "output_type": "stream",
     "text": [
      "Epoch 43, global step 102564: 'val_loss' was not in top 1\n"
     ]
    },
    {
     "data": {
      "application/vnd.jupyter.widget-view+json": {
       "model_id": "7d75882323554fdb9a8da04877224876",
       "version_major": 2,
       "version_minor": 0
      },
      "text/plain": [
       "Validation: |          | 0/? [00:00<?, ?it/s]"
      ]
     },
     "metadata": {},
     "output_type": "display_data"
    },
    {
     "name": "stderr",
     "output_type": "stream",
     "text": [
      "Epoch 44, global step 104895: 'val_loss' was not in top 1\n"
     ]
    },
    {
     "data": {
      "application/vnd.jupyter.widget-view+json": {
       "model_id": "fe711f9af08344428f0c6084dce409d8",
       "version_major": 2,
       "version_minor": 0
      },
      "text/plain": [
       "Validation: |          | 0/? [00:00<?, ?it/s]"
      ]
     },
     "metadata": {},
     "output_type": "display_data"
    },
    {
     "name": "stderr",
     "output_type": "stream",
     "text": [
      "Epoch 45, global step 107226: 'val_loss' was not in top 1\n"
     ]
    },
    {
     "data": {
      "application/vnd.jupyter.widget-view+json": {
       "model_id": "ed3261a6160746d990dd07a4e9a51abe",
       "version_major": 2,
       "version_minor": 0
      },
      "text/plain": [
       "Validation: |          | 0/? [00:00<?, ?it/s]"
      ]
     },
     "metadata": {},
     "output_type": "display_data"
    },
    {
     "name": "stderr",
     "output_type": "stream",
     "text": [
      "Epoch 46, global step 109557: 'val_loss' was not in top 1\n"
     ]
    },
    {
     "data": {
      "application/vnd.jupyter.widget-view+json": {
       "model_id": "bddeea4bde81478c8922e80d3da86d8b",
       "version_major": 2,
       "version_minor": 0
      },
      "text/plain": [
       "Validation: |          | 0/? [00:00<?, ?it/s]"
      ]
     },
     "metadata": {},
     "output_type": "display_data"
    },
    {
     "name": "stderr",
     "output_type": "stream",
     "text": [
      "Epoch 47, global step 111888: 'val_loss' was not in top 1\n"
     ]
    },
    {
     "data": {
      "application/vnd.jupyter.widget-view+json": {
       "model_id": "30a0f71d39f14ecabad0fda7199cd667",
       "version_major": 2,
       "version_minor": 0
      },
      "text/plain": [
       "Validation: |          | 0/? [00:00<?, ?it/s]"
      ]
     },
     "metadata": {},
     "output_type": "display_data"
    },
    {
     "name": "stderr",
     "output_type": "stream",
     "text": [
      "Epoch 48, global step 114219: 'val_loss' reached 12.36046 (best 12.36046), saving model to '/home/mohammad.hallaq/workarea/MobileNet_compression/model_pruned_channel_pruning_Taylor_importance_amount_0.95.ckpt' as top 1\n"
     ]
    },
    {
     "name": "stdout",
     "output_type": "stream",
     "text": [
      "New best model saved with validation loss 12.3605\n"
     ]
    },
    {
     "data": {
      "application/vnd.jupyter.widget-view+json": {
       "model_id": "ba1172bf06b64cb9abf01c42d310a55c",
       "version_major": 2,
       "version_minor": 0
      },
      "text/plain": [
       "Validation: |          | 0/? [00:00<?, ?it/s]"
      ]
     },
     "metadata": {},
     "output_type": "display_data"
    },
    {
     "name": "stderr",
     "output_type": "stream",
     "text": [
      "Epoch 49, global step 116550: 'val_loss' was not in top 1\n"
     ]
    },
    {
     "data": {
      "application/vnd.jupyter.widget-view+json": {
       "model_id": "f699ac82a67342418179eaa9bef1b975",
       "version_major": 2,
       "version_minor": 0
      },
      "text/plain": [
       "Validation: |          | 0/? [00:00<?, ?it/s]"
      ]
     },
     "metadata": {},
     "output_type": "display_data"
    },
    {
     "name": "stderr",
     "output_type": "stream",
     "text": [
      "Epoch 50, global step 118881: 'val_loss' was not in top 1\n"
     ]
    },
    {
     "data": {
      "application/vnd.jupyter.widget-view+json": {
       "model_id": "6e6d089f5be94eeca6e6fcb2a6fcdd9f",
       "version_major": 2,
       "version_minor": 0
      },
      "text/plain": [
       "Validation: |          | 0/? [00:00<?, ?it/s]"
      ]
     },
     "metadata": {},
     "output_type": "display_data"
    },
    {
     "name": "stderr",
     "output_type": "stream",
     "text": [
      "Epoch 51, global step 121212: 'val_loss' reached 12.23631 (best 12.23631), saving model to '/home/mohammad.hallaq/workarea/MobileNet_compression/model_pruned_channel_pruning_Taylor_importance_amount_0.95.ckpt' as top 1\n"
     ]
    },
    {
     "name": "stdout",
     "output_type": "stream",
     "text": [
      "New best model saved with validation loss 12.2363\n"
     ]
    },
    {
     "data": {
      "application/vnd.jupyter.widget-view+json": {
       "model_id": "2b9571d6ff7a4101947661f26114032c",
       "version_major": 2,
       "version_minor": 0
      },
      "text/plain": [
       "Validation: |          | 0/? [00:00<?, ?it/s]"
      ]
     },
     "metadata": {},
     "output_type": "display_data"
    },
    {
     "name": "stderr",
     "output_type": "stream",
     "text": [
      "Epoch 52, global step 123543: 'val_loss' was not in top 1\n"
     ]
    },
    {
     "data": {
      "application/vnd.jupyter.widget-view+json": {
       "model_id": "2a9b26433a4e45df845e75d0cfb91e89",
       "version_major": 2,
       "version_minor": 0
      },
      "text/plain": [
       "Validation: |          | 0/? [00:00<?, ?it/s]"
      ]
     },
     "metadata": {},
     "output_type": "display_data"
    },
    {
     "name": "stderr",
     "output_type": "stream",
     "text": [
      "Epoch 53, global step 125874: 'val_loss' was not in top 1\n"
     ]
    },
    {
     "data": {
      "application/vnd.jupyter.widget-view+json": {
       "model_id": "7ecb162048c449a1b47a08d25449adb0",
       "version_major": 2,
       "version_minor": 0
      },
      "text/plain": [
       "Validation: |          | 0/? [00:00<?, ?it/s]"
      ]
     },
     "metadata": {},
     "output_type": "display_data"
    },
    {
     "name": "stderr",
     "output_type": "stream",
     "text": [
      "Epoch 54, global step 128205: 'val_loss' was not in top 1\n"
     ]
    },
    {
     "data": {
      "application/vnd.jupyter.widget-view+json": {
       "model_id": "8d052d602d754e078f7cee5662587493",
       "version_major": 2,
       "version_minor": 0
      },
      "text/plain": [
       "Validation: |          | 0/? [00:00<?, ?it/s]"
      ]
     },
     "metadata": {},
     "output_type": "display_data"
    },
    {
     "name": "stderr",
     "output_type": "stream",
     "text": [
      "Epoch 55, global step 130536: 'val_loss' reached 12.12413 (best 12.12413), saving model to '/home/mohammad.hallaq/workarea/MobileNet_compression/model_pruned_channel_pruning_Taylor_importance_amount_0.95.ckpt' as top 1\n"
     ]
    },
    {
     "name": "stdout",
     "output_type": "stream",
     "text": [
      "New best model saved with validation loss 12.1241\n"
     ]
    },
    {
     "data": {
      "application/vnd.jupyter.widget-view+json": {
       "model_id": "ca738826596f4295a3bf04ae609e447b",
       "version_major": 2,
       "version_minor": 0
      },
      "text/plain": [
       "Validation: |          | 0/? [00:00<?, ?it/s]"
      ]
     },
     "metadata": {},
     "output_type": "display_data"
    },
    {
     "name": "stderr",
     "output_type": "stream",
     "text": [
      "Epoch 56, global step 132867: 'val_loss' reached 11.75965 (best 11.75965), saving model to '/home/mohammad.hallaq/workarea/MobileNet_compression/model_pruned_channel_pruning_Taylor_importance_amount_0.95.ckpt' as top 1\n"
     ]
    },
    {
     "name": "stdout",
     "output_type": "stream",
     "text": [
      "New best model saved with validation loss 11.7596\n"
     ]
    },
    {
     "data": {
      "application/vnd.jupyter.widget-view+json": {
       "model_id": "9bafc3674bf3406a9a159b059f628798",
       "version_major": 2,
       "version_minor": 0
      },
      "text/plain": [
       "Validation: |          | 0/? [00:00<?, ?it/s]"
      ]
     },
     "metadata": {},
     "output_type": "display_data"
    },
    {
     "name": "stderr",
     "output_type": "stream",
     "text": [
      "Epoch 57, global step 135198: 'val_loss' was not in top 1\n"
     ]
    },
    {
     "data": {
      "application/vnd.jupyter.widget-view+json": {
       "model_id": "dabaa1b246cb44a2b0cd59ac07b934e6",
       "version_major": 2,
       "version_minor": 0
      },
      "text/plain": [
       "Validation: |          | 0/? [00:00<?, ?it/s]"
      ]
     },
     "metadata": {},
     "output_type": "display_data"
    },
    {
     "name": "stderr",
     "output_type": "stream",
     "text": [
      "Epoch 58, global step 137529: 'val_loss' was not in top 1\n"
     ]
    },
    {
     "data": {
      "application/vnd.jupyter.widget-view+json": {
       "model_id": "288ded49508b48ddb5af22e8c60700cf",
       "version_major": 2,
       "version_minor": 0
      },
      "text/plain": [
       "Validation: |          | 0/? [00:00<?, ?it/s]"
      ]
     },
     "metadata": {},
     "output_type": "display_data"
    },
    {
     "name": "stderr",
     "output_type": "stream",
     "text": [
      "Epoch 59, global step 139860: 'val_loss' was not in top 1\n"
     ]
    },
    {
     "data": {
      "application/vnd.jupyter.widget-view+json": {
       "model_id": "8fa1f41a632e4679ad0718593742affb",
       "version_major": 2,
       "version_minor": 0
      },
      "text/plain": [
       "Validation: |          | 0/? [00:00<?, ?it/s]"
      ]
     },
     "metadata": {},
     "output_type": "display_data"
    },
    {
     "name": "stderr",
     "output_type": "stream",
     "text": [
      "Epoch 60, global step 142191: 'val_loss' was not in top 1\n"
     ]
    },
    {
     "data": {
      "application/vnd.jupyter.widget-view+json": {
       "model_id": "03a981d5c5b9459c90b11909511b904a",
       "version_major": 2,
       "version_minor": 0
      },
      "text/plain": [
       "Validation: |          | 0/? [00:00<?, ?it/s]"
      ]
     },
     "metadata": {},
     "output_type": "display_data"
    },
    {
     "name": "stderr",
     "output_type": "stream",
     "text": [
      "Epoch 61, global step 144522: 'val_loss' was not in top 1\n"
     ]
    },
    {
     "data": {
      "application/vnd.jupyter.widget-view+json": {
       "model_id": "522bb91dc7104bf7a27056033b15c90e",
       "version_major": 2,
       "version_minor": 0
      },
      "text/plain": [
       "Validation: |          | 0/? [00:00<?, ?it/s]"
      ]
     },
     "metadata": {},
     "output_type": "display_data"
    },
    {
     "name": "stderr",
     "output_type": "stream",
     "text": [
      "Epoch 62, global step 146853: 'val_loss' reached 11.63510 (best 11.63510), saving model to '/home/mohammad.hallaq/workarea/MobileNet_compression/model_pruned_channel_pruning_Taylor_importance_amount_0.95.ckpt' as top 1\n"
     ]
    },
    {
     "name": "stdout",
     "output_type": "stream",
     "text": [
      "New best model saved with validation loss 11.6351\n"
     ]
    },
    {
     "data": {
      "application/vnd.jupyter.widget-view+json": {
       "model_id": "be0f04642151489db4636856fbe43981",
       "version_major": 2,
       "version_minor": 0
      },
      "text/plain": [
       "Validation: |          | 0/? [00:00<?, ?it/s]"
      ]
     },
     "metadata": {},
     "output_type": "display_data"
    },
    {
     "name": "stderr",
     "output_type": "stream",
     "text": [
      "Epoch 63, global step 149184: 'val_loss' reached 11.56649 (best 11.56649), saving model to '/home/mohammad.hallaq/workarea/MobileNet_compression/model_pruned_channel_pruning_Taylor_importance_amount_0.95.ckpt' as top 1\n"
     ]
    },
    {
     "name": "stdout",
     "output_type": "stream",
     "text": [
      "New best model saved with validation loss 11.5665\n"
     ]
    },
    {
     "data": {
      "application/vnd.jupyter.widget-view+json": {
       "model_id": "6e2eda1d229a4ca3b487cdf44dfd9fff",
       "version_major": 2,
       "version_minor": 0
      },
      "text/plain": [
       "Validation: |          | 0/? [00:00<?, ?it/s]"
      ]
     },
     "metadata": {},
     "output_type": "display_data"
    },
    {
     "name": "stderr",
     "output_type": "stream",
     "text": [
      "Epoch 64, global step 151515: 'val_loss' was not in top 1\n"
     ]
    },
    {
     "data": {
      "application/vnd.jupyter.widget-view+json": {
       "model_id": "aebc9a3e239c4f5b86d3ce3c265578dd",
       "version_major": 2,
       "version_minor": 0
      },
      "text/plain": [
       "Validation: |          | 0/? [00:00<?, ?it/s]"
      ]
     },
     "metadata": {},
     "output_type": "display_data"
    },
    {
     "name": "stderr",
     "output_type": "stream",
     "text": [
      "Epoch 65, global step 153846: 'val_loss' was not in top 1\n"
     ]
    },
    {
     "data": {
      "application/vnd.jupyter.widget-view+json": {
       "model_id": "a8851ed8d69b494fabb701730f0862f9",
       "version_major": 2,
       "version_minor": 0
      },
      "text/plain": [
       "Validation: |          | 0/? [00:00<?, ?it/s]"
      ]
     },
     "metadata": {},
     "output_type": "display_data"
    },
    {
     "name": "stderr",
     "output_type": "stream",
     "text": [
      "Epoch 66, global step 156177: 'val_loss' was not in top 1\n"
     ]
    },
    {
     "data": {
      "application/vnd.jupyter.widget-view+json": {
       "model_id": "35ac9864529a4f2cb81690e66ff1c15d",
       "version_major": 2,
       "version_minor": 0
      },
      "text/plain": [
       "Validation: |          | 0/? [00:00<?, ?it/s]"
      ]
     },
     "metadata": {},
     "output_type": "display_data"
    },
    {
     "name": "stderr",
     "output_type": "stream",
     "text": [
      "Epoch 67, global step 158508: 'val_loss' was not in top 1\n"
     ]
    },
    {
     "data": {
      "application/vnd.jupyter.widget-view+json": {
       "model_id": "8f1eb62e8f8d4ee09e445edcb1bcbdf3",
       "version_major": 2,
       "version_minor": 0
      },
      "text/plain": [
       "Validation: |          | 0/? [00:00<?, ?it/s]"
      ]
     },
     "metadata": {},
     "output_type": "display_data"
    },
    {
     "name": "stderr",
     "output_type": "stream",
     "text": [
      "Epoch 68, global step 160839: 'val_loss' was not in top 1\n"
     ]
    },
    {
     "data": {
      "application/vnd.jupyter.widget-view+json": {
       "model_id": "9471bb47e758471589d4c02ef074b80a",
       "version_major": 2,
       "version_minor": 0
      },
      "text/plain": [
       "Validation: |          | 0/? [00:00<?, ?it/s]"
      ]
     },
     "metadata": {},
     "output_type": "display_data"
    },
    {
     "name": "stderr",
     "output_type": "stream",
     "text": [
      "Epoch 69, global step 163170: 'val_loss' was not in top 1\n"
     ]
    },
    {
     "data": {
      "application/vnd.jupyter.widget-view+json": {
       "model_id": "80aa60946e4941f0a4f925c9863934e5",
       "version_major": 2,
       "version_minor": 0
      },
      "text/plain": [
       "Validation: |          | 0/? [00:00<?, ?it/s]"
      ]
     },
     "metadata": {},
     "output_type": "display_data"
    },
    {
     "name": "stderr",
     "output_type": "stream",
     "text": [
      "Epoch 70, global step 165501: 'val_loss' was not in top 1\n"
     ]
    },
    {
     "data": {
      "application/vnd.jupyter.widget-view+json": {
       "model_id": "22264079b28140ef911148a1b4eccdb1",
       "version_major": 2,
       "version_minor": 0
      },
      "text/plain": [
       "Validation: |          | 0/? [00:00<?, ?it/s]"
      ]
     },
     "metadata": {},
     "output_type": "display_data"
    },
    {
     "name": "stderr",
     "output_type": "stream",
     "text": [
      "Epoch 71, global step 167832: 'val_loss' was not in top 1\n"
     ]
    },
    {
     "data": {
      "application/vnd.jupyter.widget-view+json": {
       "model_id": "737dd77453154d1cbaf34ab66606590b",
       "version_major": 2,
       "version_minor": 0
      },
      "text/plain": [
       "Validation: |          | 0/? [00:00<?, ?it/s]"
      ]
     },
     "metadata": {},
     "output_type": "display_data"
    },
    {
     "name": "stderr",
     "output_type": "stream",
     "text": [
      "Epoch 72, global step 170163: 'val_loss' was not in top 1\n"
     ]
    },
    {
     "data": {
      "application/vnd.jupyter.widget-view+json": {
       "model_id": "7fe9b91968cd47e6bb47db8e265bca0b",
       "version_major": 2,
       "version_minor": 0
      },
      "text/plain": [
       "Validation: |          | 0/? [00:00<?, ?it/s]"
      ]
     },
     "metadata": {},
     "output_type": "display_data"
    },
    {
     "name": "stderr",
     "output_type": "stream",
     "text": [
      "Epoch 73, global step 172494: 'val_loss' was not in top 1\n"
     ]
    },
    {
     "data": {
      "application/vnd.jupyter.widget-view+json": {
       "model_id": "f07c0b86ebe74709aedd6587047ffb47",
       "version_major": 2,
       "version_minor": 0
      },
      "text/plain": [
       "Validation: |          | 0/? [00:00<?, ?it/s]"
      ]
     },
     "metadata": {},
     "output_type": "display_data"
    },
    {
     "name": "stderr",
     "output_type": "stream",
     "text": [
      "Epoch 74, global step 174825: 'val_loss' was not in top 1\n"
     ]
    },
    {
     "data": {
      "application/vnd.jupyter.widget-view+json": {
       "model_id": "28314672745f418d87554c27f02b42cb",
       "version_major": 2,
       "version_minor": 0
      },
      "text/plain": [
       "Validation: |          | 0/? [00:00<?, ?it/s]"
      ]
     },
     "metadata": {},
     "output_type": "display_data"
    },
    {
     "name": "stderr",
     "output_type": "stream",
     "text": [
      "Epoch 75, global step 177156: 'val_loss' was not in top 1\n"
     ]
    },
    {
     "data": {
      "application/vnd.jupyter.widget-view+json": {
       "model_id": "9fe6575cd09c4fe79736a99c1e946fc7",
       "version_major": 2,
       "version_minor": 0
      },
      "text/plain": [
       "Validation: |          | 0/? [00:00<?, ?it/s]"
      ]
     },
     "metadata": {},
     "output_type": "display_data"
    },
    {
     "name": "stderr",
     "output_type": "stream",
     "text": [
      "Epoch 76, global step 179487: 'val_loss' was not in top 1\n"
     ]
    },
    {
     "data": {
      "application/vnd.jupyter.widget-view+json": {
       "model_id": "5600326b77074fb1b868b97cf36754cc",
       "version_major": 2,
       "version_minor": 0
      },
      "text/plain": [
       "Validation: |          | 0/? [00:00<?, ?it/s]"
      ]
     },
     "metadata": {},
     "output_type": "display_data"
    },
    {
     "name": "stderr",
     "output_type": "stream",
     "text": [
      "Epoch 77, global step 181818: 'val_loss' was not in top 1\n"
     ]
    },
    {
     "data": {
      "application/vnd.jupyter.widget-view+json": {
       "model_id": "ba4a06336c43431d863c74b1228776af",
       "version_major": 2,
       "version_minor": 0
      },
      "text/plain": [
       "Validation: |          | 0/? [00:00<?, ?it/s]"
      ]
     },
     "metadata": {},
     "output_type": "display_data"
    },
    {
     "name": "stderr",
     "output_type": "stream",
     "text": [
      "Epoch 78, global step 184149: 'val_loss' was not in top 1\n"
     ]
    },
    {
     "data": {
      "application/vnd.jupyter.widget-view+json": {
       "model_id": "0614377243c943698bfe8cf30c79e3fa",
       "version_major": 2,
       "version_minor": 0
      },
      "text/plain": [
       "Validation: |          | 0/? [00:00<?, ?it/s]"
      ]
     },
     "metadata": {},
     "output_type": "display_data"
    },
    {
     "name": "stderr",
     "output_type": "stream",
     "text": [
      "Epoch 79, global step 186480: 'val_loss' reached 11.17548 (best 11.17548), saving model to '/home/mohammad.hallaq/workarea/MobileNet_compression/model_pruned_channel_pruning_Taylor_importance_amount_0.95.ckpt' as top 1\n"
     ]
    },
    {
     "name": "stdout",
     "output_type": "stream",
     "text": [
      "New best model saved with validation loss 11.1755\n"
     ]
    },
    {
     "data": {
      "application/vnd.jupyter.widget-view+json": {
       "model_id": "0c9e1352225f43d2997c8d77a252d6c7",
       "version_major": 2,
       "version_minor": 0
      },
      "text/plain": [
       "Validation: |          | 0/? [00:00<?, ?it/s]"
      ]
     },
     "metadata": {},
     "output_type": "display_data"
    },
    {
     "name": "stderr",
     "output_type": "stream",
     "text": [
      "Epoch 80, global step 188811: 'val_loss' was not in top 1\n"
     ]
    },
    {
     "data": {
      "application/vnd.jupyter.widget-view+json": {
       "model_id": "52b298ad7b24414ca2edb56b606c036b",
       "version_major": 2,
       "version_minor": 0
      },
      "text/plain": [
       "Validation: |          | 0/? [00:00<?, ?it/s]"
      ]
     },
     "metadata": {},
     "output_type": "display_data"
    },
    {
     "name": "stderr",
     "output_type": "stream",
     "text": [
      "Epoch 81, global step 191142: 'val_loss' reached 11.07899 (best 11.07899), saving model to '/home/mohammad.hallaq/workarea/MobileNet_compression/model_pruned_channel_pruning_Taylor_importance_amount_0.95.ckpt' as top 1\n"
     ]
    },
    {
     "name": "stdout",
     "output_type": "stream",
     "text": [
      "New best model saved with validation loss 11.0790\n"
     ]
    },
    {
     "data": {
      "application/vnd.jupyter.widget-view+json": {
       "model_id": "8c67e137d9af433a97fc7bfa7f49c17e",
       "version_major": 2,
       "version_minor": 0
      },
      "text/plain": [
       "Validation: |          | 0/? [00:00<?, ?it/s]"
      ]
     },
     "metadata": {},
     "output_type": "display_data"
    },
    {
     "name": "stderr",
     "output_type": "stream",
     "text": [
      "Epoch 82, global step 193473: 'val_loss' was not in top 1\n"
     ]
    },
    {
     "data": {
      "application/vnd.jupyter.widget-view+json": {
       "model_id": "3d0330641df9467289c1e908afd308f2",
       "version_major": 2,
       "version_minor": 0
      },
      "text/plain": [
       "Validation: |          | 0/? [00:00<?, ?it/s]"
      ]
     },
     "metadata": {},
     "output_type": "display_data"
    },
    {
     "name": "stderr",
     "output_type": "stream",
     "text": [
      "Epoch 83, global step 195804: 'val_loss' was not in top 1\n"
     ]
    },
    {
     "data": {
      "application/vnd.jupyter.widget-view+json": {
       "model_id": "dd19d783365f4811abe39b0ef104e35f",
       "version_major": 2,
       "version_minor": 0
      },
      "text/plain": [
       "Validation: |          | 0/? [00:00<?, ?it/s]"
      ]
     },
     "metadata": {},
     "output_type": "display_data"
    },
    {
     "name": "stderr",
     "output_type": "stream",
     "text": [
      "Epoch 84, global step 198135: 'val_loss' was not in top 1\n"
     ]
    },
    {
     "data": {
      "application/vnd.jupyter.widget-view+json": {
       "model_id": "c4c7f077ba1c4f13b09baf5d181fe365",
       "version_major": 2,
       "version_minor": 0
      },
      "text/plain": [
       "Validation: |          | 0/? [00:00<?, ?it/s]"
      ]
     },
     "metadata": {},
     "output_type": "display_data"
    },
    {
     "name": "stderr",
     "output_type": "stream",
     "text": [
      "Epoch 85, global step 200466: 'val_loss' was not in top 1\n"
     ]
    },
    {
     "data": {
      "application/vnd.jupyter.widget-view+json": {
       "model_id": "9466ae5c3ca549d190c310233cd56647",
       "version_major": 2,
       "version_minor": 0
      },
      "text/plain": [
       "Validation: |          | 0/? [00:00<?, ?it/s]"
      ]
     },
     "metadata": {},
     "output_type": "display_data"
    },
    {
     "name": "stderr",
     "output_type": "stream",
     "text": [
      "Epoch 86, global step 202797: 'val_loss' was not in top 1\n"
     ]
    },
    {
     "data": {
      "application/vnd.jupyter.widget-view+json": {
       "model_id": "ace56fc1d8494be7a230a61cb4388122",
       "version_major": 2,
       "version_minor": 0
      },
      "text/plain": [
       "Validation: |          | 0/? [00:00<?, ?it/s]"
      ]
     },
     "metadata": {},
     "output_type": "display_data"
    },
    {
     "name": "stderr",
     "output_type": "stream",
     "text": [
      "Epoch 87, global step 205128: 'val_loss' was not in top 1\n"
     ]
    },
    {
     "data": {
      "application/vnd.jupyter.widget-view+json": {
       "model_id": "ec00cbe375314879b47679cca5cd39f9",
       "version_major": 2,
       "version_minor": 0
      },
      "text/plain": [
       "Validation: |          | 0/? [00:00<?, ?it/s]"
      ]
     },
     "metadata": {},
     "output_type": "display_data"
    },
    {
     "name": "stderr",
     "output_type": "stream",
     "text": [
      "Epoch 88, global step 207459: 'val_loss' was not in top 1\n"
     ]
    },
    {
     "data": {
      "application/vnd.jupyter.widget-view+json": {
       "model_id": "4a7b533477074f6c95e7c49a3c833147",
       "version_major": 2,
       "version_minor": 0
      },
      "text/plain": [
       "Validation: |          | 0/? [00:00<?, ?it/s]"
      ]
     },
     "metadata": {},
     "output_type": "display_data"
    },
    {
     "name": "stderr",
     "output_type": "stream",
     "text": [
      "Epoch 89, global step 209790: 'val_loss' was not in top 1\n"
     ]
    },
    {
     "data": {
      "application/vnd.jupyter.widget-view+json": {
       "model_id": "b0403ae0ca994189954e33e733ccece5",
       "version_major": 2,
       "version_minor": 0
      },
      "text/plain": [
       "Validation: |          | 0/? [00:00<?, ?it/s]"
      ]
     },
     "metadata": {},
     "output_type": "display_data"
    },
    {
     "name": "stderr",
     "output_type": "stream",
     "text": [
      "Epoch 90, global step 212121: 'val_loss' was not in top 1\n"
     ]
    },
    {
     "data": {
      "application/vnd.jupyter.widget-view+json": {
       "model_id": "e7ff5650efd542db9e146c248fc0c4d4",
       "version_major": 2,
       "version_minor": 0
      },
      "text/plain": [
       "Validation: |          | 0/? [00:00<?, ?it/s]"
      ]
     },
     "metadata": {},
     "output_type": "display_data"
    },
    {
     "name": "stderr",
     "output_type": "stream",
     "text": [
      "Epoch 91, global step 214452: 'val_loss' was not in top 1\n"
     ]
    },
    {
     "data": {
      "application/vnd.jupyter.widget-view+json": {
       "model_id": "797376875c61412fa133bf461a5b6ed2",
       "version_major": 2,
       "version_minor": 0
      },
      "text/plain": [
       "Validation: |          | 0/? [00:00<?, ?it/s]"
      ]
     },
     "metadata": {},
     "output_type": "display_data"
    },
    {
     "name": "stderr",
     "output_type": "stream",
     "text": [
      "Epoch 92, global step 216783: 'val_loss' was not in top 1\n"
     ]
    },
    {
     "data": {
      "application/vnd.jupyter.widget-view+json": {
       "model_id": "ceaaaf440b6f43a396bae79eac4a48c4",
       "version_major": 2,
       "version_minor": 0
      },
      "text/plain": [
       "Validation: |          | 0/? [00:00<?, ?it/s]"
      ]
     },
     "metadata": {},
     "output_type": "display_data"
    },
    {
     "name": "stderr",
     "output_type": "stream",
     "text": [
      "Epoch 93, global step 219114: 'val_loss' was not in top 1\n"
     ]
    },
    {
     "data": {
      "application/vnd.jupyter.widget-view+json": {
       "model_id": "2c08789b1ac24d54ae42f8f3d3095b07",
       "version_major": 2,
       "version_minor": 0
      },
      "text/plain": [
       "Validation: |          | 0/? [00:00<?, ?it/s]"
      ]
     },
     "metadata": {},
     "output_type": "display_data"
    },
    {
     "name": "stderr",
     "output_type": "stream",
     "text": [
      "Epoch 94, global step 221445: 'val_loss' reached 11.07297 (best 11.07297), saving model to '/home/mohammad.hallaq/workarea/MobileNet_compression/model_pruned_channel_pruning_Taylor_importance_amount_0.95.ckpt' as top 1\n"
     ]
    },
    {
     "name": "stdout",
     "output_type": "stream",
     "text": [
      "New best model saved with validation loss 11.0730\n"
     ]
    },
    {
     "data": {
      "application/vnd.jupyter.widget-view+json": {
       "model_id": "05c389dc1b4e4b068ec676b4c1e7f526",
       "version_major": 2,
       "version_minor": 0
      },
      "text/plain": [
       "Validation: |          | 0/? [00:00<?, ?it/s]"
      ]
     },
     "metadata": {},
     "output_type": "display_data"
    },
    {
     "name": "stderr",
     "output_type": "stream",
     "text": [
      "Epoch 95, global step 223776: 'val_loss' was not in top 1\n"
     ]
    },
    {
     "data": {
      "application/vnd.jupyter.widget-view+json": {
       "model_id": "4d5e8e1ddb854ea2b8fd97fe37e4910c",
       "version_major": 2,
       "version_minor": 0
      },
      "text/plain": [
       "Validation: |          | 0/? [00:00<?, ?it/s]"
      ]
     },
     "metadata": {},
     "output_type": "display_data"
    },
    {
     "name": "stderr",
     "output_type": "stream",
     "text": [
      "Epoch 96, global step 226107: 'val_loss' was not in top 1\n"
     ]
    },
    {
     "data": {
      "application/vnd.jupyter.widget-view+json": {
       "model_id": "30945e48aaa64742a9b674125d446647",
       "version_major": 2,
       "version_minor": 0
      },
      "text/plain": [
       "Validation: |          | 0/? [00:00<?, ?it/s]"
      ]
     },
     "metadata": {},
     "output_type": "display_data"
    },
    {
     "name": "stderr",
     "output_type": "stream",
     "text": [
      "Epoch 97, global step 228438: 'val_loss' was not in top 1\n"
     ]
    },
    {
     "data": {
      "application/vnd.jupyter.widget-view+json": {
       "model_id": "ff540a77623540c1ab2a8f3ce3fbef90",
       "version_major": 2,
       "version_minor": 0
      },
      "text/plain": [
       "Validation: |          | 0/? [00:00<?, ?it/s]"
      ]
     },
     "metadata": {},
     "output_type": "display_data"
    },
    {
     "name": "stderr",
     "output_type": "stream",
     "text": [
      "Epoch 98, global step 230769: 'val_loss' was not in top 1\n"
     ]
    },
    {
     "data": {
      "application/vnd.jupyter.widget-view+json": {
       "model_id": "01e20c4f440f4c45a2b25a5a68833f28",
       "version_major": 2,
       "version_minor": 0
      },
      "text/plain": [
       "Validation: |          | 0/? [00:00<?, ?it/s]"
      ]
     },
     "metadata": {},
     "output_type": "display_data"
    },
    {
     "name": "stderr",
     "output_type": "stream",
     "text": [
      "Epoch 99, global step 233100: 'val_loss' was not in top 1\n",
      "`Trainer.fit` stopped: `max_epochs=100` reached.\n"
     ]
    },
    {
     "name": "stdout",
     "output_type": "stream",
     "text": [
      "Model channel_pruning_Taylor_importance at 95.0% pruning saved. Size: 0.24 MB, Validation Loss: 11.844345092773438, \n",
      "This is the analysis result: \n",
      "                                           model_name  model_size_mb  \\\n",
      "0                                  original_unpruned       6.526157   \n",
      "1  model_pruned_channel_pruning_Taylor_importance...       0.240189   \n",
      "2                                               None            NaN   \n",
      "\n",
      "   validation_loss training_time inference_time  pruning_percentage  \\\n",
      "0              NaN          None           None                 0.0   \n",
      "1        11.844345          None           None                95.0   \n",
      "2              NaN          None           None                 NaN   \n",
      "\n",
      "                      pruning_method  \n",
      "0                               None  \n",
      "1  channel_pruning_Taylor_importance  \n",
      "2                               None  \n"
     ]
    }
   ],
   "source": [
    "for method in pruning_methods:\n",
    "    for amount in pruning_amounts:\n",
    "        # print(\"Skipped a pruning method ...\")\n",
    "        train_model_with_pruning(rf_classifier.model, method, method, train_loader, val_loader, amount)\n",
    "\n",
    "max_len = max(len(lst) for lst in analysis_results.values())\n",
    "\n",
    "for key in analysis_results:\n",
    "    if len(analysis_results[key]) < max_len:\n",
    "     \n",
    "        analysis_results[key].extend([None] * (max_len - len(analysis_results[key])))\n",
    "\n",
    "\n",
    "results_df = pd.DataFrame(analysis_results)\n",
    "print(\"This is the analysis result: \\n\", results_df)"
   ]
  }
 ],
 "metadata": {
  "kernelspec": {
   "display_name": "venv",
   "language": "python",
   "name": "python3"
  },
  "language_info": {
   "codemirror_mode": {
    "name": "ipython",
    "version": 3
   },
   "file_extension": ".py",
   "mimetype": "text/x-python",
   "name": "python",
   "nbconvert_exporter": "python",
   "pygments_lexer": "ipython3",
   "version": "3.10.12"
  }
 },
 "nbformat": 4,
 "nbformat_minor": 2
}
